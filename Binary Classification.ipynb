{
 "cells": [
  {
   "cell_type": "markdown",
   "id": "9a5cc5c9",
   "metadata": {},
   "source": [
    "# Predicting Depression: Data Cleaning and Visualization"
   ]
  },
  {
   "cell_type": "markdown",
   "id": "31bd2c5c",
   "metadata": {},
   "source": [
    " \n",
    "  "
   ]
  },
  {
   "cell_type": "markdown",
   "id": "2d0e6aa1",
   "metadata": {},
   "source": [
    "__________________________\n",
    "**Tags:** *Machine Learning*, *Binary Classification*, *Predictive Analysis*, *Data Visualization*\n",
    "\n",
    "**Techniques**: *Imputation*, *Scaling*, *OneHotEncoding*\n",
    "\n",
    "**Python:** *Scikit-Learn*, *Pandas*, *Matplotlib*, *Seaborn* (see below for full list)\n",
    "__________________________"
   ]
  },
  {
   "cell_type": "markdown",
   "id": "91bf6cd0",
   "metadata": {},
   "source": [
    "__________________________\n",
    "**Scenario:** A large university wants to proactively support student mental health through targeted interventions. \n",
    "They have surveyed 28,000 students in order to gain insights about which factors are likely contributing to depression. In the process, an early-warning system should be implemented. Students who fill out the survey in the future should receive a statistical prediction of their depression status, so they can seek help if needed. Our role is to develop such a statistical ML model.\n",
    "\n",
    "\n",
    "**Goal:** We want to build a Machine Learning model that predicts a student's depression status *True* (1) or *False* (0). For this purpose, we are going to explore and describe the data and build a binary classifier using state-of-the-art Python packages. In the process, we hope to learn something new about the disease from the model. \n",
    "\n",
    "\n",
    "**Dataset:** We are given a (toy) dataset containing a list of students and their demographics, lifestyle habits, academic performance, and depression status. The dataset is taken from Kaggle. Author: Shodolamu Opeyemi, Title: \"Student Depression Dataset.\", https://www.kaggle.com/datasets/hopesb/student-depression-dataset\n",
    "\n",
    "__________________________"
   ]
  },
  {
   "cell_type": "markdown",
   "id": "1d567dcf",
   "metadata": {},
   "source": [
    "__________________________\n",
    "## Contents"
   ]
  },
  {
   "cell_type": "markdown",
   "id": "a19abe03",
   "metadata": {},
   "source": [
    "1. **Preliminary considerations**\n",
    "<p> </p>\n",
    "2. **Exploring and cleaning the data**\n",
    "<p> </p>\n",
    "3. **Selecting and building models**\n",
    "__________________________"
   ]
  },
  {
   "cell_type": "markdown",
   "id": "2a02b2dd",
   "metadata": {},
   "source": [
    "__________________________\n",
    "# 1. Preliminary considerations"
   ]
  },
  {
   "cell_type": "markdown",
   "id": "5f2e11df",
   "metadata": {},
   "source": [
    " "
   ]
  },
  {
   "cell_type": "markdown",
   "id": "2ec42b73",
   "metadata": {},
   "source": [
    "### 1.1 Legal and ethical considerations\n",
    "In this notebook, we are dealing with fake data. In a real setting, the above scenario raises issues of ethical and legal concern. As data scientists, we are responsible for ethical data manipulation that adheres to legal standards, like the [GDPR in the European Union](https://eur-lex.europa.eu/eli/reg/2016/679/oj/eng). Under the GDPR framework, parts of this dataset would be considered sensitive data, which carries legal implications in how the data is obtained, handled and distributed."
   ]
  },
  {
   "cell_type": "markdown",
   "id": "da864ce5",
   "metadata": {},
   "source": [
    "### 1.2 Performance measure\n",
    "Under the given scenario, we are going to measure our model performance by setting aside a test set and comparing the results of our model candidates, leading to a confusion matrix. We will prefer the Precision-Recall (PR) curve over the Receiver Operating Characteristic (ROC) curve. This is because we would like to maximize the number of true positives, a false positive is not as bad as a false negative. In other words, accidentally suggesting a depression-free student to seek counselling is better than failing to give such a recommendation to a student with an actual depression."
   ]
  },
  {
   "cell_type": "markdown",
   "id": "cd078146",
   "metadata": {},
   "source": [
    "### 1.3 Model candidates and general plan\n",
    "To keep this demonstration simple, we will consider only two models of the Scikit Package: *Logistic Regression* and *Decision Tree Classifier*. We would like to cross-validate them on a validation set and tune their parameters, before we finalize the model development and evaluate its performance on the test set.\n",
    "__________________________"
   ]
  },
  {
   "cell_type": "markdown",
   "id": "81c54447",
   "metadata": {},
   "source": [
    " "
   ]
  },
  {
   "cell_type": "markdown",
   "id": "d9618f79",
   "metadata": {},
   "source": [
    "### Relevant packages used throughout this notebook"
   ]
  },
  {
   "cell_type": "code",
   "execution_count": 1,
   "id": "49020858",
   "metadata": {},
   "outputs": [],
   "source": [
    "import numpy as np\n",
    "import pandas as pd\n",
    "import matplotlib.pyplot as plt\n",
    "import matplotlib as mpl\n",
    "import seaborn as sns\n",
    "\n",
    "from sklearn.preprocessing import MinMaxScaler\n",
    "from sklearn.preprocessing import OneHotEncoder\n",
    "from sklearn.impute import SimpleImputer\n",
    "from sklearn.model_selection import train_test_split\n",
    "from sklearn.model_selection import cross_val_predict\n",
    "from sklearn.tree import DecisionTreeClassifier\n",
    "from sklearn.linear_model import LogisticRegression\n",
    "from sklearn.metrics import confusion_matrix"
   ]
  },
  {
   "cell_type": "markdown",
   "id": "46da9ac3",
   "metadata": {},
   "source": [
    "### Reproducibility\n",
    "\n",
    "According to the [Scikit Learn User Guide](https://scikit-learn.org/stable/common_pitfalls.html#general-recommendations), the recommended way to control random instances is to create an RNG variable at the top and pass it to any object with a *random_state* parameter."
   ]
  },
  {
   "cell_type": "code",
   "execution_count": 2,
   "id": "2bf883a9",
   "metadata": {},
   "outputs": [],
   "source": [
    "rng = np.random.RandomState(0)"
   ]
  },
  {
   "cell_type": "markdown",
   "id": "e8564a54",
   "metadata": {},
   "source": [
    "<p> <br> </p>\n",
    "<p> <br> </p>\n",
    "<p> <br> </p>\n",
    "<p> <br> </p>\n",
    "<p> <br> </p>"
   ]
  },
  {
   "cell_type": "markdown",
   "id": "3a6492d3",
   "metadata": {},
   "source": [
    "## 2. Exploring and Cleaning the Data"
   ]
  },
  {
   "cell_type": "markdown",
   "id": "0c69c704",
   "metadata": {},
   "source": [
    "## 2.1 Data Exploration"
   ]
  },
  {
   "cell_type": "code",
   "execution_count": 3,
   "id": "ef4a82f2",
   "metadata": {},
   "outputs": [
    {
     "data": {
      "text/plain": [
       "(27901, 18)"
      ]
     },
     "execution_count": 3,
     "metadata": {},
     "output_type": "execute_result"
    }
   ],
   "source": [
    "df = pd.read_csv('Depression Prediction Dataset.csv') #available here: https://www.kaggle.com/datasets/hopesb/student-depression-dataset\n",
    "df.shape"
   ]
  },
  {
   "cell_type": "markdown",
   "id": "611c50f4",
   "metadata": {},
   "source": [
    "Let us first get a broad overview of the dataset."
   ]
  },
  {
   "cell_type": "code",
   "execution_count": 4,
   "id": "c5c9d57b",
   "metadata": {},
   "outputs": [
    {
     "data": {
      "text/html": [
       "<div>\n",
       "<style scoped>\n",
       "    .dataframe tbody tr th:only-of-type {\n",
       "        vertical-align: middle;\n",
       "    }\n",
       "\n",
       "    .dataframe tbody tr th {\n",
       "        vertical-align: top;\n",
       "    }\n",
       "\n",
       "    .dataframe thead th {\n",
       "        text-align: right;\n",
       "    }\n",
       "</style>\n",
       "<table border=\"1\" class=\"dataframe\">\n",
       "  <thead>\n",
       "    <tr style=\"text-align: right;\">\n",
       "      <th></th>\n",
       "      <th>id</th>\n",
       "      <th>Gender</th>\n",
       "      <th>Age</th>\n",
       "      <th>City</th>\n",
       "      <th>Profession</th>\n",
       "      <th>Academic Pressure</th>\n",
       "      <th>Work Pressure</th>\n",
       "      <th>CGPA</th>\n",
       "      <th>Study Satisfaction</th>\n",
       "      <th>Job Satisfaction</th>\n",
       "      <th>Sleep Duration</th>\n",
       "      <th>Dietary Habits</th>\n",
       "      <th>Degree</th>\n",
       "      <th>Have you ever had suicidal thoughts ?</th>\n",
       "      <th>Work/Study Hours</th>\n",
       "      <th>Financial Stress</th>\n",
       "      <th>Family History of Mental Illness</th>\n",
       "      <th>Depression</th>\n",
       "    </tr>\n",
       "  </thead>\n",
       "  <tbody>\n",
       "    <tr>\n",
       "      <th>0</th>\n",
       "      <td>2</td>\n",
       "      <td>Male</td>\n",
       "      <td>33.0</td>\n",
       "      <td>Visakhapatnam</td>\n",
       "      <td>Student</td>\n",
       "      <td>5.0</td>\n",
       "      <td>0.0</td>\n",
       "      <td>8.97</td>\n",
       "      <td>2.0</td>\n",
       "      <td>0.0</td>\n",
       "      <td>5-6 hours</td>\n",
       "      <td>Healthy</td>\n",
       "      <td>B.Pharm</td>\n",
       "      <td>Yes</td>\n",
       "      <td>3.0</td>\n",
       "      <td>1.0</td>\n",
       "      <td>No</td>\n",
       "      <td>1</td>\n",
       "    </tr>\n",
       "    <tr>\n",
       "      <th>1</th>\n",
       "      <td>8</td>\n",
       "      <td>Female</td>\n",
       "      <td>24.0</td>\n",
       "      <td>Bangalore</td>\n",
       "      <td>Student</td>\n",
       "      <td>2.0</td>\n",
       "      <td>0.0</td>\n",
       "      <td>5.90</td>\n",
       "      <td>5.0</td>\n",
       "      <td>0.0</td>\n",
       "      <td>5-6 hours</td>\n",
       "      <td>Moderate</td>\n",
       "      <td>BSc</td>\n",
       "      <td>No</td>\n",
       "      <td>3.0</td>\n",
       "      <td>2.0</td>\n",
       "      <td>Yes</td>\n",
       "      <td>0</td>\n",
       "    </tr>\n",
       "    <tr>\n",
       "      <th>2</th>\n",
       "      <td>26</td>\n",
       "      <td>Male</td>\n",
       "      <td>31.0</td>\n",
       "      <td>Srinagar</td>\n",
       "      <td>Student</td>\n",
       "      <td>3.0</td>\n",
       "      <td>0.0</td>\n",
       "      <td>7.03</td>\n",
       "      <td>5.0</td>\n",
       "      <td>0.0</td>\n",
       "      <td>Less than 5 hours</td>\n",
       "      <td>Healthy</td>\n",
       "      <td>BA</td>\n",
       "      <td>No</td>\n",
       "      <td>9.0</td>\n",
       "      <td>1.0</td>\n",
       "      <td>Yes</td>\n",
       "      <td>0</td>\n",
       "    </tr>\n",
       "    <tr>\n",
       "      <th>3</th>\n",
       "      <td>30</td>\n",
       "      <td>Female</td>\n",
       "      <td>28.0</td>\n",
       "      <td>Varanasi</td>\n",
       "      <td>Student</td>\n",
       "      <td>3.0</td>\n",
       "      <td>0.0</td>\n",
       "      <td>5.59</td>\n",
       "      <td>2.0</td>\n",
       "      <td>0.0</td>\n",
       "      <td>7-8 hours</td>\n",
       "      <td>Moderate</td>\n",
       "      <td>BCA</td>\n",
       "      <td>Yes</td>\n",
       "      <td>4.0</td>\n",
       "      <td>5.0</td>\n",
       "      <td>Yes</td>\n",
       "      <td>1</td>\n",
       "    </tr>\n",
       "    <tr>\n",
       "      <th>4</th>\n",
       "      <td>32</td>\n",
       "      <td>Female</td>\n",
       "      <td>25.0</td>\n",
       "      <td>Jaipur</td>\n",
       "      <td>Student</td>\n",
       "      <td>4.0</td>\n",
       "      <td>0.0</td>\n",
       "      <td>8.13</td>\n",
       "      <td>3.0</td>\n",
       "      <td>0.0</td>\n",
       "      <td>5-6 hours</td>\n",
       "      <td>Moderate</td>\n",
       "      <td>M.Tech</td>\n",
       "      <td>Yes</td>\n",
       "      <td>1.0</td>\n",
       "      <td>1.0</td>\n",
       "      <td>No</td>\n",
       "      <td>0</td>\n",
       "    </tr>\n",
       "  </tbody>\n",
       "</table>\n",
       "</div>"
      ],
      "text/plain": [
       "   id  Gender   Age           City Profession  Academic Pressure  \\\n",
       "0   2    Male  33.0  Visakhapatnam    Student                5.0   \n",
       "1   8  Female  24.0      Bangalore    Student                2.0   \n",
       "2  26    Male  31.0       Srinagar    Student                3.0   \n",
       "3  30  Female  28.0       Varanasi    Student                3.0   \n",
       "4  32  Female  25.0         Jaipur    Student                4.0   \n",
       "\n",
       "   Work Pressure  CGPA  Study Satisfaction  Job Satisfaction  \\\n",
       "0            0.0  8.97                 2.0               0.0   \n",
       "1            0.0  5.90                 5.0               0.0   \n",
       "2            0.0  7.03                 5.0               0.0   \n",
       "3            0.0  5.59                 2.0               0.0   \n",
       "4            0.0  8.13                 3.0               0.0   \n",
       "\n",
       "      Sleep Duration Dietary Habits   Degree  \\\n",
       "0          5-6 hours        Healthy  B.Pharm   \n",
       "1          5-6 hours       Moderate      BSc   \n",
       "2  Less than 5 hours        Healthy       BA   \n",
       "3          7-8 hours       Moderate      BCA   \n",
       "4          5-6 hours       Moderate   M.Tech   \n",
       "\n",
       "  Have you ever had suicidal thoughts ?  Work/Study Hours  Financial Stress  \\\n",
       "0                                   Yes               3.0               1.0   \n",
       "1                                    No               3.0               2.0   \n",
       "2                                    No               9.0               1.0   \n",
       "3                                   Yes               4.0               5.0   \n",
       "4                                   Yes               1.0               1.0   \n",
       "\n",
       "  Family History of Mental Illness  Depression  \n",
       "0                               No           1  \n",
       "1                              Yes           0  \n",
       "2                              Yes           0  \n",
       "3                              Yes           1  \n",
       "4                               No           0  "
      ]
     },
     "execution_count": 4,
     "metadata": {},
     "output_type": "execute_result"
    }
   ],
   "source": [
    "df.head()"
   ]
  },
  {
   "cell_type": "markdown",
   "id": "dfa8f7a4",
   "metadata": {},
   "source": [
    "For each instance, that is a unique student, we are given 18 features, including a unique ID and the target variable 'Depression'. The feature types are of categorical, ordinal and numerical nature. The following data types are used in the dataframe:"
   ]
  },
  {
   "cell_type": "code",
   "execution_count": 5,
   "id": "59acc151",
   "metadata": {
    "scrolled": false
   },
   "outputs": [
    {
     "name": "stdout",
     "output_type": "stream",
     "text": [
      "<class 'pandas.core.frame.DataFrame'>\n",
      "RangeIndex: 27901 entries, 0 to 27900\n",
      "Data columns (total 18 columns):\n",
      " #   Column                                 Non-Null Count  Dtype  \n",
      "---  ------                                 --------------  -----  \n",
      " 0   id                                     27901 non-null  int64  \n",
      " 1   Gender                                 27901 non-null  object \n",
      " 2   Age                                    27901 non-null  float64\n",
      " 3   City                                   27901 non-null  object \n",
      " 4   Profession                             27901 non-null  object \n",
      " 5   Academic Pressure                      27901 non-null  float64\n",
      " 6   Work Pressure                          27901 non-null  float64\n",
      " 7   CGPA                                   27901 non-null  float64\n",
      " 8   Study Satisfaction                     27901 non-null  float64\n",
      " 9   Job Satisfaction                       27901 non-null  float64\n",
      " 10  Sleep Duration                         27901 non-null  object \n",
      " 11  Dietary Habits                         27901 non-null  object \n",
      " 12  Degree                                 27901 non-null  object \n",
      " 13  Have you ever had suicidal thoughts ?  27901 non-null  object \n",
      " 14  Work/Study Hours                       27901 non-null  float64\n",
      " 15  Financial Stress                       27898 non-null  float64\n",
      " 16  Family History of Mental Illness       27901 non-null  object \n",
      " 17  Depression                             27901 non-null  int64  \n",
      "dtypes: float64(8), int64(2), object(8)\n",
      "memory usage: 3.8+ MB\n"
     ]
    }
   ],
   "source": [
    "df.info()"
   ]
  },
  {
   "cell_type": "markdown",
   "id": "356ea7b0",
   "metadata": {},
   "source": [
    "The dataset contains a list of about 28,000 students, which is fairly small for Machine Learning techniques. As we imported a CSV file, we know the object values are all text attributes. Moreover we can see that a few values are missing in the #15 'Financial Stress' feature. We will deal with this problem later. For now, let us further explore the numerical features."
   ]
  },
  {
   "cell_type": "code",
   "execution_count": 6,
   "id": "bbb92846",
   "metadata": {},
   "outputs": [
    {
     "data": {
      "text/html": [
       "<div>\n",
       "<style scoped>\n",
       "    .dataframe tbody tr th:only-of-type {\n",
       "        vertical-align: middle;\n",
       "    }\n",
       "\n",
       "    .dataframe tbody tr th {\n",
       "        vertical-align: top;\n",
       "    }\n",
       "\n",
       "    .dataframe thead th {\n",
       "        text-align: right;\n",
       "    }\n",
       "</style>\n",
       "<table border=\"1\" class=\"dataframe\">\n",
       "  <thead>\n",
       "    <tr style=\"text-align: right;\">\n",
       "      <th></th>\n",
       "      <th>id</th>\n",
       "      <th>Age</th>\n",
       "      <th>Academic Pressure</th>\n",
       "      <th>Work Pressure</th>\n",
       "      <th>CGPA</th>\n",
       "      <th>Study Satisfaction</th>\n",
       "      <th>Job Satisfaction</th>\n",
       "      <th>Work/Study Hours</th>\n",
       "      <th>Financial Stress</th>\n",
       "      <th>Depression</th>\n",
       "    </tr>\n",
       "  </thead>\n",
       "  <tbody>\n",
       "    <tr>\n",
       "      <th>count</th>\n",
       "      <td>27901.000000</td>\n",
       "      <td>27901.000000</td>\n",
       "      <td>27901.000000</td>\n",
       "      <td>27901.000000</td>\n",
       "      <td>27901.000000</td>\n",
       "      <td>27901.000000</td>\n",
       "      <td>27901.000000</td>\n",
       "      <td>27901.000000</td>\n",
       "      <td>27898.000000</td>\n",
       "      <td>27901.000000</td>\n",
       "    </tr>\n",
       "    <tr>\n",
       "      <th>mean</th>\n",
       "      <td>70442.149421</td>\n",
       "      <td>25.822300</td>\n",
       "      <td>3.141214</td>\n",
       "      <td>0.000430</td>\n",
       "      <td>7.656104</td>\n",
       "      <td>2.943837</td>\n",
       "      <td>0.000681</td>\n",
       "      <td>7.156984</td>\n",
       "      <td>3.139867</td>\n",
       "      <td>0.585499</td>\n",
       "    </tr>\n",
       "    <tr>\n",
       "      <th>std</th>\n",
       "      <td>40641.175216</td>\n",
       "      <td>4.905687</td>\n",
       "      <td>1.381465</td>\n",
       "      <td>0.043992</td>\n",
       "      <td>1.470707</td>\n",
       "      <td>1.361148</td>\n",
       "      <td>0.044394</td>\n",
       "      <td>3.707642</td>\n",
       "      <td>1.437347</td>\n",
       "      <td>0.492645</td>\n",
       "    </tr>\n",
       "    <tr>\n",
       "      <th>min</th>\n",
       "      <td>2.000000</td>\n",
       "      <td>18.000000</td>\n",
       "      <td>0.000000</td>\n",
       "      <td>0.000000</td>\n",
       "      <td>0.000000</td>\n",
       "      <td>0.000000</td>\n",
       "      <td>0.000000</td>\n",
       "      <td>0.000000</td>\n",
       "      <td>1.000000</td>\n",
       "      <td>0.000000</td>\n",
       "    </tr>\n",
       "    <tr>\n",
       "      <th>25%</th>\n",
       "      <td>35039.000000</td>\n",
       "      <td>21.000000</td>\n",
       "      <td>2.000000</td>\n",
       "      <td>0.000000</td>\n",
       "      <td>6.290000</td>\n",
       "      <td>2.000000</td>\n",
       "      <td>0.000000</td>\n",
       "      <td>4.000000</td>\n",
       "      <td>2.000000</td>\n",
       "      <td>0.000000</td>\n",
       "    </tr>\n",
       "    <tr>\n",
       "      <th>50%</th>\n",
       "      <td>70684.000000</td>\n",
       "      <td>25.000000</td>\n",
       "      <td>3.000000</td>\n",
       "      <td>0.000000</td>\n",
       "      <td>7.770000</td>\n",
       "      <td>3.000000</td>\n",
       "      <td>0.000000</td>\n",
       "      <td>8.000000</td>\n",
       "      <td>3.000000</td>\n",
       "      <td>1.000000</td>\n",
       "    </tr>\n",
       "    <tr>\n",
       "      <th>75%</th>\n",
       "      <td>105818.000000</td>\n",
       "      <td>30.000000</td>\n",
       "      <td>4.000000</td>\n",
       "      <td>0.000000</td>\n",
       "      <td>8.920000</td>\n",
       "      <td>4.000000</td>\n",
       "      <td>0.000000</td>\n",
       "      <td>10.000000</td>\n",
       "      <td>4.000000</td>\n",
       "      <td>1.000000</td>\n",
       "    </tr>\n",
       "    <tr>\n",
       "      <th>max</th>\n",
       "      <td>140699.000000</td>\n",
       "      <td>59.000000</td>\n",
       "      <td>5.000000</td>\n",
       "      <td>5.000000</td>\n",
       "      <td>10.000000</td>\n",
       "      <td>5.000000</td>\n",
       "      <td>4.000000</td>\n",
       "      <td>12.000000</td>\n",
       "      <td>5.000000</td>\n",
       "      <td>1.000000</td>\n",
       "    </tr>\n",
       "  </tbody>\n",
       "</table>\n",
       "</div>"
      ],
      "text/plain": [
       "                  id           Age  Academic Pressure  Work Pressure  \\\n",
       "count   27901.000000  27901.000000       27901.000000   27901.000000   \n",
       "mean    70442.149421     25.822300           3.141214       0.000430   \n",
       "std     40641.175216      4.905687           1.381465       0.043992   \n",
       "min         2.000000     18.000000           0.000000       0.000000   \n",
       "25%     35039.000000     21.000000           2.000000       0.000000   \n",
       "50%     70684.000000     25.000000           3.000000       0.000000   \n",
       "75%    105818.000000     30.000000           4.000000       0.000000   \n",
       "max    140699.000000     59.000000           5.000000       5.000000   \n",
       "\n",
       "               CGPA  Study Satisfaction  Job Satisfaction  Work/Study Hours  \\\n",
       "count  27901.000000        27901.000000      27901.000000      27901.000000   \n",
       "mean       7.656104            2.943837          0.000681          7.156984   \n",
       "std        1.470707            1.361148          0.044394          3.707642   \n",
       "min        0.000000            0.000000          0.000000          0.000000   \n",
       "25%        6.290000            2.000000          0.000000          4.000000   \n",
       "50%        7.770000            3.000000          0.000000          8.000000   \n",
       "75%        8.920000            4.000000          0.000000         10.000000   \n",
       "max       10.000000            5.000000          4.000000         12.000000   \n",
       "\n",
       "       Financial Stress    Depression  \n",
       "count      27898.000000  27901.000000  \n",
       "mean           3.139867      0.585499  \n",
       "std            1.437347      0.492645  \n",
       "min            1.000000      0.000000  \n",
       "25%            2.000000      0.000000  \n",
       "50%            3.000000      1.000000  \n",
       "75%            4.000000      1.000000  \n",
       "max            5.000000      1.000000  "
      ]
     },
     "execution_count": 6,
     "metadata": {},
     "output_type": "execute_result"
    }
   ],
   "source": [
    "df.describe()"
   ]
  },
  {
   "cell_type": "markdown",
   "id": "671daed3",
   "metadata": {},
   "source": [
    "For now, the data does not seem too extraordinary. A few points to consider:\n",
    "\n",
    "* As a kind of sanity check, at least 75 per cent of the people are 30 or younger, which is what we would expect from a dataset containing students.\n",
    "<p> <br> </p>\n",
    "* Something is going on with the work pressure and job satisfaction features: there are at least 75 per cent of zero values given in these features.\n",
    "<p> <br> </p>\n",
    "* 58.5 per cent of the surveyed students are suffering from depression. This value seems relatively high compared to the general population, so in a real setting, we would have to inquire where such a high prevalence is coming from."
   ]
  },
  {
   "cell_type": "code",
   "execution_count": 7,
   "id": "9a94e203",
   "metadata": {
    "scrolled": true
   },
   "outputs": [
    {
     "data": {
      "text/html": [
       "<div>\n",
       "<style scoped>\n",
       "    .dataframe tbody tr th:only-of-type {\n",
       "        vertical-align: middle;\n",
       "    }\n",
       "\n",
       "    .dataframe tbody tr th {\n",
       "        vertical-align: top;\n",
       "    }\n",
       "\n",
       "    .dataframe thead th {\n",
       "        text-align: right;\n",
       "    }\n",
       "</style>\n",
       "<table border=\"1\" class=\"dataframe\">\n",
       "  <thead>\n",
       "    <tr style=\"text-align: right;\">\n",
       "      <th></th>\n",
       "      <th>Gender</th>\n",
       "      <th>City</th>\n",
       "      <th>Profession</th>\n",
       "      <th>Sleep Duration</th>\n",
       "      <th>Dietary Habits</th>\n",
       "      <th>Degree</th>\n",
       "      <th>Have you ever had suicidal thoughts ?</th>\n",
       "      <th>Family History of Mental Illness</th>\n",
       "    </tr>\n",
       "  </thead>\n",
       "  <tbody>\n",
       "    <tr>\n",
       "      <th>count</th>\n",
       "      <td>27901</td>\n",
       "      <td>27901</td>\n",
       "      <td>27901</td>\n",
       "      <td>27901</td>\n",
       "      <td>27901</td>\n",
       "      <td>27901</td>\n",
       "      <td>27901</td>\n",
       "      <td>27901</td>\n",
       "    </tr>\n",
       "    <tr>\n",
       "      <th>unique</th>\n",
       "      <td>2</td>\n",
       "      <td>52</td>\n",
       "      <td>14</td>\n",
       "      <td>5</td>\n",
       "      <td>4</td>\n",
       "      <td>28</td>\n",
       "      <td>2</td>\n",
       "      <td>2</td>\n",
       "    </tr>\n",
       "    <tr>\n",
       "      <th>top</th>\n",
       "      <td>Male</td>\n",
       "      <td>Kalyan</td>\n",
       "      <td>Student</td>\n",
       "      <td>Less than 5 hours</td>\n",
       "      <td>Unhealthy</td>\n",
       "      <td>Class 12</td>\n",
       "      <td>Yes</td>\n",
       "      <td>No</td>\n",
       "    </tr>\n",
       "    <tr>\n",
       "      <th>freq</th>\n",
       "      <td>15547</td>\n",
       "      <td>1570</td>\n",
       "      <td>27870</td>\n",
       "      <td>8310</td>\n",
       "      <td>10317</td>\n",
       "      <td>6080</td>\n",
       "      <td>17656</td>\n",
       "      <td>14398</td>\n",
       "    </tr>\n",
       "  </tbody>\n",
       "</table>\n",
       "</div>"
      ],
      "text/plain": [
       "       Gender    City Profession     Sleep Duration Dietary Habits    Degree  \\\n",
       "count   27901   27901      27901              27901          27901     27901   \n",
       "unique      2      52         14                  5              4        28   \n",
       "top      Male  Kalyan    Student  Less than 5 hours      Unhealthy  Class 12   \n",
       "freq    15547    1570      27870               8310          10317      6080   \n",
       "\n",
       "       Have you ever had suicidal thoughts ? Family History of Mental Illness  \n",
       "count                                  27901                            27901  \n",
       "unique                                     2                                2  \n",
       "top                                      Yes                               No  \n",
       "freq                                   17656                            14398  "
      ]
     },
     "execution_count": 7,
     "metadata": {},
     "output_type": "execute_result"
    }
   ],
   "source": [
    "df.describe(include=object)"
   ]
  },
  {
   "cell_type": "markdown",
   "id": "c1b6fee4",
   "metadata": {},
   "source": [
    "Let us list all occuring values of the categorical features, like so:"
   ]
  },
  {
   "cell_type": "code",
   "execution_count": 8,
   "id": "1fb49853",
   "metadata": {
    "scrolled": false
   },
   "outputs": [
    {
     "name": "stdout",
     "output_type": "stream",
     "text": [
      "Gender\n",
      "['Male' 'Female'] \n",
      "\n",
      "City\n",
      "['Visakhapatnam' 'Bangalore' 'Srinagar' 'Varanasi' 'Jaipur' 'Pune' 'Thane'\n",
      " 'Chennai' 'Nagpur' 'Nashik' 'Vadodara' 'Kalyan' 'Rajkot' 'Ahmedabad'\n",
      " 'Kolkata' 'Mumbai' 'Lucknow' 'Indore' 'Surat' 'Ludhiana' 'Bhopal'\n",
      " 'Meerut' 'Agra' 'Ghaziabad' 'Hyderabad' 'Vasai-Virar' 'Kanpur' 'Patna'\n",
      " 'Faridabad' 'Delhi' 'Saanvi' 'M.Tech' 'Bhavna' 'Less Delhi' 'City' '3.0'\n",
      " 'Less than 5 Kalyan' 'Mira' 'Harsha' 'Vaanya' 'Gaurav' 'Harsh' 'Reyansh'\n",
      " 'Kibara' 'Rashi' 'ME' 'M.Com' 'Nalyan' 'Mihir' 'Nalini' 'Nandini'\n",
      " 'Khaziabad'] \n",
      "\n",
      "Profession\n",
      "['Student' 'Civil Engineer' 'Architect' 'UX/UI Designer'\n",
      " 'Digital Marketer' 'Content Writer' 'Educational Consultant' 'Teacher'\n",
      " 'Manager' 'Chef' 'Doctor' 'Lawyer' 'Entrepreneur' 'Pharmacist'] \n",
      "\n",
      "Sleep Duration\n",
      "['5-6 hours' 'Less than 5 hours' '7-8 hours' 'More than 8 hours' 'Others'] \n",
      "\n",
      "Dietary Habits\n",
      "['Healthy' 'Moderate' 'Unhealthy' 'Others'] \n",
      "\n",
      "Degree\n",
      "['B.Pharm' 'BSc' 'BA' 'BCA' 'M.Tech' 'PhD' 'Class 12' 'B.Ed' 'LLB' 'BE'\n",
      " 'M.Ed' 'MSc' 'BHM' 'M.Pharm' 'MCA' 'MA' 'B.Com' 'MD' 'MBA' 'MBBS' 'M.Com'\n",
      " 'B.Arch' 'LLM' 'B.Tech' 'BBA' 'ME' 'MHM' 'Others'] \n",
      "\n",
      "Have you ever had suicidal thoughts ?\n",
      "['Yes' 'No'] \n",
      "\n",
      "Family History of Mental Illness\n",
      "['No' 'Yes'] \n",
      "\n"
     ]
    }
   ],
   "source": [
    "for feature in df.select_dtypes(include=object):\n",
    "    print(feature)\n",
    "    print(df[feature].unique(), '\\n')"
   ]
  },
  {
   "cell_type": "markdown",
   "id": "ba5b5b00",
   "metadata": {},
   "source": [
    "Clearly, there are a few irregularities present, however we will not worry about them right now. \n",
    "\n",
    "In a real scenario, this would be a good moment to create a test set and put it aside for now, lest we recognize patterns that could possibly lead to bias in our model selection. Before evaluating our model, we would only work with the training data. To keep the code simple, we instead clean the whole dataset at once and only split them into training set and test set afterwards."
   ]
  },
  {
   "cell_type": "markdown",
   "id": "547d5831",
   "metadata": {},
   "source": [
    "Let us plot some useful variables in histograms:"
   ]
  },
  {
   "cell_type": "code",
   "execution_count": 9,
   "id": "6cf46940",
   "metadata": {
    "scrolled": false
   },
   "outputs": [
    {
     "data": {
      "image/png": "[encoded data removed]",
      "text/plain": [
       "<Figure size 1200x700 with 9 Axes>"
      ]
     },
     "metadata": {},
     "output_type": "display_data"
    }
   ],
   "source": [
    "#selecting relevant features\n",
    "hist_columns = [2, 5, 6, 7, 8, 9, 14, 15]\n",
    "\n",
    "#formatting the plots\n",
    "plt.rc('xtick', labelsize=8)\n",
    "plt.rc('ytick', labelsize=8)\n",
    "\n",
    "#plotting\n",
    "df.iloc[:, hist_columns].hist(bins=30, figsize=(12,7))\n",
    "plt.show()"
   ]
  },
  {
   "cell_type": "markdown",
   "id": "52e5cbb6",
   "metadata": {},
   "source": [
    "Now is a good time to split the data into a training and a test set:"
   ]
  },
  {
   "cell_type": "code",
   "execution_count": 10,
   "id": "43342432",
   "metadata": {},
   "outputs": [],
   "source": [
    "df_train, df_test = train_test_split(df, test_size=0.2, random_state=rng)"
   ]
  },
  {
   "cell_type": "markdown",
   "id": "db78b1ce",
   "metadata": {},
   "source": [
    "Let us now plot some continuous variables (Age, CGPA) against the depression status."
   ]
  },
  {
   "cell_type": "code",
   "execution_count": 11,
   "id": "929579f7",
   "metadata": {
    "scrolled": true
   },
   "outputs": [
    {
     "data": {
      "image/png": "[encoded data removed]",
      "text/plain": [
       "<Figure size 500x300 with 1 Axes>"
      ]
     },
     "metadata": {},
     "output_type": "display_data"
    }
   ],
   "source": [
    "sns.set_style('whitegrid')\n",
    "tfont = {'fontname':'Noto Sans', 'fontsize':12}\n",
    "sfont = {'fontname':'Noto Sans', 'fontsize':8}\n",
    "\n",
    "plt.figure(figsize=(5,3))\n",
    "sns.violinplot(data=df_train, x='Depression', y='Age', hue='Gender', \n",
    "               split=True, palette=\"Set2\", saturation=0.9, order=[1, 0])\n",
    "sns.despine()\n",
    "\n",
    "plt.ylim(15,37)\n",
    "plt.xlabel('')\n",
    "plt.ylabel('')\n",
    "plt.xticks([0, 1], ['Depression', 'No Depression'])\n",
    "plt.yticks([20, 25, 30, 35])\n",
    "plt.suptitle('  Age Distribution', y=1.05, **tfont)\n",
    "plt.title('by Depression Status', y=1, pad=15, **sfont)\n",
    "plt.legend(loc='upper left', bbox_to_anchor=(1, 1))\n",
    "plt.show()"
   ]
  },
  {
   "cell_type": "markdown",
   "id": "b84f42c4",
   "metadata": {},
   "source": [
    "From this graph we can observe that students with depression are generally younger than people without. This holds across all genders."
   ]
  },
  {
   "cell_type": "code",
   "execution_count": 12,
   "id": "2303f629",
   "metadata": {
    "scrolled": false
   },
   "outputs": [
    {
     "data": {
      "image/png": "[encoded data removed]",
      "text/plain": [
       "<Figure size 500x300 with 1 Axes>"
      ]
     },
     "metadata": {},
     "output_type": "display_data"
    }
   ],
   "source": [
    "sns.set_style('whitegrid')\n",
    "tfont = {'fontname':'Noto Sans', 'fontsize':12}\n",
    "sfont = {'fontname':'Noto Sans', 'fontsize':8}\n",
    "\n",
    "plt.figure(figsize=(5,3))\n",
    "sns.violinplot(data=df_train, x='Depression', y='CGPA', hue='Gender', \n",
    "               split=True, palette=\"Set2\", saturation=0.9, order=[1, 0])\n",
    "sns.despine()\n",
    "\n",
    "plt.ylim(4.5, 10.5)\n",
    "plt.xticks([0, 1], ['Depression', 'No Depression'])\n",
    "plt.xlabel('')\n",
    "plt.ylabel('')\n",
    "plt.suptitle('  CGPA Distribution', y=1.05, **tfont)\n",
    "plt.title('by Depression Status', y=1, pad=15, **sfont)\n",
    "plt.legend(loc='upper left', bbox_to_anchor=(1, 1))\n",
    "plt.show()"
   ]
  },
  {
   "cell_type": "markdown",
   "id": "e3025d97",
   "metadata": {},
   "source": [
    "The *CGPA* feature looks about identically distributed across students with and without depression, likewise across all genders."
   ]
  },
  {
   "cell_type": "code",
   "execution_count": 13,
   "id": "bef1bfe6",
   "metadata": {},
   "outputs": [
    {
     "data": {
      "image/png": "[encoded data removed]",
      "text/plain": [
       "<Figure size 1200x300 with 3 Axes>"
      ]
     },
     "metadata": {},
     "output_type": "display_data"
    }
   ],
   "source": [
    "study = df_train[df_train['Study Satisfaction'] > 0]\n",
    "female_study = study[study['Gender']=='Female']\n",
    "male_study = study[study['Gender']=='Male']\n",
    "\n",
    "sns.set_style('white')\n",
    "plt.figure(figsize=(12,3))\n",
    "plt.suptitle('Study Satisfaction', y=1.1, **tfont)\n",
    "\n",
    "\n",
    "plt.subplot(1,3,1)\n",
    "sns.heatmap(pd.crosstab(columns=study['Depression'], \n",
    "                   index=study['Study Satisfaction']).sort_index(axis=0, ascending=False),\n",
    "           annot=True, fmt=\"g\", cmap=\"BuPu\", cbar=False,\n",
    "           xticklabels=['No Depression', 'Depression'], yticklabels=np.arange(5,0,-1))\n",
    "plt.title('Aggregated\\n', **sfont)\n",
    "plt.xlabel('')\n",
    "plt.ylabel('')\n",
    "\n",
    "\n",
    "plt.subplot(1,3,2)\n",
    "sns.heatmap(pd.crosstab(columns=female_study['Depression'], \n",
    "                   index=female_study['Study Satisfaction']).sort_index(axis=0, ascending=False),\n",
    "           annot=True, fmt=\"g\", cmap=\"Oranges\", cbar=False,\n",
    "           xticklabels=['No Depression', 'Depression'], yticklabels=np.arange(5,0,-1))\n",
    "plt.title('Female\\n', **sfont)\n",
    "plt.xlabel('')\n",
    "plt.ylabel('')\n",
    "\n",
    "\n",
    "plt.subplot(1,3,3)\n",
    "sns.heatmap(pd.crosstab(columns=male_study['Depression'], \n",
    "                   index=male_study['Study Satisfaction']).sort_index(axis=0, ascending=False),\n",
    "           annot=True, fmt=\"g\", cmap=\"Greens\", cbar=False,\n",
    "           xticklabels=['No Depression', 'Depression'], yticklabels=np.arange(5,0,-1))\n",
    "plt.title('Male\\n', **sfont)\n",
    "plt.xlabel('')\n",
    "plt.ylabel('')\n",
    "\n",
    "plt.show()"
   ]
  },
  {
   "cell_type": "markdown",
   "id": "cc0dc8eb",
   "metadata": {},
   "source": [
    "From these tables we can observe that depressed students are much more unsatisfied with their studies. Again, this is true for all genders."
   ]
  },
  {
   "cell_type": "code",
   "execution_count": 14,
   "id": "b320ac61",
   "metadata": {},
   "outputs": [
    {
     "data": {
      "image/png": "[encoded data removed]",
      "text/plain": [
       "<Figure size 1200x300 with 3 Axes>"
      ]
     },
     "metadata": {},
     "output_type": "display_data"
    }
   ],
   "source": [
    "female = df_train[df_train['Gender']=='Female']\n",
    "male = df_train[df_train['Gender']=='Male']\n",
    "\n",
    "plt.figure(figsize=(12,3))\n",
    "plt.suptitle('Financial Stress', y=1.1, **tfont)\n",
    "\n",
    "\n",
    "plt.subplot(1,3,1)\n",
    "sns.heatmap(pd.crosstab(columns=df_train['Depression'], \n",
    "                   index=df_train['Financial Stress']).sort_index(axis=0, ascending=False),\n",
    "           annot=True, fmt=\"g\", cmap=\"BuPu\", cbar=False,\n",
    "           xticklabels=['No Depression', 'Depression'], yticklabels=np.arange(5,0,-1))\n",
    "plt.title('Aggregated\\n', **sfont)\n",
    "plt.xlabel('')\n",
    "plt.ylabel('')\n",
    "\n",
    "\n",
    "plt.subplot(1,3,2)\n",
    "sns.heatmap(pd.crosstab(columns=female['Depression'], \n",
    "                   index=female['Financial Stress']).sort_index(axis=0, ascending=False),\n",
    "           annot=True, fmt=\"g\", cmap=\"Oranges\", cbar=False,\n",
    "           xticklabels=['No Depression', 'Depression'], yticklabels=np.arange(5,0,-1))\n",
    "plt.title('Female\\n', **sfont)\n",
    "plt.xlabel('')\n",
    "plt.ylabel('')\n",
    "\n",
    "\n",
    "plt.subplot(1,3,3)\n",
    "sns.heatmap(pd.crosstab(columns=male['Depression'], \n",
    "                   index=male['Financial Stress']).sort_index(axis=0, ascending=False),\n",
    "           annot=True, fmt=\"g\", cmap=\"Greens\", cbar=False,\n",
    "           xticklabels=['No Depression', 'Depression'], yticklabels=np.arange(5,0,-1))\n",
    "plt.title('Male\\n', **sfont)\n",
    "plt.xlabel('')\n",
    "plt.ylabel('')\n",
    "\n",
    "plt.show()"
   ]
  },
  {
   "cell_type": "markdown",
   "id": "5d095a6a",
   "metadata": {},
   "source": [
    "Here we can see that higher financial stress correlates positively with depression."
   ]
  },
  {
   "cell_type": "markdown",
   "id": "607591e5",
   "metadata": {},
   "source": [
    "It might be more useful to consider fewer sleep categories. Let us change the feature values accordingly."
   ]
  },
  {
   "cell_type": "code",
   "execution_count": 15,
   "id": "3d864a6e",
   "metadata": {},
   "outputs": [],
   "source": [
    "df_train.loc[df_train['Sleep Duration'].isin(['7-8 hours', 'More than 8 hours']), 'Sleep_Cat'] = 'At least 7 hours'\n",
    "df_train.loc[df_train['Sleep Duration'].isin(['5-6 hours', 'Less than 5 hours']), 'Sleep_Cat'] = 'At most 6 hours'\n",
    "df_train = df_train.drop('Sleep Duration', axis=1)"
   ]
  },
  {
   "cell_type": "code",
   "execution_count": 16,
   "id": "c204f3f8",
   "metadata": {},
   "outputs": [
    {
     "data": {
      "image/png": "[encoded data removed]",
      "text/plain": [
       "<Figure size 1200x300 with 3 Axes>"
      ]
     },
     "metadata": {},
     "output_type": "display_data"
    }
   ],
   "source": [
    "sleep = df_train[df_train['Sleep_Cat']!= \"nan\"]\n",
    "female_sleep = sleep[sleep['Gender']=='Female']\n",
    "male_sleep = sleep[sleep['Gender']=='Male']\n",
    "\n",
    "plt.figure(figsize=(12,3))\n",
    "plt.suptitle('Sleep Duration', y=1.1, **tfont)\n",
    "\n",
    "\n",
    "plt.subplot(1,3,1)\n",
    "sns.heatmap(pd.crosstab(columns=sleep['Depression'], \n",
    "                        index=sleep['Sleep_Cat']),\n",
    "           annot=True, fmt=\"g\", cmap=\"BuPu\", cbar=False,\n",
    "           xticklabels=['No Depression', 'Depression'])\n",
    "plt.title('Aggregated\\n', **sfont)\n",
    "plt.xlabel('')\n",
    "plt.ylabel('')\n",
    "\n",
    "\n",
    "plt.subplot(1,3,2)\n",
    "sns.heatmap(pd.crosstab(columns=female_sleep['Depression'], \n",
    "                   index=female_sleep['Sleep_Cat']),\n",
    "           annot=True, fmt=\"g\", cmap=\"Oranges\", cbar=False,\n",
    "           xticklabels=['No Depression', 'Depression'], yticklabels=[])\n",
    "plt.title('Female\\n', **sfont)\n",
    "plt.xlabel('')\n",
    "plt.ylabel('')\n",
    "\n",
    "\n",
    "plt.subplot(1,3,3)\n",
    "sns.heatmap(pd.crosstab(columns=male_sleep['Depression'], \n",
    "                   index=male_sleep['Sleep_Cat']),\n",
    "           annot=True, fmt=\"g\", cmap=\"Greens\", cbar=False,\n",
    "           xticklabels=['No Depression', 'Depression'], yticklabels=[])\n",
    "plt.title('Male\\n', **sfont)\n",
    "plt.xlabel('')\n",
    "plt.ylabel('')\n",
    "\n",
    "plt.show()"
   ]
  },
  {
   "cell_type": "markdown",
   "id": "fa75f73d",
   "metadata": {},
   "source": [
    "While sleep duration is more or less evenly distributed among non-depressed students, it is evident that students suffering from depression are much more likely to sleep less."
   ]
  },
  {
   "cell_type": "markdown",
   "id": "1445590c",
   "metadata": {},
   "source": [
    "We can easily observe some more irregularities in the data:\n",
    "\n",
    "* *Age* and *CGPA* values have some outliers outside a range wherein most values lie. Likewise, there are a few zero values in the *Academic Pressure* and *Study Satisfaction* features which we have to deal with.\n",
    "<p> </p>\n",
    "* As we have suspected, features *Work Pressure* and *Job Satisfaction* are fundamentally flawed, consisting mostly of the same value (= 0). We will verify this once more by listing all non-zero values. (If there would have been more instances of non-zero values, leading to a massively long list, computing percentiles would also have been an option.)"
   ]
  },
  {
   "cell_type": "code",
   "execution_count": 17,
   "id": "a053e128",
   "metadata": {},
   "outputs": [
    {
     "data": {
      "text/plain": [
       "14855    2.0\n",
       "4365     5.0\n",
       "25746    5.0\n",
       "Name: Work Pressure, dtype: float64"
      ]
     },
     "execution_count": 17,
     "metadata": {},
     "output_type": "execute_result"
    }
   ],
   "source": [
    "workpressure = df_train['Work Pressure']\n",
    "workpressure[workpressure>0]"
   ]
  },
  {
   "cell_type": "code",
   "execution_count": 18,
   "id": "0bedb61f",
   "metadata": {},
   "outputs": [
    {
     "data": {
      "text/plain": [
       "23141    2.0\n",
       "292      3.0\n",
       "14855    1.0\n",
       "4365     4.0\n",
       "13909    2.0\n",
       "25746    4.0\n",
       "20913    1.0\n",
       "Name: Job Satisfaction, dtype: float64"
      ]
     },
     "execution_count": 18,
     "metadata": {},
     "output_type": "execute_result"
    }
   ],
   "source": [
    "jobsatisfaction = df_train['Job Satisfaction']\n",
    "jobsatisfaction[jobsatisfaction>0]"
   ]
  },
  {
   "cell_type": "markdown",
   "id": "d09d23b6",
   "metadata": {},
   "source": [
    "* Let us do something similar for the CGPA. Putting our strongest magnifying lens to use, we can spot a few zero values in this histogram, though most of the values seem to begin around 5. Our evaluation confirms this this suspicion: although it shows a value of 5.03, students are probably evaluated between 5 and 10 in this particular CGPA system."
   ]
  },
  {
   "cell_type": "code",
   "execution_count": 19,
   "id": "c6d97608",
   "metadata": {},
   "outputs": [
    {
     "data": {
      "text/plain": [
       "5.03"
      ]
     },
     "execution_count": 19,
     "metadata": {},
     "output_type": "execute_result"
    }
   ],
   "source": [
    "cgpa = df_train['CGPA']\n",
    "min(cgpa[cgpa>0])"
   ]
  },
  {
   "cell_type": "markdown",
   "id": "7939e4f9",
   "metadata": {},
   "source": [
    "* Furthermore, we can easily locate the invisible age line in the boxplot. It must be somewhere between 30 and 40, so by trying a few values, we find the line to be at 35 years. Only 49 students are at least 35 years old."
   ]
  },
  {
   "cell_type": "code",
   "execution_count": 20,
   "id": "161589ad",
   "metadata": {},
   "outputs": [
    {
     "data": {
      "text/plain": [
       "43"
      ]
     },
     "execution_count": 20,
     "metadata": {},
     "output_type": "execute_result"
    }
   ],
   "source": [
    "ages = df_train['Age']\n",
    "len(ages[ages>=35])"
   ]
  },
  {
   "cell_type": "markdown",
   "id": "ccb819a0",
   "metadata": {},
   "source": [
    "Finally, let us get a glance of the categorical variables. "
   ]
  },
  {
   "cell_type": "code",
   "execution_count": 21,
   "id": "87859b67",
   "metadata": {},
   "outputs": [
    {
     "data": {
      "text/html": [
       "<div>\n",
       "<style scoped>\n",
       "    .dataframe tbody tr th:only-of-type {\n",
       "        vertical-align: middle;\n",
       "    }\n",
       "\n",
       "    .dataframe tbody tr th {\n",
       "        vertical-align: top;\n",
       "    }\n",
       "\n",
       "    .dataframe thead th {\n",
       "        text-align: right;\n",
       "    }\n",
       "</style>\n",
       "<table border=\"1\" class=\"dataframe\">\n",
       "  <thead>\n",
       "    <tr style=\"text-align: right;\">\n",
       "      <th></th>\n",
       "      <th>Gender</th>\n",
       "      <th>City</th>\n",
       "      <th>Profession</th>\n",
       "      <th>Dietary Habits</th>\n",
       "      <th>Degree</th>\n",
       "      <th>Have you ever had suicidal thoughts ?</th>\n",
       "    </tr>\n",
       "  </thead>\n",
       "  <tbody>\n",
       "    <tr>\n",
       "      <th>count</th>\n",
       "      <td>22320</td>\n",
       "      <td>22320</td>\n",
       "      <td>22320</td>\n",
       "      <td>22320</td>\n",
       "      <td>22320</td>\n",
       "      <td>22320</td>\n",
       "    </tr>\n",
       "    <tr>\n",
       "      <th>unique</th>\n",
       "      <td>2</td>\n",
       "      <td>45</td>\n",
       "      <td>13</td>\n",
       "      <td>4</td>\n",
       "      <td>28</td>\n",
       "      <td>2</td>\n",
       "    </tr>\n",
       "    <tr>\n",
       "      <th>top</th>\n",
       "      <td>Male</td>\n",
       "      <td>Kalyan</td>\n",
       "      <td>Student</td>\n",
       "      <td>Unhealthy</td>\n",
       "      <td>Class 12</td>\n",
       "      <td>Yes</td>\n",
       "    </tr>\n",
       "    <tr>\n",
       "      <th>freq</th>\n",
       "      <td>12456</td>\n",
       "      <td>1258</td>\n",
       "      <td>22297</td>\n",
       "      <td>8223</td>\n",
       "      <td>4866</td>\n",
       "      <td>14156</td>\n",
       "    </tr>\n",
       "  </tbody>\n",
       "</table>\n",
       "</div>"
      ],
      "text/plain": [
       "       Gender    City Profession Dietary Habits    Degree  \\\n",
       "count   22320   22320      22320          22320     22320   \n",
       "unique      2      45         13              4        28   \n",
       "top      Male  Kalyan    Student      Unhealthy  Class 12   \n",
       "freq    12456    1258      22297           8223      4866   \n",
       "\n",
       "       Have you ever had suicidal thoughts ?  \n",
       "count                                  22320  \n",
       "unique                                     2  \n",
       "top                                      Yes  \n",
       "freq                                   14156  "
      ]
     },
     "execution_count": 21,
     "metadata": {},
     "output_type": "execute_result"
    }
   ],
   "source": [
    "categorical = [1, 3, 4, 10, 11, 12, 13, 16]\n",
    "df_train.iloc[:, categorical].describe(include='object')"
   ]
  },
  {
   "cell_type": "markdown",
   "id": "32496c43",
   "metadata": {},
   "source": [
    "We notice that there are no unfilled values, and the features are self-explanatory. Now, let us identify the most frequent values for each feature."
   ]
  },
  {
   "cell_type": "code",
   "execution_count": 22,
   "id": "7d7463ae",
   "metadata": {
    "scrolled": false
   },
   "outputs": [
    {
     "name": "stdout",
     "output_type": "stream",
     "text": [
      "variable: Gender\n",
      "Gender\n",
      "Male      12456\n",
      "Female     9864\n",
      "Name: count, dtype: int64\n",
      "\n",
      "\n",
      "variable: City\n",
      "City\n",
      "Kalyan                1258\n",
      "Srinagar              1113\n",
      "Hyderabad             1084\n",
      "Vasai-Virar           1020\n",
      "Thane                  930\n",
      "Lucknow                919\n",
      "Ludhiana               879\n",
      "Agra                   874\n",
      "Surat                  851\n",
      "Jaipur                 815\n",
      "Kolkata                812\n",
      "Patna                  792\n",
      "Visakhapatnam          777\n",
      "Pune                   775\n",
      "Ahmedabad              774\n",
      "Bhopal                 743\n",
      "Chennai                720\n",
      "Meerut                 670\n",
      "Rajkot                 654\n",
      "Bangalore              609\n",
      "Delhi                  594\n",
      "Ghaziabad              587\n",
      "Vadodara               573\n",
      "Mumbai                 565\n",
      "Varanasi               554\n",
      "Indore                 524\n",
      "Nagpur                 522\n",
      "Kanpur                 499\n",
      "Nashik                 437\n",
      "Faridabad              379\n",
      "City                     2\n",
      "Harsha                   2\n",
      "Less Delhi               1\n",
      "Less than 5 Kalyan       1\n",
      "Gaurav                   1\n",
      "M.Com                    1\n",
      "Nalyan                   1\n",
      "Bhavna                   1\n",
      "Reyansh                  1\n",
      "Saanvi                   1\n",
      "Rashi                    1\n",
      "Mira                     1\n",
      "Harsh                    1\n",
      "Kibara                   1\n",
      "3.0                      1\n",
      "Name: count, dtype: int64\n",
      "\n",
      "\n",
      "variable: Profession\n",
      "Profession\n",
      "Student                   22297\n",
      "Architect                     5\n",
      "Teacher                       4\n",
      "Digital Marketer              3\n",
      "Pharmacist                    2\n",
      "Content Writer                2\n",
      "Chef                          1\n",
      "UX/UI Designer                1\n",
      "Lawyer                        1\n",
      "Educational Consultant        1\n",
      "Manager                       1\n",
      "Doctor                        1\n",
      "Civil Engineer                1\n",
      "Name: count, dtype: int64\n",
      "\n",
      "\n",
      "variable: Dietary Habits\n",
      "Dietary Habits\n",
      "Unhealthy    8223\n",
      "Moderate     8016\n",
      "Healthy      6072\n",
      "Others          9\n",
      "Name: count, dtype: int64\n",
      "\n",
      "\n",
      "variable: Degree\n",
      "Degree\n",
      "Class 12    4866\n",
      "B.Ed        1490\n",
      "B.Com       1191\n",
      "B.Arch      1181\n",
      "BCA         1145\n",
      "MSc          940\n",
      "B.Tech       904\n",
      "MCA          825\n",
      "M.Tech       813\n",
      "BSc          723\n",
      "BHM          721\n",
      "M.Ed         671\n",
      "B.Pharm      664\n",
      "M.Com        595\n",
      "MBBS         566\n",
      "BBA          565\n",
      "LLB          513\n",
      "BE           504\n",
      "BA           489\n",
      "MD           470\n",
      "MBA          460\n",
      "M.Pharm      460\n",
      "MA           444\n",
      "PhD          418\n",
      "LLM          383\n",
      "ME           151\n",
      "MHM          136\n",
      "Others        32\n",
      "Name: count, dtype: int64\n",
      "\n",
      "\n",
      "variable: Have you ever had suicidal thoughts ?\n",
      "Have you ever had suicidal thoughts ?\n",
      "Yes    14156\n",
      "No      8164\n",
      "Name: count, dtype: int64\n",
      "\n",
      "\n",
      "variable: Work/Study Hours\n",
      "Work/Study Hours\n",
      "10.0    3418\n",
      "12.0    2557\n",
      "11.0    2275\n",
      "8.0     2029\n",
      "6.0     1808\n",
      "9.0     1650\n",
      "7.0     1590\n",
      "0.0     1351\n",
      "4.0     1276\n",
      "2.0     1239\n",
      "3.0     1174\n",
      "5.0     1048\n",
      "1.0      905\n",
      "Name: count, dtype: int64\n",
      "\n",
      "\n",
      "variable: Depression\n",
      "Depression\n",
      "1    13081\n",
      "0     9239\n",
      "Name: count, dtype: int64\n",
      "\n",
      "\n"
     ]
    }
   ],
   "source": [
    "for col in categorical:\n",
    "    print('variable:', df_train.columns[col])\n",
    "    print(df_train.iloc[:, col].value_counts())\n",
    "    print(\"\\n\")"
   ]
  },
  {
   "cell_type": "markdown",
   "id": "a0e237f2",
   "metadata": {},
   "source": [
    "The data looks plausible. We notice that the dataset consists mostly of students from Indian cities, of which there are slightly more males than females. Additionally, there are some rare values in the features *Profession*, *Sleep Duration* and *Dietary Habits*."
   ]
  },
  {
   "cell_type": "markdown",
   "id": "ea04ef7c",
   "metadata": {},
   "source": [
    "## 2.2 Dataset Cleaning"
   ]
  },
  {
   "cell_type": "markdown",
   "id": "a8473e1c",
   "metadata": {},
   "source": [
    "Let us summarize the *Degree* feature into more useful categories: High School diploma, Bachelor degree, Master degree, PhD. This will be stored in a new feature called *Degree_Cat*. The old feature column will be dropped."
   ]
  },
  {
   "cell_type": "code",
   "execution_count": 23,
   "id": "0d871591",
   "metadata": {},
   "outputs": [
    {
     "data": {
      "text/plain": [
       "array(['M.Pharm', 'ME', 'B.Ed', 'B.Arch', 'LLB', 'B.Tech', 'Class 12',\n",
       "       'BE', 'MCA', 'B.Com', 'B.Pharm', 'BA', 'BBA', 'PhD', 'M.Ed', 'BHM',\n",
       "       'BSc', 'BCA', 'MD', 'LLM', 'MA', 'MSc', 'M.Tech', 'MBA', 'MHM',\n",
       "       'M.Com', 'MBBS', 'Others'], dtype=object)"
      ]
     },
     "execution_count": 23,
     "metadata": {},
     "output_type": "execute_result"
    }
   ],
   "source": [
    "df_train['Degree'].unique()"
   ]
  },
  {
   "cell_type": "code",
   "execution_count": 24,
   "id": "0d3e4cc7",
   "metadata": {},
   "outputs": [],
   "source": [
    "bachelor = ['B.Pharm', 'BSc', 'BA', 'BCA', 'B.Ed', 'LLB', 'BE', 'BHM', 'B.Com', 'B.Arch', 'B.Tech', 'BBA']\n",
    "master = ['M.Tech', 'M.Ed', 'MSc', 'M.Pharm', 'MCA', 'MA',  'MD', 'MBA', 'MBBS', 'M.Com', 'LLM', 'ME', 'MHM']\n",
    "\n",
    "df_train.loc[df_train['Degree'] == 'PhD', 'Degree_Cat'] = 'PhD'\n",
    "df_train.loc[df_train['Degree'].isin(master), 'Degree_Cat'] = 'Master'\n",
    "df_train.loc[df_train['Degree'].isin(bachelor), 'Degree_Cat'] = 'Bachelor'\n",
    "df_train.loc[df_train['Degree'] == 'Class 12', 'Degree_Cat'] = 'High School'"
   ]
  },
  {
   "cell_type": "code",
   "execution_count": 25,
   "id": "9d9b9679",
   "metadata": {},
   "outputs": [
    {
     "data": {
      "text/plain": [
       "Degree_Cat\n",
       "Bachelor       10090\n",
       "High School     4866\n",
       "Master          6914\n",
       "PhD              418\n",
       "Name: count, dtype: int64"
      ]
     },
     "execution_count": 25,
     "metadata": {},
     "output_type": "execute_result"
    }
   ],
   "source": [
    "df_train = df_train[df_train['Degree_Cat'] != \"nan\"]\n",
    "df_train = df_train.drop('Degree', axis=1)\n",
    "df_train['Degree_Cat'].value_counts().sort_index()"
   ]
  },
  {
   "cell_type": "markdown",
   "id": "1cfe20a6",
   "metadata": {},
   "source": [
    "Let us codify the binary features into classic boolean values."
   ]
  },
  {
   "cell_type": "code",
   "execution_count": 26,
   "id": "364e0a7f",
   "metadata": {},
   "outputs": [
    {
     "data": {
      "text/plain": [
       "Thoughts\n",
       "1    14136\n",
       "0     8152\n",
       "Name: count, dtype: int64"
      ]
     },
     "execution_count": 26,
     "metadata": {},
     "output_type": "execute_result"
    }
   ],
   "source": [
    "df_train = df_train.rename(columns={'Have you ever had suicidal thoughts ?': 'Thoughts'})\n",
    "df_train['Thoughts'] = df_train['Thoughts'].replace(\"Yes\", 1)\n",
    "df_train['Thoughts'] = df_train['Thoughts'].replace(\"No\", 0)\n",
    "df_train['Thoughts'].value_counts()"
   ]
  },
  {
   "cell_type": "code",
   "execution_count": 27,
   "id": "7ae6cdb0",
   "metadata": {},
   "outputs": [
    {
     "data": {
      "text/plain": [
       "Family History\n",
       "0    11523\n",
       "1    10765\n",
       "Name: count, dtype: int64"
      ]
     },
     "execution_count": 27,
     "metadata": {},
     "output_type": "execute_result"
    }
   ],
   "source": [
    "df_train = df_train.rename(columns={'Family History of Mental Illness': 'Family History'})\n",
    "df_train['Family History'] = df_train['Family History'].replace(\"Yes\", 1)\n",
    "df_train['Family History'] = df_train['Family History'].replace(\"No\", 0)\n",
    "df_train['Family History'].value_counts()"
   ]
  },
  {
   "cell_type": "code",
   "execution_count": 28,
   "id": "8cf8d2a6",
   "metadata": {},
   "outputs": [
    {
     "data": {
      "text/plain": [
       "Female\n",
       "0    12438\n",
       "1     9850\n",
       "Name: count, dtype: int64"
      ]
     },
     "execution_count": 28,
     "metadata": {},
     "output_type": "execute_result"
    }
   ],
   "source": [
    "df_train = df_train.rename(columns={'Gender': 'Female'})\n",
    "df_train['Female'] = df_train['Female'].replace(\"Female\", 1)\n",
    "df_train['Female'] = df_train['Female'].replace(\"Male\", 0)\n",
    "df_train['Female'].value_counts()"
   ]
  },
  {
   "cell_type": "code",
   "execution_count": 29,
   "id": "484512d5",
   "metadata": {},
   "outputs": [
    {
     "data": {
      "text/plain": [
       "Sleep_Cat\n",
       "0      11597\n",
       "1      10679\n",
       "nan       12\n",
       "Name: count, dtype: int64"
      ]
     },
     "execution_count": 29,
     "metadata": {},
     "output_type": "execute_result"
    }
   ],
   "source": [
    "df_train['Sleep_Cat'] = df_train['Sleep_Cat'].replace(\"At least 7 hours\", 1)\n",
    "df_train['Sleep_Cat'] = df_train['Sleep_Cat'].replace(\"At most 6 hours\", 0)\n",
    "df_train['Sleep_Cat'].value_counts()"
   ]
  },
  {
   "cell_type": "markdown",
   "id": "cf08640a",
   "metadata": {},
   "source": [
    "Now we will deal with instances with at least one rare attribute. For the *Age* feature, since most values lie between 18 and 35 years, we will assign all values above 35 to this new maximum. By doing so, we do not have to delete any additional instances. For features *Academic Pressure* and *Study Satisfaction*, a similar approach is not plausible, hence we drop the outliers."
   ]
  },
  {
   "cell_type": "code",
   "execution_count": 30,
   "id": "b03b5940",
   "metadata": {},
   "outputs": [],
   "source": [
    "df_train.loc[df['Age'] >= 35.0, 'Age'] = 35.0\n",
    "df_train = df_train.drop(df_train[df_train['Study Satisfaction'] == 0.0].index)\n",
    "df_train = df_train.drop(df_train[df_train['Academic Pressure'] == 0.0].index)\n",
    "df_train = df_train.drop(df_train[df_train['CGPA'] < 5.0].index)\n",
    "df_train = df_train.drop(df_train[df_train['Dietary Habits'] == \"Others\"].index)"
   ]
  },
  {
   "cell_type": "markdown",
   "id": "008ac916",
   "metadata": {},
   "source": [
    "Let us have a more thorough look at the cities:"
   ]
  },
  {
   "cell_type": "code",
   "execution_count": 31,
   "id": "8401db12",
   "metadata": {
    "scrolled": false
   },
   "outputs": [
    {
     "data": {
      "text/plain": [
       "City\n",
       "Kalyan                1257\n",
       "Srinagar              1110\n",
       "Hyderabad             1083\n",
       "Vasai-Virar           1018\n",
       "Thane                  930\n",
       "Lucknow                917\n",
       "Ludhiana               879\n",
       "Agra                   873\n",
       "Surat                  851\n",
       "Jaipur                 814\n",
       "Kolkata                808\n",
       "Patna                  788\n",
       "Visakhapatnam          776\n",
       "Pune                   773\n",
       "Ahmedabad              769\n",
       "Bhopal                 740\n",
       "Chennai                719\n",
       "Meerut                 669\n",
       "Rajkot                 651\n",
       "Bangalore              608\n",
       "Delhi                  594\n",
       "Ghaziabad              585\n",
       "Vadodara               569\n",
       "Mumbai                 562\n",
       "Varanasi               552\n",
       "Indore                 523\n",
       "Nagpur                 520\n",
       "Kanpur                 498\n",
       "Nashik                 436\n",
       "Faridabad              377\n",
       "City                     2\n",
       "Harsha                   2\n",
       "Less Delhi               1\n",
       "Less than 5 Kalyan       1\n",
       "Gaurav                   1\n",
       "M.Com                    1\n",
       "Nalyan                   1\n",
       "Bhavna                   1\n",
       "Reyansh                  1\n",
       "Saanvi                   1\n",
       "Rashi                    1\n",
       "Mira                     1\n",
       "Harsh                    1\n",
       "Kibara                   1\n",
       "3.0                      1\n",
       "Name: count, dtype: int64"
      ]
     },
     "execution_count": 31,
     "metadata": {},
     "output_type": "execute_result"
    }
   ],
   "source": [
    "cities = df_train['City'].value_counts()\n",
    "cities"
   ]
  },
  {
   "cell_type": "markdown",
   "id": "5fb1ac78",
   "metadata": {},
   "source": [
    "We can expect cities to have a significant influence to a person's depression status, so in general we would like to keep as much information as possible. Let us ask ChatGPT to produce a Python-like list of all Indian cities with at least 1 million and at least 100,000 inhabitants. This is the result:"
   ]
  },
  {
   "cell_type": "code",
   "execution_count": 32,
   "id": "5e7f3ca1",
   "metadata": {},
   "outputs": [],
   "source": [
    "cities_1M = [\"Mumbai\", \"Delhi\", \"Bangalore\", \"Hyderabad\", \"Ahmedabad\", \"Chennai\", \"Kolkata\", \"Surat\", \"Pune\", \"Jaipur\", \"Lucknow\", \"Kanpur\", \"Nagpur\", \"Visakhapatnam\", \"Indore\", \"Vadodara\", \"Coimbatore\", \"Madurai\", \"Rajkot\", \"Bhopal\", \"Thane\", \"Chandigarh\"]\n",
    "cities_100k = [\"Agra\", \"Ajmer\", \"Akola\", \"Aligarh\", \"Ambala\", \"Amritsar\", \"Asansol\", \"Aurangabad\", \"Bhilai\", \"Bhiwandi\", \"Bilaspur\", \"Bokaro\", \"Chandrapur\", \"Dhanbad\", \"Dewas\", \"Gaya\", \"Ghaziabad\", \"Gorakhpur\", \"Gulbarga\", \"Guwahati\", \"Haldia\", \"Haridwar\", \"Hassan\", \"Howrah\", \"Hubli-Dharwad\", \"Jabalpur\", \"Jaunpur\", \"Jhansi\", \"Jodhpur\", \"Kochi\", \"Kolkata\", \"Korba\", \"Kottayam\", \"Kurnool\", \"Mangalore\", \"Meerut\",\n",
    "               \"Moradabad\", \"Nagapattinam\", \"Nanded\", \"Nashik\", \"Navi Mumbai\", \"Nellore\", \"Patiala\", \"Ranchi\", \"Rohtak\", \"Shivpuri\", \"Solapur\", \"Tirunelveli\", \"Udaipur\", \"Ujjain\", \"Vijayawada\", \"Warangal\"]"
   ]
  },
  {
   "cell_type": "markdown",
   "id": "fcbee972",
   "metadata": {},
   "source": [
    "In order to limit the number of values, let us only keep this information for the *City* feature:"
   ]
  },
  {
   "cell_type": "code",
   "execution_count": 33,
   "id": "3f151d13",
   "metadata": {
    "scrolled": false
   },
   "outputs": [
    {
     "data": {
      "text/plain": [
       "City_Cat\n",
       "1M      12897\n",
       "Rest     5998\n",
       "100k     3371\n",
       "Name: count, dtype: int64"
      ]
     },
     "execution_count": 33,
     "metadata": {},
     "output_type": "execute_result"
    }
   ],
   "source": [
    "df_train.loc[df_train['City'].isin(cities_1M), 'City_Cat'] = '1M'\n",
    "df_train.loc[df_train['City'].isin(cities_100k), 'City_Cat'] = '100k'\n",
    "df_train.loc[~(df_train['City'].isin(cities_1M) | df['City'].isin(cities_100k)), 'City_Cat'] = 'Rest'\n",
    "df_train['City_Cat'].value_counts()"
   ]
  },
  {
   "cell_type": "markdown",
   "id": "662fb7df",
   "metadata": {},
   "source": [
    "Let us delete the non-values at *Sleep_Cat*."
   ]
  },
  {
   "cell_type": "code",
   "execution_count": 34,
   "id": "ee2d8973",
   "metadata": {},
   "outputs": [],
   "source": [
    "df_train['Sleep_Cat'] = df_train['Sleep_Cat'].replace(\"nan\", np.nan)\n",
    "df_train = df_train.dropna(subset='Sleep_Cat')"
   ]
  },
  {
   "cell_type": "markdown",
   "id": "ac6353e5",
   "metadata": {},
   "source": [
    "Afterwards, all columns with only one attribute will be dropped. We do not need them anymore."
   ]
  },
  {
   "cell_type": "code",
   "execution_count": 35,
   "id": "c6ce25ff",
   "metadata": {},
   "outputs": [
    {
     "data": {
      "text/html": [
       "<div>\n",
       "<style scoped>\n",
       "    .dataframe tbody tr th:only-of-type {\n",
       "        vertical-align: middle;\n",
       "    }\n",
       "\n",
       "    .dataframe tbody tr th {\n",
       "        vertical-align: top;\n",
       "    }\n",
       "\n",
       "    .dataframe thead th {\n",
       "        text-align: right;\n",
       "    }\n",
       "</style>\n",
       "<table border=\"1\" class=\"dataframe\">\n",
       "  <thead>\n",
       "    <tr style=\"text-align: right;\">\n",
       "      <th></th>\n",
       "      <th>id</th>\n",
       "      <th>Female</th>\n",
       "      <th>Age</th>\n",
       "      <th>Academic Pressure</th>\n",
       "      <th>CGPA</th>\n",
       "      <th>Study Satisfaction</th>\n",
       "      <th>Thoughts</th>\n",
       "      <th>Work/Study Hours</th>\n",
       "      <th>Financial Stress</th>\n",
       "      <th>Family History</th>\n",
       "      <th>Depression</th>\n",
       "      <th>Sleep_Cat</th>\n",
       "    </tr>\n",
       "  </thead>\n",
       "  <tbody>\n",
       "    <tr>\n",
       "      <th>count</th>\n",
       "      <td>22254.000000</td>\n",
       "      <td>22254.000000</td>\n",
       "      <td>22254.000000</td>\n",
       "      <td>22254.000000</td>\n",
       "      <td>22254.000000</td>\n",
       "      <td>22254.000000</td>\n",
       "      <td>22254.000000</td>\n",
       "      <td>22254.000000</td>\n",
       "      <td>22251.000000</td>\n",
       "      <td>22254.000000</td>\n",
       "      <td>22254.000000</td>\n",
       "      <td>22254.000000</td>\n",
       "    </tr>\n",
       "    <tr>\n",
       "      <th>mean</th>\n",
       "      <td>70286.044262</td>\n",
       "      <td>0.442123</td>\n",
       "      <td>25.814685</td>\n",
       "      <td>3.150445</td>\n",
       "      <td>7.670006</td>\n",
       "      <td>2.938618</td>\n",
       "      <td>0.634133</td>\n",
       "      <td>7.180642</td>\n",
       "      <td>3.137117</td>\n",
       "      <td>0.483059</td>\n",
       "      <td>0.586142</td>\n",
       "      <td>0.479599</td>\n",
       "    </tr>\n",
       "    <tr>\n",
       "      <th>std</th>\n",
       "      <td>40666.424782</td>\n",
       "      <td>0.496650</td>\n",
       "      <td>4.873918</td>\n",
       "      <td>1.376278</td>\n",
       "      <td>1.461720</td>\n",
       "      <td>1.359785</td>\n",
       "      <td>0.481683</td>\n",
       "      <td>3.695517</td>\n",
       "      <td>1.437768</td>\n",
       "      <td>0.499724</td>\n",
       "      <td>0.492535</td>\n",
       "      <td>0.499595</td>\n",
       "    </tr>\n",
       "    <tr>\n",
       "      <th>min</th>\n",
       "      <td>2.000000</td>\n",
       "      <td>0.000000</td>\n",
       "      <td>18.000000</td>\n",
       "      <td>1.000000</td>\n",
       "      <td>5.030000</td>\n",
       "      <td>1.000000</td>\n",
       "      <td>0.000000</td>\n",
       "      <td>0.000000</td>\n",
       "      <td>1.000000</td>\n",
       "      <td>0.000000</td>\n",
       "      <td>0.000000</td>\n",
       "      <td>0.000000</td>\n",
       "    </tr>\n",
       "    <tr>\n",
       "      <th>25%</th>\n",
       "      <td>34710.250000</td>\n",
       "      <td>0.000000</td>\n",
       "      <td>21.000000</td>\n",
       "      <td>2.000000</td>\n",
       "      <td>6.350000</td>\n",
       "      <td>2.000000</td>\n",
       "      <td>0.000000</td>\n",
       "      <td>4.000000</td>\n",
       "      <td>2.000000</td>\n",
       "      <td>0.000000</td>\n",
       "      <td>0.000000</td>\n",
       "      <td>0.000000</td>\n",
       "    </tr>\n",
       "    <tr>\n",
       "      <th>50%</th>\n",
       "      <td>70502.000000</td>\n",
       "      <td>0.000000</td>\n",
       "      <td>25.000000</td>\n",
       "      <td>3.000000</td>\n",
       "      <td>7.770000</td>\n",
       "      <td>3.000000</td>\n",
       "      <td>1.000000</td>\n",
       "      <td>8.000000</td>\n",
       "      <td>3.000000</td>\n",
       "      <td>0.000000</td>\n",
       "      <td>1.000000</td>\n",
       "      <td>0.000000</td>\n",
       "    </tr>\n",
       "    <tr>\n",
       "      <th>75%</th>\n",
       "      <td>105706.500000</td>\n",
       "      <td>1.000000</td>\n",
       "      <td>30.000000</td>\n",
       "      <td>4.000000</td>\n",
       "      <td>8.930000</td>\n",
       "      <td>4.000000</td>\n",
       "      <td>1.000000</td>\n",
       "      <td>10.000000</td>\n",
       "      <td>4.000000</td>\n",
       "      <td>1.000000</td>\n",
       "      <td>1.000000</td>\n",
       "      <td>1.000000</td>\n",
       "    </tr>\n",
       "    <tr>\n",
       "      <th>max</th>\n",
       "      <td>140686.000000</td>\n",
       "      <td>1.000000</td>\n",
       "      <td>35.000000</td>\n",
       "      <td>5.000000</td>\n",
       "      <td>10.000000</td>\n",
       "      <td>5.000000</td>\n",
       "      <td>1.000000</td>\n",
       "      <td>12.000000</td>\n",
       "      <td>5.000000</td>\n",
       "      <td>1.000000</td>\n",
       "      <td>1.000000</td>\n",
       "      <td>1.000000</td>\n",
       "    </tr>\n",
       "  </tbody>\n",
       "</table>\n",
       "</div>"
      ],
      "text/plain": [
       "                  id        Female           Age  Academic Pressure  \\\n",
       "count   22254.000000  22254.000000  22254.000000       22254.000000   \n",
       "mean    70286.044262      0.442123     25.814685           3.150445   \n",
       "std     40666.424782      0.496650      4.873918           1.376278   \n",
       "min         2.000000      0.000000     18.000000           1.000000   \n",
       "25%     34710.250000      0.000000     21.000000           2.000000   \n",
       "50%     70502.000000      0.000000     25.000000           3.000000   \n",
       "75%    105706.500000      1.000000     30.000000           4.000000   \n",
       "max    140686.000000      1.000000     35.000000           5.000000   \n",
       "\n",
       "               CGPA  Study Satisfaction      Thoughts  Work/Study Hours  \\\n",
       "count  22254.000000        22254.000000  22254.000000      22254.000000   \n",
       "mean       7.670006            2.938618      0.634133          7.180642   \n",
       "std        1.461720            1.359785      0.481683          3.695517   \n",
       "min        5.030000            1.000000      0.000000          0.000000   \n",
       "25%        6.350000            2.000000      0.000000          4.000000   \n",
       "50%        7.770000            3.000000      1.000000          8.000000   \n",
       "75%        8.930000            4.000000      1.000000         10.000000   \n",
       "max       10.000000            5.000000      1.000000         12.000000   \n",
       "\n",
       "       Financial Stress  Family History    Depression     Sleep_Cat  \n",
       "count      22251.000000    22254.000000  22254.000000  22254.000000  \n",
       "mean           3.137117        0.483059      0.586142      0.479599  \n",
       "std            1.437768        0.499724      0.492535      0.499595  \n",
       "min            1.000000        0.000000      0.000000      0.000000  \n",
       "25%            2.000000        0.000000      0.000000      0.000000  \n",
       "50%            3.000000        0.000000      1.000000      0.000000  \n",
       "75%            4.000000        1.000000      1.000000      1.000000  \n",
       "max            5.000000        1.000000      1.000000      1.000000  "
      ]
     },
     "execution_count": 35,
     "metadata": {},
     "output_type": "execute_result"
    }
   ],
   "source": [
    "cols_to_drop = ['Profession', 'Work Pressure', 'City', 'Job Satisfaction']\n",
    "df_train = df_train.drop(cols_to_drop, axis=1)\n",
    "df_train.describe()"
   ]
  },
  {
   "cell_type": "markdown",
   "id": "edfc5e80",
   "metadata": {},
   "source": [
    "## 2.3 Data Scaling, One-Hot Encoding and Data Imputation"
   ]
  },
  {
   "cell_type": "markdown",
   "id": "47dd213e",
   "metadata": {},
   "source": [
    "We will rescale the remaining features into the unit interval *[0, 1]* so that all features are in the same range. This can be achieved by the MinMaxScaler provided by Scikit-Learn."
   ]
  },
  {
   "cell_type": "code",
   "execution_count": 36,
   "id": "541bbb99",
   "metadata": {},
   "outputs": [
    {
     "data": {
      "text/html": [
       "<div>\n",
       "<style scoped>\n",
       "    .dataframe tbody tr th:only-of-type {\n",
       "        vertical-align: middle;\n",
       "    }\n",
       "\n",
       "    .dataframe tbody tr th {\n",
       "        vertical-align: top;\n",
       "    }\n",
       "\n",
       "    .dataframe thead th {\n",
       "        text-align: right;\n",
       "    }\n",
       "</style>\n",
       "<table border=\"1\" class=\"dataframe\">\n",
       "  <thead>\n",
       "    <tr style=\"text-align: right;\">\n",
       "      <th></th>\n",
       "      <th>id</th>\n",
       "      <th>Female</th>\n",
       "      <th>Age</th>\n",
       "      <th>Academic Pressure</th>\n",
       "      <th>CGPA</th>\n",
       "      <th>Study Satisfaction</th>\n",
       "      <th>Thoughts</th>\n",
       "      <th>Work/Study Hours</th>\n",
       "      <th>Financial Stress</th>\n",
       "      <th>Family History</th>\n",
       "      <th>Depression</th>\n",
       "      <th>Sleep_Cat</th>\n",
       "    </tr>\n",
       "  </thead>\n",
       "  <tbody>\n",
       "    <tr>\n",
       "      <th>count</th>\n",
       "      <td>22254.000000</td>\n",
       "      <td>22254.000000</td>\n",
       "      <td>22254.000000</td>\n",
       "      <td>22254.000000</td>\n",
       "      <td>22254.000000</td>\n",
       "      <td>22254.000000</td>\n",
       "      <td>22254.000000</td>\n",
       "      <td>22254.000000</td>\n",
       "      <td>22251.000000</td>\n",
       "      <td>22254.000000</td>\n",
       "      <td>22254.000000</td>\n",
       "      <td>22254.000000</td>\n",
       "    </tr>\n",
       "    <tr>\n",
       "      <th>mean</th>\n",
       "      <td>70286.044262</td>\n",
       "      <td>0.442123</td>\n",
       "      <td>0.459687</td>\n",
       "      <td>0.537611</td>\n",
       "      <td>0.531188</td>\n",
       "      <td>0.484654</td>\n",
       "      <td>0.634133</td>\n",
       "      <td>0.598387</td>\n",
       "      <td>0.534279</td>\n",
       "      <td>0.483059</td>\n",
       "      <td>0.586142</td>\n",
       "      <td>0.479599</td>\n",
       "    </tr>\n",
       "    <tr>\n",
       "      <th>std</th>\n",
       "      <td>40666.424782</td>\n",
       "      <td>0.496650</td>\n",
       "      <td>0.286701</td>\n",
       "      <td>0.344069</td>\n",
       "      <td>0.294109</td>\n",
       "      <td>0.339946</td>\n",
       "      <td>0.481683</td>\n",
       "      <td>0.307960</td>\n",
       "      <td>0.359442</td>\n",
       "      <td>0.499724</td>\n",
       "      <td>0.492535</td>\n",
       "      <td>0.499595</td>\n",
       "    </tr>\n",
       "    <tr>\n",
       "      <th>min</th>\n",
       "      <td>2.000000</td>\n",
       "      <td>0.000000</td>\n",
       "      <td>0.000000</td>\n",
       "      <td>0.000000</td>\n",
       "      <td>0.000000</td>\n",
       "      <td>0.000000</td>\n",
       "      <td>0.000000</td>\n",
       "      <td>0.000000</td>\n",
       "      <td>0.000000</td>\n",
       "      <td>0.000000</td>\n",
       "      <td>0.000000</td>\n",
       "      <td>0.000000</td>\n",
       "    </tr>\n",
       "    <tr>\n",
       "      <th>25%</th>\n",
       "      <td>34710.250000</td>\n",
       "      <td>0.000000</td>\n",
       "      <td>0.176471</td>\n",
       "      <td>0.250000</td>\n",
       "      <td>0.265594</td>\n",
       "      <td>0.250000</td>\n",
       "      <td>0.000000</td>\n",
       "      <td>0.333333</td>\n",
       "      <td>0.250000</td>\n",
       "      <td>0.000000</td>\n",
       "      <td>0.000000</td>\n",
       "      <td>0.000000</td>\n",
       "    </tr>\n",
       "    <tr>\n",
       "      <th>50%</th>\n",
       "      <td>70502.000000</td>\n",
       "      <td>0.000000</td>\n",
       "      <td>0.411765</td>\n",
       "      <td>0.500000</td>\n",
       "      <td>0.551308</td>\n",
       "      <td>0.500000</td>\n",
       "      <td>1.000000</td>\n",
       "      <td>0.666667</td>\n",
       "      <td>0.500000</td>\n",
       "      <td>0.000000</td>\n",
       "      <td>1.000000</td>\n",
       "      <td>0.000000</td>\n",
       "    </tr>\n",
       "    <tr>\n",
       "      <th>75%</th>\n",
       "      <td>105706.500000</td>\n",
       "      <td>1.000000</td>\n",
       "      <td>0.705882</td>\n",
       "      <td>0.750000</td>\n",
       "      <td>0.784708</td>\n",
       "      <td>0.750000</td>\n",
       "      <td>1.000000</td>\n",
       "      <td>0.833333</td>\n",
       "      <td>0.750000</td>\n",
       "      <td>1.000000</td>\n",
       "      <td>1.000000</td>\n",
       "      <td>1.000000</td>\n",
       "    </tr>\n",
       "    <tr>\n",
       "      <th>max</th>\n",
       "      <td>140686.000000</td>\n",
       "      <td>1.000000</td>\n",
       "      <td>1.000000</td>\n",
       "      <td>1.000000</td>\n",
       "      <td>1.000000</td>\n",
       "      <td>1.000000</td>\n",
       "      <td>1.000000</td>\n",
       "      <td>1.000000</td>\n",
       "      <td>1.000000</td>\n",
       "      <td>1.000000</td>\n",
       "      <td>1.000000</td>\n",
       "      <td>1.000000</td>\n",
       "    </tr>\n",
       "  </tbody>\n",
       "</table>\n",
       "</div>"
      ],
      "text/plain": [
       "                  id        Female           Age  Academic Pressure  \\\n",
       "count   22254.000000  22254.000000  22254.000000       22254.000000   \n",
       "mean    70286.044262      0.442123      0.459687           0.537611   \n",
       "std     40666.424782      0.496650      0.286701           0.344069   \n",
       "min         2.000000      0.000000      0.000000           0.000000   \n",
       "25%     34710.250000      0.000000      0.176471           0.250000   \n",
       "50%     70502.000000      0.000000      0.411765           0.500000   \n",
       "75%    105706.500000      1.000000      0.705882           0.750000   \n",
       "max    140686.000000      1.000000      1.000000           1.000000   \n",
       "\n",
       "               CGPA  Study Satisfaction      Thoughts  Work/Study Hours  \\\n",
       "count  22254.000000        22254.000000  22254.000000      22254.000000   \n",
       "mean       0.531188            0.484654      0.634133          0.598387   \n",
       "std        0.294109            0.339946      0.481683          0.307960   \n",
       "min        0.000000            0.000000      0.000000          0.000000   \n",
       "25%        0.265594            0.250000      0.000000          0.333333   \n",
       "50%        0.551308            0.500000      1.000000          0.666667   \n",
       "75%        0.784708            0.750000      1.000000          0.833333   \n",
       "max        1.000000            1.000000      1.000000          1.000000   \n",
       "\n",
       "       Financial Stress  Family History    Depression     Sleep_Cat  \n",
       "count      22251.000000    22254.000000  22254.000000  22254.000000  \n",
       "mean           0.534279        0.483059      0.586142      0.479599  \n",
       "std            0.359442        0.499724      0.492535      0.499595  \n",
       "min            0.000000        0.000000      0.000000      0.000000  \n",
       "25%            0.250000        0.000000      0.000000      0.000000  \n",
       "50%            0.500000        0.000000      1.000000      0.000000  \n",
       "75%            0.750000        1.000000      1.000000      1.000000  \n",
       "max            1.000000        1.000000      1.000000      1.000000  "
      ]
     },
     "execution_count": 36,
     "metadata": {},
     "output_type": "execute_result"
    }
   ],
   "source": [
    "scaler = MinMaxScaler()\n",
    "cols_to_scale = ['Age', 'Academic Pressure', 'CGPA', 'Study Satisfaction', 'Work/Study Hours', 'Financial Stress']\n",
    "\n",
    "for col in cols_to_scale:\n",
    "    data = df_train.loc[:, col:col]\n",
    "    df_train[col] = scaler.fit_transform(data)\n",
    "\n",
    "df_train.describe()"
   ]
  },
  {
   "cell_type": "markdown",
   "id": "07084ff2",
   "metadata": {},
   "source": [
    "What about the remaining features?"
   ]
  },
  {
   "cell_type": "code",
   "execution_count": 37,
   "id": "04c0f9ce",
   "metadata": {},
   "outputs": [
    {
     "data": {
      "text/html": [
       "<div>\n",
       "<style scoped>\n",
       "    .dataframe tbody tr th:only-of-type {\n",
       "        vertical-align: middle;\n",
       "    }\n",
       "\n",
       "    .dataframe tbody tr th {\n",
       "        vertical-align: top;\n",
       "    }\n",
       "\n",
       "    .dataframe thead th {\n",
       "        text-align: right;\n",
       "    }\n",
       "</style>\n",
       "<table border=\"1\" class=\"dataframe\">\n",
       "  <thead>\n",
       "    <tr style=\"text-align: right;\">\n",
       "      <th></th>\n",
       "      <th>Dietary Habits</th>\n",
       "      <th>Degree_Cat</th>\n",
       "      <th>City_Cat</th>\n",
       "    </tr>\n",
       "  </thead>\n",
       "  <tbody>\n",
       "    <tr>\n",
       "      <th>count</th>\n",
       "      <td>22254</td>\n",
       "      <td>22254</td>\n",
       "      <td>22254</td>\n",
       "    </tr>\n",
       "    <tr>\n",
       "      <th>unique</th>\n",
       "      <td>3</td>\n",
       "      <td>4</td>\n",
       "      <td>3</td>\n",
       "    </tr>\n",
       "    <tr>\n",
       "      <th>top</th>\n",
       "      <td>Unhealthy</td>\n",
       "      <td>Bachelor</td>\n",
       "      <td>1M</td>\n",
       "    </tr>\n",
       "    <tr>\n",
       "      <th>freq</th>\n",
       "      <td>8199</td>\n",
       "      <td>10076</td>\n",
       "      <td>12890</td>\n",
       "    </tr>\n",
       "  </tbody>\n",
       "</table>\n",
       "</div>"
      ],
      "text/plain": [
       "       Dietary Habits Degree_Cat City_Cat\n",
       "count           22254      22254    22254\n",
       "unique              3          4        3\n",
       "top         Unhealthy   Bachelor       1M\n",
       "freq             8199      10076    12890"
      ]
     },
     "execution_count": 37,
     "metadata": {},
     "output_type": "execute_result"
    }
   ],
   "source": [
    "df_train.describe(include=object)"
   ]
  },
  {
   "cell_type": "markdown",
   "id": "4ae59d22",
   "metadata": {},
   "source": [
    "The latter three features are of ordinal nature. We could convert them into numbers and rescale them into the unit interval. However by doing so, we are implicitly assuming that the spacings between two values are equidistant (i.e., the leap between a high school diploma and a Bachelor's degree is equal to the leap between a Master's degree and a PhD degree, or improving one's Financial Stress by one point is always equally important). These assumptions have been much more reasonable in the cases above. Though we are losing a bit of information (the ordering), we will leave these features as is and treat them like the other categorical variable *Cities* without any inherent ordering."
   ]
  },
  {
   "cell_type": "code",
   "execution_count": 38,
   "id": "76ed6e8d",
   "metadata": {
    "scrolled": true
   },
   "outputs": [
    {
     "data": {
      "text/html": [
       "<div>\n",
       "<style scoped>\n",
       "    .dataframe tbody tr th:only-of-type {\n",
       "        vertical-align: middle;\n",
       "    }\n",
       "\n",
       "    .dataframe tbody tr th {\n",
       "        vertical-align: top;\n",
       "    }\n",
       "\n",
       "    .dataframe thead th {\n",
       "        text-align: right;\n",
       "    }\n",
       "</style>\n",
       "<table border=\"1\" class=\"dataframe\">\n",
       "  <thead>\n",
       "    <tr style=\"text-align: right;\">\n",
       "      <th></th>\n",
       "      <th>id</th>\n",
       "      <th>Female</th>\n",
       "      <th>Age</th>\n",
       "      <th>Academic Pressure</th>\n",
       "      <th>CGPA</th>\n",
       "      <th>Study Satisfaction</th>\n",
       "      <th>Dietary Habits</th>\n",
       "      <th>Thoughts</th>\n",
       "      <th>Work/Study Hours</th>\n",
       "      <th>Financial Stress</th>\n",
       "      <th>Family History</th>\n",
       "      <th>Depression</th>\n",
       "      <th>Sleep_Cat</th>\n",
       "      <th>Degree_Cat</th>\n",
       "      <th>City_Cat</th>\n",
       "    </tr>\n",
       "  </thead>\n",
       "  <tbody>\n",
       "    <tr>\n",
       "      <th>14195</th>\n",
       "      <td>71804</td>\n",
       "      <td>0</td>\n",
       "      <td>0.764706</td>\n",
       "      <td>0.00</td>\n",
       "      <td>0.776660</td>\n",
       "      <td>0.75</td>\n",
       "      <td>Unhealthy</td>\n",
       "      <td>1</td>\n",
       "      <td>0.833333</td>\n",
       "      <td>0.00</td>\n",
       "      <td>1</td>\n",
       "      <td>0</td>\n",
       "      <td>0.0</td>\n",
       "      <td>Master</td>\n",
       "      <td>1M</td>\n",
       "    </tr>\n",
       "    <tr>\n",
       "      <th>1247</th>\n",
       "      <td>6495</td>\n",
       "      <td>0</td>\n",
       "      <td>0.882353</td>\n",
       "      <td>0.00</td>\n",
       "      <td>0.269618</td>\n",
       "      <td>0.75</td>\n",
       "      <td>Moderate</td>\n",
       "      <td>0</td>\n",
       "      <td>0.166667</td>\n",
       "      <td>0.00</td>\n",
       "      <td>0</td>\n",
       "      <td>0</td>\n",
       "      <td>0.0</td>\n",
       "      <td>Master</td>\n",
       "      <td>1M</td>\n",
       "    </tr>\n",
       "    <tr>\n",
       "      <th>23479</th>\n",
       "      <td>118315</td>\n",
       "      <td>1</td>\n",
       "      <td>0.411765</td>\n",
       "      <td>0.25</td>\n",
       "      <td>0.887324</td>\n",
       "      <td>0.50</td>\n",
       "      <td>Unhealthy</td>\n",
       "      <td>1</td>\n",
       "      <td>1.000000</td>\n",
       "      <td>0.75</td>\n",
       "      <td>0</td>\n",
       "      <td>1</td>\n",
       "      <td>0.0</td>\n",
       "      <td>Bachelor</td>\n",
       "      <td>1M</td>\n",
       "    </tr>\n",
       "    <tr>\n",
       "      <th>20140</th>\n",
       "      <td>101942</td>\n",
       "      <td>0</td>\n",
       "      <td>0.176471</td>\n",
       "      <td>0.25</td>\n",
       "      <td>0.354125</td>\n",
       "      <td>0.00</td>\n",
       "      <td>Unhealthy</td>\n",
       "      <td>1</td>\n",
       "      <td>0.166667</td>\n",
       "      <td>0.75</td>\n",
       "      <td>0</td>\n",
       "      <td>1</td>\n",
       "      <td>1.0</td>\n",
       "      <td>Bachelor</td>\n",
       "      <td>1M</td>\n",
       "    </tr>\n",
       "    <tr>\n",
       "      <th>26269</th>\n",
       "      <td>132433</td>\n",
       "      <td>0</td>\n",
       "      <td>0.647059</td>\n",
       "      <td>0.50</td>\n",
       "      <td>0.567404</td>\n",
       "      <td>0.00</td>\n",
       "      <td>Unhealthy</td>\n",
       "      <td>0</td>\n",
       "      <td>1.000000</td>\n",
       "      <td>0.75</td>\n",
       "      <td>0</td>\n",
       "      <td>0</td>\n",
       "      <td>0.0</td>\n",
       "      <td>Bachelor</td>\n",
       "      <td>Rest</td>\n",
       "    </tr>\n",
       "  </tbody>\n",
       "</table>\n",
       "</div>"
      ],
      "text/plain": [
       "           id  Female       Age  Academic Pressure      CGPA  \\\n",
       "14195   71804       0  0.764706               0.00  0.776660   \n",
       "1247     6495       0  0.882353               0.00  0.269618   \n",
       "23479  118315       1  0.411765               0.25  0.887324   \n",
       "20140  101942       0  0.176471               0.25  0.354125   \n",
       "26269  132433       0  0.647059               0.50  0.567404   \n",
       "\n",
       "       Study Satisfaction Dietary Habits  Thoughts  Work/Study Hours  \\\n",
       "14195                0.75      Unhealthy         1          0.833333   \n",
       "1247                 0.75       Moderate         0          0.166667   \n",
       "23479                0.50      Unhealthy         1          1.000000   \n",
       "20140                0.00      Unhealthy         1          0.166667   \n",
       "26269                0.00      Unhealthy         0          1.000000   \n",
       "\n",
       "       Financial Stress  Family History  Depression  Sleep_Cat Degree_Cat  \\\n",
       "14195              0.00               1           0        0.0     Master   \n",
       "1247               0.00               0           0        0.0     Master   \n",
       "23479              0.75               0           1        0.0   Bachelor   \n",
       "20140              0.75               0           1        1.0   Bachelor   \n",
       "26269              0.75               0           0        0.0   Bachelor   \n",
       "\n",
       "      City_Cat  \n",
       "14195       1M  \n",
       "1247        1M  \n",
       "23479       1M  \n",
       "20140       1M  \n",
       "26269     Rest  "
      ]
     },
     "execution_count": 38,
     "metadata": {},
     "output_type": "execute_result"
    }
   ],
   "source": [
    "df_train.head()"
   ]
  },
  {
   "cell_type": "markdown",
   "id": "03308c15",
   "metadata": {},
   "source": [
    "Since there aren't many, we could also delete the remaining three NaN cases in the *Financial Stress* feature. Instead, we will impute them using Scikit-Learn. The *NaN* values will be replaced by the mean value (= 0.535018) of the *Financial Stress* feature."
   ]
  },
  {
   "cell_type": "code",
   "execution_count": 39,
   "id": "2c2dc74c",
   "metadata": {},
   "outputs": [
    {
     "data": {
      "text/plain": [
       "id                    0\n",
       "Female                0\n",
       "Age                   0\n",
       "Academic Pressure     0\n",
       "CGPA                  0\n",
       "Study Satisfaction    0\n",
       "Dietary Habits        0\n",
       "Thoughts              0\n",
       "Work/Study Hours      0\n",
       "Financial Stress      3\n",
       "Family History        0\n",
       "Depression            0\n",
       "Sleep_Cat             0\n",
       "Degree_Cat            0\n",
       "City_Cat              0\n",
       "dtype: int64"
      ]
     },
     "execution_count": 39,
     "metadata": {},
     "output_type": "execute_result"
    }
   ],
   "source": [
    "nan_indices = df_train[df_train['Financial Stress'].isna()]['id']\n",
    "df_train.isna().sum()"
   ]
  },
  {
   "cell_type": "code",
   "execution_count": 40,
   "id": "04ff21a7",
   "metadata": {},
   "outputs": [
    {
     "data": {
      "text/plain": [
       "0"
      ]
     },
     "execution_count": 40,
     "metadata": {},
     "output_type": "execute_result"
    }
   ],
   "source": [
    "imputer = SimpleImputer(missing_values=np.nan, strategy='mean')\n",
    "\n",
    "data = df_train.iloc[:, 11:12]\n",
    "df_train['Financial Stress'] = imputer.fit_transform(data)\n",
    "df_train['Financial Stress'].isna().sum()"
   ]
  },
  {
   "cell_type": "markdown",
   "id": "f2f96973",
   "metadata": {},
   "source": [
    "Once more, checking that everything worked as planned in the corresponding rows:"
   ]
  },
  {
   "cell_type": "code",
   "execution_count": 41,
   "id": "414e6b89",
   "metadata": {},
   "outputs": [
    {
     "data": {
      "text/html": [
       "<div>\n",
       "<style scoped>\n",
       "    .dataframe tbody tr th:only-of-type {\n",
       "        vertical-align: middle;\n",
       "    }\n",
       "\n",
       "    .dataframe tbody tr th {\n",
       "        vertical-align: top;\n",
       "    }\n",
       "\n",
       "    .dataframe thead th {\n",
       "        text-align: right;\n",
       "    }\n",
       "</style>\n",
       "<table border=\"1\" class=\"dataframe\">\n",
       "  <thead>\n",
       "    <tr style=\"text-align: right;\">\n",
       "      <th></th>\n",
       "      <th>id</th>\n",
       "      <th>Female</th>\n",
       "      <th>Age</th>\n",
       "      <th>Academic Pressure</th>\n",
       "      <th>CGPA</th>\n",
       "      <th>Study Satisfaction</th>\n",
       "      <th>Dietary Habits</th>\n",
       "      <th>Thoughts</th>\n",
       "      <th>Work/Study Hours</th>\n",
       "      <th>Financial Stress</th>\n",
       "      <th>Family History</th>\n",
       "      <th>Depression</th>\n",
       "      <th>Sleep_Cat</th>\n",
       "      <th>Degree_Cat</th>\n",
       "      <th>City_Cat</th>\n",
       "    </tr>\n",
       "  </thead>\n",
       "  <tbody>\n",
       "    <tr>\n",
       "      <th>4458</th>\n",
       "      <td>22377</td>\n",
       "      <td>1</td>\n",
       "      <td>0.823529</td>\n",
       "      <td>0.50</td>\n",
       "      <td>0.122736</td>\n",
       "      <td>0.0</td>\n",
       "      <td>Healthy</td>\n",
       "      <td>0</td>\n",
       "      <td>1.00</td>\n",
       "      <td>1.0</td>\n",
       "      <td>0</td>\n",
       "      <td>1</td>\n",
       "      <td>0.0</td>\n",
       "      <td>Bachelor</td>\n",
       "      <td>Rest</td>\n",
       "    </tr>\n",
       "    <tr>\n",
       "      <th>19266</th>\n",
       "      <td>97610</td>\n",
       "      <td>1</td>\n",
       "      <td>0.117647</td>\n",
       "      <td>0.00</td>\n",
       "      <td>0.362173</td>\n",
       "      <td>0.0</td>\n",
       "      <td>Healthy</td>\n",
       "      <td>0</td>\n",
       "      <td>0.75</td>\n",
       "      <td>0.0</td>\n",
       "      <td>1</td>\n",
       "      <td>0</td>\n",
       "      <td>0.0</td>\n",
       "      <td>Master</td>\n",
       "      <td>100k</td>\n",
       "    </tr>\n",
       "    <tr>\n",
       "      <th>13596</th>\n",
       "      <td>68910</td>\n",
       "      <td>0</td>\n",
       "      <td>0.647059</td>\n",
       "      <td>0.25</td>\n",
       "      <td>0.786720</td>\n",
       "      <td>0.5</td>\n",
       "      <td>Unhealthy</td>\n",
       "      <td>0</td>\n",
       "      <td>1.00</td>\n",
       "      <td>0.0</td>\n",
       "      <td>1</td>\n",
       "      <td>0</td>\n",
       "      <td>0.0</td>\n",
       "      <td>Bachelor</td>\n",
       "      <td>1M</td>\n",
       "    </tr>\n",
       "  </tbody>\n",
       "</table>\n",
       "</div>"
      ],
      "text/plain": [
       "          id  Female       Age  Academic Pressure      CGPA  \\\n",
       "4458   22377       1  0.823529               0.50  0.122736   \n",
       "19266  97610       1  0.117647               0.00  0.362173   \n",
       "13596  68910       0  0.647059               0.25  0.786720   \n",
       "\n",
       "       Study Satisfaction Dietary Habits  Thoughts  Work/Study Hours  \\\n",
       "4458                  0.0        Healthy         0              1.00   \n",
       "19266                 0.0        Healthy         0              0.75   \n",
       "13596                 0.5      Unhealthy         0              1.00   \n",
       "\n",
       "       Financial Stress  Family History  Depression  Sleep_Cat Degree_Cat  \\\n",
       "4458                1.0               0           1        0.0   Bachelor   \n",
       "19266               0.0               1           0        0.0     Master   \n",
       "13596               0.0               1           0        0.0   Bachelor   \n",
       "\n",
       "      City_Cat  \n",
       "4458      Rest  \n",
       "19266     100k  \n",
       "13596       1M  "
      ]
     },
     "execution_count": 41,
     "metadata": {},
     "output_type": "execute_result"
    }
   ],
   "source": [
    "df_train[df_train['id'].isin(nan_indices)]"
   ]
  },
  {
   "cell_type": "markdown",
   "id": "83e6dd6a",
   "metadata": {},
   "source": [
    "The *NaN* values have been replaced! We are almost done. Lastly, we use one-hot encoding to create dummy variables for our categorical features. We expect to create 3 + 3 + 4 = 10 new dummy features, which is the sum of all unique categorical values (*City_Cat*, *Dietary Habits*, *Degree_Cat*)."
   ]
  },
  {
   "cell_type": "code",
   "execution_count": 42,
   "id": "1af22b9d",
   "metadata": {},
   "outputs": [
    {
     "data": {
      "text/html": [
       "<div>\n",
       "<style scoped>\n",
       "    .dataframe tbody tr th:only-of-type {\n",
       "        vertical-align: middle;\n",
       "    }\n",
       "\n",
       "    .dataframe tbody tr th {\n",
       "        vertical-align: top;\n",
       "    }\n",
       "\n",
       "    .dataframe thead th {\n",
       "        text-align: right;\n",
       "    }\n",
       "</style>\n",
       "<table border=\"1\" class=\"dataframe\">\n",
       "  <thead>\n",
       "    <tr style=\"text-align: right;\">\n",
       "      <th></th>\n",
       "      <th>Dietary Habits</th>\n",
       "      <th>Degree_Cat</th>\n",
       "      <th>City_Cat</th>\n",
       "    </tr>\n",
       "  </thead>\n",
       "  <tbody>\n",
       "    <tr>\n",
       "      <th>14195</th>\n",
       "      <td>Unhealthy</td>\n",
       "      <td>Master</td>\n",
       "      <td>1M</td>\n",
       "    </tr>\n",
       "    <tr>\n",
       "      <th>1247</th>\n",
       "      <td>Moderate</td>\n",
       "      <td>Master</td>\n",
       "      <td>1M</td>\n",
       "    </tr>\n",
       "    <tr>\n",
       "      <th>23479</th>\n",
       "      <td>Unhealthy</td>\n",
       "      <td>Bachelor</td>\n",
       "      <td>1M</td>\n",
       "    </tr>\n",
       "    <tr>\n",
       "      <th>20140</th>\n",
       "      <td>Unhealthy</td>\n",
       "      <td>Bachelor</td>\n",
       "      <td>1M</td>\n",
       "    </tr>\n",
       "    <tr>\n",
       "      <th>26269</th>\n",
       "      <td>Unhealthy</td>\n",
       "      <td>Bachelor</td>\n",
       "      <td>Rest</td>\n",
       "    </tr>\n",
       "  </tbody>\n",
       "</table>\n",
       "</div>"
      ],
      "text/plain": [
       "      Dietary Habits Degree_Cat City_Cat\n",
       "14195      Unhealthy     Master       1M\n",
       "1247        Moderate     Master       1M\n",
       "23479      Unhealthy   Bachelor       1M\n",
       "20140      Unhealthy   Bachelor       1M\n",
       "26269      Unhealthy   Bachelor     Rest"
      ]
     },
     "execution_count": 42,
     "metadata": {},
     "output_type": "execute_result"
    }
   ],
   "source": [
    "categorical = [6, 13, 14]\n",
    "df_train_cat = df_train.iloc[:, categorical]\n",
    "df_train_cat.head()"
   ]
  },
  {
   "cell_type": "code",
   "execution_count": 43,
   "id": "3d99cf8b",
   "metadata": {},
   "outputs": [
    {
     "data": {
      "text/html": [
       "<div>\n",
       "<style scoped>\n",
       "    .dataframe tbody tr th:only-of-type {\n",
       "        vertical-align: middle;\n",
       "    }\n",
       "\n",
       "    .dataframe tbody tr th {\n",
       "        vertical-align: top;\n",
       "    }\n",
       "\n",
       "    .dataframe thead th {\n",
       "        text-align: right;\n",
       "    }\n",
       "</style>\n",
       "<table border=\"1\" class=\"dataframe\">\n",
       "  <thead>\n",
       "    <tr style=\"text-align: right;\">\n",
       "      <th></th>\n",
       "      <th>Female</th>\n",
       "      <th>Age</th>\n",
       "      <th>Academic Pressure</th>\n",
       "      <th>CGPA</th>\n",
       "      <th>Study Satisfaction</th>\n",
       "      <th>Thoughts</th>\n",
       "      <th>Work/Study Hours</th>\n",
       "      <th>Financial Stress</th>\n",
       "      <th>Family History</th>\n",
       "      <th>Sleep_Cat</th>\n",
       "      <th>...</th>\n",
       "      <th>Dietary Habits_Moderate</th>\n",
       "      <th>Dietary Habits_Unhealthy</th>\n",
       "      <th>Degree_Cat_Bachelor</th>\n",
       "      <th>Degree_Cat_High School</th>\n",
       "      <th>Degree_Cat_Master</th>\n",
       "      <th>Degree_Cat_PhD</th>\n",
       "      <th>City_Cat_100k</th>\n",
       "      <th>City_Cat_1M</th>\n",
       "      <th>City_Cat_Rest</th>\n",
       "      <th>Depression_Index</th>\n",
       "    </tr>\n",
       "    <tr>\n",
       "      <th>id</th>\n",
       "      <th></th>\n",
       "      <th></th>\n",
       "      <th></th>\n",
       "      <th></th>\n",
       "      <th></th>\n",
       "      <th></th>\n",
       "      <th></th>\n",
       "      <th></th>\n",
       "      <th></th>\n",
       "      <th></th>\n",
       "      <th></th>\n",
       "      <th></th>\n",
       "      <th></th>\n",
       "      <th></th>\n",
       "      <th></th>\n",
       "      <th></th>\n",
       "      <th></th>\n",
       "      <th></th>\n",
       "      <th></th>\n",
       "      <th></th>\n",
       "      <th></th>\n",
       "    </tr>\n",
       "  </thead>\n",
       "  <tbody>\n",
       "    <tr>\n",
       "      <th>71804</th>\n",
       "      <td>0</td>\n",
       "      <td>0.764706</td>\n",
       "      <td>0.00</td>\n",
       "      <td>0.776660</td>\n",
       "      <td>0.75</td>\n",
       "      <td>1</td>\n",
       "      <td>0.833333</td>\n",
       "      <td>0.0</td>\n",
       "      <td>1</td>\n",
       "      <td>0.0</td>\n",
       "      <td>...</td>\n",
       "      <td>0.0</td>\n",
       "      <td>1.0</td>\n",
       "      <td>0.0</td>\n",
       "      <td>0.0</td>\n",
       "      <td>1.0</td>\n",
       "      <td>0.0</td>\n",
       "      <td>0.0</td>\n",
       "      <td>1.0</td>\n",
       "      <td>0.0</td>\n",
       "      <td>0.0</td>\n",
       "    </tr>\n",
       "    <tr>\n",
       "      <th>6495</th>\n",
       "      <td>0</td>\n",
       "      <td>0.882353</td>\n",
       "      <td>0.00</td>\n",
       "      <td>0.269618</td>\n",
       "      <td>0.75</td>\n",
       "      <td>0</td>\n",
       "      <td>0.166667</td>\n",
       "      <td>0.0</td>\n",
       "      <td>0</td>\n",
       "      <td>0.0</td>\n",
       "      <td>...</td>\n",
       "      <td>1.0</td>\n",
       "      <td>0.0</td>\n",
       "      <td>0.0</td>\n",
       "      <td>0.0</td>\n",
       "      <td>1.0</td>\n",
       "      <td>0.0</td>\n",
       "      <td>0.0</td>\n",
       "      <td>1.0</td>\n",
       "      <td>0.0</td>\n",
       "      <td>0.0</td>\n",
       "    </tr>\n",
       "    <tr>\n",
       "      <th>118315</th>\n",
       "      <td>1</td>\n",
       "      <td>0.411765</td>\n",
       "      <td>0.25</td>\n",
       "      <td>0.887324</td>\n",
       "      <td>0.50</td>\n",
       "      <td>1</td>\n",
       "      <td>1.000000</td>\n",
       "      <td>1.0</td>\n",
       "      <td>0</td>\n",
       "      <td>0.0</td>\n",
       "      <td>...</td>\n",
       "      <td>0.0</td>\n",
       "      <td>1.0</td>\n",
       "      <td>1.0</td>\n",
       "      <td>0.0</td>\n",
       "      <td>0.0</td>\n",
       "      <td>0.0</td>\n",
       "      <td>0.0</td>\n",
       "      <td>1.0</td>\n",
       "      <td>0.0</td>\n",
       "      <td>1.0</td>\n",
       "    </tr>\n",
       "    <tr>\n",
       "      <th>101942</th>\n",
       "      <td>0</td>\n",
       "      <td>0.176471</td>\n",
       "      <td>0.25</td>\n",
       "      <td>0.354125</td>\n",
       "      <td>0.00</td>\n",
       "      <td>1</td>\n",
       "      <td>0.166667</td>\n",
       "      <td>1.0</td>\n",
       "      <td>0</td>\n",
       "      <td>1.0</td>\n",
       "      <td>...</td>\n",
       "      <td>0.0</td>\n",
       "      <td>1.0</td>\n",
       "      <td>1.0</td>\n",
       "      <td>0.0</td>\n",
       "      <td>0.0</td>\n",
       "      <td>0.0</td>\n",
       "      <td>0.0</td>\n",
       "      <td>1.0</td>\n",
       "      <td>0.0</td>\n",
       "      <td>1.0</td>\n",
       "    </tr>\n",
       "    <tr>\n",
       "      <th>132433</th>\n",
       "      <td>0</td>\n",
       "      <td>0.647059</td>\n",
       "      <td>0.50</td>\n",
       "      <td>0.567404</td>\n",
       "      <td>0.00</td>\n",
       "      <td>0</td>\n",
       "      <td>1.000000</td>\n",
       "      <td>0.0</td>\n",
       "      <td>0</td>\n",
       "      <td>0.0</td>\n",
       "      <td>...</td>\n",
       "      <td>0.0</td>\n",
       "      <td>1.0</td>\n",
       "      <td>1.0</td>\n",
       "      <td>0.0</td>\n",
       "      <td>0.0</td>\n",
       "      <td>0.0</td>\n",
       "      <td>0.0</td>\n",
       "      <td>0.0</td>\n",
       "      <td>1.0</td>\n",
       "      <td>0.0</td>\n",
       "    </tr>\n",
       "    <tr>\n",
       "      <th>...</th>\n",
       "      <td>...</td>\n",
       "      <td>...</td>\n",
       "      <td>...</td>\n",
       "      <td>...</td>\n",
       "      <td>...</td>\n",
       "      <td>...</td>\n",
       "      <td>...</td>\n",
       "      <td>...</td>\n",
       "      <td>...</td>\n",
       "      <td>...</td>\n",
       "      <td>...</td>\n",
       "      <td>...</td>\n",
       "      <td>...</td>\n",
       "      <td>...</td>\n",
       "      <td>...</td>\n",
       "      <td>...</td>\n",
       "      <td>...</td>\n",
       "      <td>...</td>\n",
       "      <td>...</td>\n",
       "      <td>...</td>\n",
       "      <td>...</td>\n",
       "    </tr>\n",
       "    <tr>\n",
       "      <th>66455</th>\n",
       "      <td>1</td>\n",
       "      <td>0.411765</td>\n",
       "      <td>0.00</td>\n",
       "      <td>0.714286</td>\n",
       "      <td>1.00</td>\n",
       "      <td>0</td>\n",
       "      <td>0.166667</td>\n",
       "      <td>0.0</td>\n",
       "      <td>1</td>\n",
       "      <td>1.0</td>\n",
       "      <td>...</td>\n",
       "      <td>0.0</td>\n",
       "      <td>1.0</td>\n",
       "      <td>1.0</td>\n",
       "      <td>0.0</td>\n",
       "      <td>0.0</td>\n",
       "      <td>0.0</td>\n",
       "      <td>0.0</td>\n",
       "      <td>0.0</td>\n",
       "      <td>1.0</td>\n",
       "      <td>0.0</td>\n",
       "    </tr>\n",
       "    <tr>\n",
       "      <th>99566</th>\n",
       "      <td>0</td>\n",
       "      <td>0.588235</td>\n",
       "      <td>0.75</td>\n",
       "      <td>0.738431</td>\n",
       "      <td>0.50</td>\n",
       "      <td>1</td>\n",
       "      <td>0.500000</td>\n",
       "      <td>1.0</td>\n",
       "      <td>1</td>\n",
       "      <td>1.0</td>\n",
       "      <td>...</td>\n",
       "      <td>0.0</td>\n",
       "      <td>1.0</td>\n",
       "      <td>1.0</td>\n",
       "      <td>0.0</td>\n",
       "      <td>0.0</td>\n",
       "      <td>0.0</td>\n",
       "      <td>0.0</td>\n",
       "      <td>0.0</td>\n",
       "      <td>1.0</td>\n",
       "      <td>1.0</td>\n",
       "    </tr>\n",
       "    <tr>\n",
       "      <th>49635</th>\n",
       "      <td>1</td>\n",
       "      <td>0.058824</td>\n",
       "      <td>1.00</td>\n",
       "      <td>0.597586</td>\n",
       "      <td>0.00</td>\n",
       "      <td>1</td>\n",
       "      <td>0.166667</td>\n",
       "      <td>1.0</td>\n",
       "      <td>1</td>\n",
       "      <td>1.0</td>\n",
       "      <td>...</td>\n",
       "      <td>1.0</td>\n",
       "      <td>0.0</td>\n",
       "      <td>0.0</td>\n",
       "      <td>1.0</td>\n",
       "      <td>0.0</td>\n",
       "      <td>0.0</td>\n",
       "      <td>0.0</td>\n",
       "      <td>1.0</td>\n",
       "      <td>0.0</td>\n",
       "      <td>1.0</td>\n",
       "    </tr>\n",
       "    <tr>\n",
       "      <th>54698</th>\n",
       "      <td>0</td>\n",
       "      <td>0.058824</td>\n",
       "      <td>0.75</td>\n",
       "      <td>0.714286</td>\n",
       "      <td>0.75</td>\n",
       "      <td>1</td>\n",
       "      <td>1.000000</td>\n",
       "      <td>1.0</td>\n",
       "      <td>0</td>\n",
       "      <td>0.0</td>\n",
       "      <td>...</td>\n",
       "      <td>0.0</td>\n",
       "      <td>1.0</td>\n",
       "      <td>0.0</td>\n",
       "      <td>1.0</td>\n",
       "      <td>0.0</td>\n",
       "      <td>0.0</td>\n",
       "      <td>0.0</td>\n",
       "      <td>0.0</td>\n",
       "      <td>1.0</td>\n",
       "      <td>1.0</td>\n",
       "    </tr>\n",
       "    <tr>\n",
       "      <th>13946</th>\n",
       "      <td>1</td>\n",
       "      <td>0.823529</td>\n",
       "      <td>0.25</td>\n",
       "      <td>0.545272</td>\n",
       "      <td>0.75</td>\n",
       "      <td>0</td>\n",
       "      <td>1.000000</td>\n",
       "      <td>0.0</td>\n",
       "      <td>0</td>\n",
       "      <td>0.0</td>\n",
       "      <td>...</td>\n",
       "      <td>1.0</td>\n",
       "      <td>0.0</td>\n",
       "      <td>0.0</td>\n",
       "      <td>0.0</td>\n",
       "      <td>1.0</td>\n",
       "      <td>0.0</td>\n",
       "      <td>0.0</td>\n",
       "      <td>1.0</td>\n",
       "      <td>0.0</td>\n",
       "      <td>0.0</td>\n",
       "    </tr>\n",
       "  </tbody>\n",
       "</table>\n",
       "<p>22254 rows × 21 columns</p>\n",
       "</div>"
      ],
      "text/plain": [
       "        Female       Age  Academic Pressure      CGPA  Study Satisfaction  \\\n",
       "id                                                                          \n",
       "71804        0  0.764706               0.00  0.776660                0.75   \n",
       "6495         0  0.882353               0.00  0.269618                0.75   \n",
       "118315       1  0.411765               0.25  0.887324                0.50   \n",
       "101942       0  0.176471               0.25  0.354125                0.00   \n",
       "132433       0  0.647059               0.50  0.567404                0.00   \n",
       "...        ...       ...                ...       ...                 ...   \n",
       "66455        1  0.411765               0.00  0.714286                1.00   \n",
       "99566        0  0.588235               0.75  0.738431                0.50   \n",
       "49635        1  0.058824               1.00  0.597586                0.00   \n",
       "54698        0  0.058824               0.75  0.714286                0.75   \n",
       "13946        1  0.823529               0.25  0.545272                0.75   \n",
       "\n",
       "        Thoughts  Work/Study Hours  Financial Stress  Family History  \\\n",
       "id                                                                     \n",
       "71804          1          0.833333               0.0               1   \n",
       "6495           0          0.166667               0.0               0   \n",
       "118315         1          1.000000               1.0               0   \n",
       "101942         1          0.166667               1.0               0   \n",
       "132433         0          1.000000               0.0               0   \n",
       "...          ...               ...               ...             ...   \n",
       "66455          0          0.166667               0.0               1   \n",
       "99566          1          0.500000               1.0               1   \n",
       "49635          1          0.166667               1.0               1   \n",
       "54698          1          1.000000               1.0               0   \n",
       "13946          0          1.000000               0.0               0   \n",
       "\n",
       "        Sleep_Cat  ...  Dietary Habits_Moderate  Dietary Habits_Unhealthy  \\\n",
       "id                 ...                                                      \n",
       "71804         0.0  ...                      0.0                       1.0   \n",
       "6495          0.0  ...                      1.0                       0.0   \n",
       "118315        0.0  ...                      0.0                       1.0   \n",
       "101942        1.0  ...                      0.0                       1.0   \n",
       "132433        0.0  ...                      0.0                       1.0   \n",
       "...           ...  ...                      ...                       ...   \n",
       "66455         1.0  ...                      0.0                       1.0   \n",
       "99566         1.0  ...                      0.0                       1.0   \n",
       "49635         1.0  ...                      1.0                       0.0   \n",
       "54698         0.0  ...                      0.0                       1.0   \n",
       "13946         0.0  ...                      1.0                       0.0   \n",
       "\n",
       "        Degree_Cat_Bachelor  Degree_Cat_High School  Degree_Cat_Master  \\\n",
       "id                                                                       \n",
       "71804                   0.0                     0.0                1.0   \n",
       "6495                    0.0                     0.0                1.0   \n",
       "118315                  1.0                     0.0                0.0   \n",
       "101942                  1.0                     0.0                0.0   \n",
       "132433                  1.0                     0.0                0.0   \n",
       "...                     ...                     ...                ...   \n",
       "66455                   1.0                     0.0                0.0   \n",
       "99566                   1.0                     0.0                0.0   \n",
       "49635                   0.0                     1.0                0.0   \n",
       "54698                   0.0                     1.0                0.0   \n",
       "13946                   0.0                     0.0                1.0   \n",
       "\n",
       "        Degree_Cat_PhD  City_Cat_100k  City_Cat_1M  City_Cat_Rest  \\\n",
       "id                                                                  \n",
       "71804              0.0            0.0          1.0            0.0   \n",
       "6495               0.0            0.0          1.0            0.0   \n",
       "118315             0.0            0.0          1.0            0.0   \n",
       "101942             0.0            0.0          1.0            0.0   \n",
       "132433             0.0            0.0          0.0            1.0   \n",
       "...                ...            ...          ...            ...   \n",
       "66455              0.0            0.0          0.0            1.0   \n",
       "99566              0.0            0.0          0.0            1.0   \n",
       "49635              0.0            0.0          1.0            0.0   \n",
       "54698              0.0            0.0          0.0            1.0   \n",
       "13946              0.0            0.0          1.0            0.0   \n",
       "\n",
       "        Depression_Index  \n",
       "id                        \n",
       "71804                0.0  \n",
       "6495                 0.0  \n",
       "118315               1.0  \n",
       "101942               1.0  \n",
       "132433               0.0  \n",
       "...                  ...  \n",
       "66455                0.0  \n",
       "99566                1.0  \n",
       "49635                1.0  \n",
       "54698                1.0  \n",
       "13946                0.0  \n",
       "\n",
       "[22254 rows x 21 columns]"
      ]
     },
     "execution_count": 43,
     "metadata": {},
     "output_type": "execute_result"
    }
   ],
   "source": [
    "encoder = OneHotEncoder(sparse_output=False)\n",
    "one_hot_encoded = encoder.fit_transform(df_train_cat)\n",
    "df_onehot = pd.DataFrame(one_hot_encoded, columns=encoder.get_feature_names_out(), index=data.index)\n",
    "\n",
    "df_train = df_train.drop(df_train.columns[categorical], axis=1).join(df_onehot)\n",
    "\n",
    "#Reorder features and set index\n",
    "df_train.loc[df_train['Depression'] == 1, 'Depression_Index'] = 1\n",
    "df_train.loc[df_train['Depression'] == 0, 'Depression_Index'] = 0\n",
    "df_train = df_train.drop('Depression', axis=1)\n",
    "df_train.set_index('id')"
   ]
  },
  {
   "cell_type": "markdown",
   "id": "1ce255b7",
   "metadata": {},
   "source": [
    "Done! This is what the first row of our data frame now looks like:"
   ]
  },
  {
   "cell_type": "code",
   "execution_count": 44,
   "id": "301a5ddd",
   "metadata": {
    "scrolled": false
   },
   "outputs": [
    {
     "data": {
      "text/plain": [
       "id                          71804.000000\n",
       "Female                          0.000000\n",
       "Age                             0.764706\n",
       "Academic Pressure               0.000000\n",
       "CGPA                            0.776660\n",
       "Study Satisfaction              0.750000\n",
       "Thoughts                        1.000000\n",
       "Work/Study Hours                0.833333\n",
       "Financial Stress                0.000000\n",
       "Family History                  1.000000\n",
       "Sleep_Cat                       0.000000\n",
       "Dietary Habits_Healthy          0.000000\n",
       "Dietary Habits_Moderate         0.000000\n",
       "Dietary Habits_Unhealthy        1.000000\n",
       "Degree_Cat_Bachelor             0.000000\n",
       "Degree_Cat_High School          0.000000\n",
       "Degree_Cat_Master               1.000000\n",
       "Degree_Cat_PhD                  0.000000\n",
       "City_Cat_100k                   0.000000\n",
       "City_Cat_1M                     1.000000\n",
       "City_Cat_Rest                   0.000000\n",
       "Depression_Index                0.000000\n",
       "Name: 14195, dtype: float64"
      ]
     },
     "execution_count": 44,
     "metadata": {},
     "output_type": "execute_result"
    }
   ],
   "source": [
    "df_train.iloc[0,:]"
   ]
  },
  {
   "cell_type": "markdown",
   "id": "fac93a3b",
   "metadata": {},
   "source": [
    "<p> <br> </p>\n",
    "<p> <br> </p>\n",
    "<p> <br> </p>\n",
    "<p> <br> </p>\n",
    "<p> <br> </p>"
   ]
  },
  {
   "cell_type": "markdown",
   "id": "49e50902",
   "metadata": {},
   "source": [
    "__________________________\n",
    "# 3. Selecting and building models"
   ]
  },
  {
   "cell_type": "markdown",
   "id": "e3dc182e",
   "metadata": {},
   "source": [
    " "
   ]
  },
  {
   "cell_type": "code",
   "execution_count": 45,
   "id": "87608f35",
   "metadata": {},
   "outputs": [],
   "source": [
    "#Splitting data into training features and target feature\n",
    "X = df_train.iloc[:, 0:-1]\n",
    "y = df_train.iloc[:, -1]\n",
    "\n",
    "X_test = df_test.iloc[:, 0:-1]\n",
    "y_test = df_test.iloc[:, -1]\n",
    "\n",
    "#Creating a validation set\n",
    "X_train, X_val, y_train, y_val = train_test_split(X, y, random_state=rng, test_size=0.2, stratify=X[['Female', 'Age']])"
   ]
  },
  {
   "cell_type": "markdown",
   "id": "3fb17d19",
   "metadata": {},
   "source": [
    "Building a Logistic Regression model and printing its confusion matrix:"
   ]
  },
  {
   "cell_type": "code",
   "execution_count": 46,
   "id": "da345ff5",
   "metadata": {
    "scrolled": false
   },
   "outputs": [
    {
     "data": {
      "text/plain": [
       "array([[1837,    0],\n",
       "       [   0, 2614]])"
      ]
     },
     "execution_count": 46,
     "metadata": {},
     "output_type": "execute_result"
    }
   ],
   "source": [
    "logreg = LogisticRegression(random_state=rng, max_iter=1500)\n",
    "logreg.fit(X_train, y_train)\n",
    "y_logreg = logreg.predict(X_val)\n",
    "cm_logreg = confusion_matrix(y_val, y_logreg)\n",
    "cm_logreg"
   ]
  },
  {
   "cell_type": "code",
   "execution_count": 47,
   "id": "9c69b1ec",
   "metadata": {
    "scrolled": true
   },
   "outputs": [
    {
     "data": {
      "image/png": "[encoded data removed]",
      "text/plain": [
       "<Figure size 500x300 with 1 Axes>"
      ]
     },
     "metadata": {},
     "output_type": "display_data"
    }
   ],
   "source": [
    "plt.figure(figsize=(5, 3))\n",
    "sns.heatmap(cm_logreg, annot=True, fmt='d', cmap='crest', cbar=False, xticklabels=['Predicted: 0', 'Predicted: 1'], yticklabels=['Real: 0', 'Real: 1'])\n",
    "plt.title('LogReg Confusion Matrix \\n on Training and Validation Set\\n')\n",
    "plt.xlabel('')\n",
    "plt.ylabel('')\n",
    "plt.show()"
   ]
  },
  {
   "cell_type": "markdown",
   "id": "9c80bec1",
   "metadata": {},
   "source": [
    "Building a Decision Tree Classifier model and printing its confusion matrix:"
   ]
  },
  {
   "cell_type": "code",
   "execution_count": 48,
   "id": "bda9cee7",
   "metadata": {},
   "outputs": [
    {
     "data": {
      "text/plain": [
       "array([[1837,    0],\n",
       "       [   0, 2614]])"
      ]
     },
     "execution_count": 48,
     "metadata": {},
     "output_type": "execute_result"
    }
   ],
   "source": [
    "treeclf = DecisionTreeClassifier(random_state=rng)\n",
    "treeclf.fit(X_train, y_train)\n",
    "y_tree = treeclf.predict(X_val)\n",
    "cm_treeclf = confusion_matrix(y_val, y_tree)\n",
    "cm_treeclf"
   ]
  },
  {
   "cell_type": "code",
   "execution_count": 49,
   "id": "9f3d48f3",
   "metadata": {
    "scrolled": true
   },
   "outputs": [
    {
     "data": {
      "image/png": "[encoded data removed]",
      "text/plain": [
       "<Figure size 500x300 with 1 Axes>"
      ]
     },
     "metadata": {},
     "output_type": "display_data"
    }
   ],
   "source": [
    "plt.figure(figsize=(5, 3))\n",
    "sns.heatmap(cm_treeclf, annot=True, fmt='d', cmap='crest', cbar=False, xticklabels=['Predicted: 0', 'Predicted: 1'], yticklabels=['Real: 0', 'Real: 1'])\n",
    "plt.title('Tree Confusion Matrix \\n on Training and Validation Set\\n')\n",
    "plt.xlabel('')\n",
    "plt.ylabel('')\n",
    "plt.show()"
   ]
  },
  {
   "cell_type": "markdown",
   "id": "1c04dd3b",
   "metadata": {},
   "source": [
    "Both our models predict the correct values of the instances with perfect accuracy."
   ]
  },
  {
   "cell_type": "markdown",
   "id": "bfc05e41",
   "metadata": {},
   "source": [
    "Clearly, this would not have happened with a real dataset. The reason both models can predict the values with perfect accuracy is that the dataset has been artificially created. The instances have been created by specifying certain rules, and both models can detect them easily."
   ]
  },
  {
   "cell_type": "markdown",
   "id": "64bb277b",
   "metadata": {},
   "source": [
    "With a real dataset, we would have spotted differences when predicting values in the validation set. What would we have done in this case? \n",
    "\n",
    "* First, we would have tuned both model parameters.\n",
    "* Then we would have selected the best-performing model according to our performance measure on the validation set.\n",
    "* We would train the model on both the training and validation set.\n",
    "* Finally, we would have measured its performance on the test set."
   ]
  }
 ],
 "metadata": {
  "kernelspec": {
   "display_name": "Python 3 (ipykernel)",
   "language": "python",
   "name": "python3"
  },
  "language_info": {
   "codemirror_mode": {
    "name": "ipython",
    "version": 3
   },
   "file_extension": ".py",
   "mimetype": "text/x-python",
   "name": "python",
   "nbconvert_exporter": "python",
   "pygments_lexer": "ipython3",
   "version": "3.12.3"
  }
 },
 "nbformat": 4,
 "nbformat_minor": 5
}
