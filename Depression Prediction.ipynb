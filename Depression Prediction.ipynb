{
 "cells": [
  {
   "cell_type": "markdown",
   "id": "9a5cc5c9",
   "metadata": {},
   "source": [
    "# Predicting Depression among Students"
   ]
  },
  {
   "cell_type": "markdown",
   "id": "31bd2c5c",
   "metadata": {},
   "source": [
    " \n",
    "  "
   ]
  },
  {
   "cell_type": "markdown",
   "id": "2d0e6aa1",
   "metadata": {},
   "source": [
    "__________________________\n",
    "**Tags:** *Machine Learning*, *Binary Classification*, *Predictive Analysis*, *Descriptive Analysis*\n",
    "\n",
    "**Techniques**: *Imputation*, *Scaling*, *OneHotEncoding*, *Cross Validation*\n",
    "\n",
    "**Python:** *Scikit-Learn*, *Pandas*, *Matplotlib*, *Seaborn* (see below for full list)\n",
    "__________________________"
   ]
  },
  {
   "cell_type": "markdown",
   "id": "91bf6cd0",
   "metadata": {},
   "source": [
    "__________________________\n",
    "**Scenario:** A large university wants to proactively support student mental health through targeted interventions. \n",
    "They have surveyed 28,000 students in order to gain insights about which factors are likely contributing to depression. In the process, an early-warning system should be implemented. Students who fill out the survey in the future should receive a statistical prediction of their depression status, so they can seek help if needed. Our role is to develop such a statistical ML model.\n",
    "\n",
    "\n",
    "**Goal:** We want to build a Machine Learning model that predicts a student's depression status *True (1)* or *False (0)*. For this purpose, we are going to explore and describe the data and build a binary classifier using state-of-the-art Python packages. In the process, we hope to learn something new about the disease from the model. \n",
    "\n",
    "\n",
    "**Dataset:** We are given a (toy) dataset containing a list of students and their demographics, lifestyle habits, academic performance, and depression status. The dataset is taken from Kaggle. Author: Shodolamu Opeyemi, Title: \"Student Depression Dataset.\", https://www.kaggle.com/datasets/hopesb/student-depression-dataset\n",
    "\n",
    "__________________________"
   ]
  },
  {
   "cell_type": "markdown",
   "id": "1d567dcf",
   "metadata": {},
   "source": [
    "__________________________\n",
    "## Contents"
   ]
  },
  {
   "cell_type": "markdown",
   "id": "a19abe03",
   "metadata": {},
   "source": [
    "1. **Preliminary considerations**\n",
    "<p> </p>\n",
    "2. **Exploring and cleaning the data**\n",
    "<p> </p>\n",
    "3. **Selecting and building models**\n",
    "<p> </p>\n",
    "4. **Evaluating the models**\n",
    "__________________________"
   ]
  },
  {
   "cell_type": "markdown",
   "id": "2a02b2dd",
   "metadata": {},
   "source": [
    "__________________________\n",
    "# 1. Preliminary considerations"
   ]
  },
  {
   "cell_type": "markdown",
   "id": "5f2e11df",
   "metadata": {},
   "source": [
    " "
   ]
  },
  {
   "cell_type": "markdown",
   "id": "2ec42b73",
   "metadata": {},
   "source": [
    "### 1.1 Legal and ethical considerations\n",
    "In this notebook, we are dealing with fake data. In a real setting, the above scenario raises issues of ethical and legal concern. As data scientists, we are responsible for ethical data manipulation that adheres to legal standards, like the [GDPR in the European Union](https://eur-lex.europa.eu/eli/reg/2016/679/oj/eng). Under the GDPR framework, parts of this dataset would be considered sensitive data, which carries legal implications in how the data is obtained, handled and distributed."
   ]
  },
  {
   "cell_type": "markdown",
   "id": "da864ce5",
   "metadata": {},
   "source": [
    "### 1.2 Performance measure\n",
    "Under the given scenario, we are going to measure our model performance by setting aside a test set and comparing the results of our model candidates, leading to a confusion matrix. We will prefer the Precision-Recall (PR) curve over the Receiver Operating Characteristic (ROC) curve. This is because we would like to maximize the number of true positives, a false positive is not as bad as a false negative. In other words, accidentally suggesting a depression-free student to seek counselling is better than failing to give such a recommendation to a student with an actual depression."
   ]
  },
  {
   "cell_type": "markdown",
   "id": "cd078146",
   "metadata": {},
   "source": [
    "### 1.3 Model candidates and general plan\n",
    "To keep this demonstration simple, we will consider only two models of the Scikit Package: *Logistic Regression* and *Decision Tree Classifier*. We want to cross-validate them on a validation set and tune their parameters, before we finalize the model development and evaluate its performance on the test set.\n",
    "__________________________"
   ]
  },
  {
   "cell_type": "markdown",
   "id": "81c54447",
   "metadata": {},
   "source": [
    " "
   ]
  },
  {
   "cell_type": "markdown",
   "id": "cfc3cb2f",
   "metadata": {},
   "source": [
    "# 2. Exploring and cleaning the data"
   ]
  },
  {
   "cell_type": "markdown",
   "id": "d9618f79",
   "metadata": {},
   "source": [
    "### Relevant packages used throughout this notebook"
   ]
  },
  {
   "cell_type": "code",
   "execution_count": 1,
   "id": "49020858",
   "metadata": {},
   "outputs": [],
   "source": [
    "import numpy as np\n",
    "import pandas as pd\n",
    "import matplotlib.pyplot as plt\n",
    "import seaborn as sns\n",
    "\n",
    "from sklearn.preprocessing import MinMaxScaler\n",
    "from sklearn.preprocessing import OneHotEncoder\n",
    "from sklearn.impute import SimpleImputer\n",
    "from sklearn.model_selection import train_test_split\n",
    "from sklearn.model_selection import cross_val_predict\n",
    "from sklearn.tree import DecisionTreeClassifier\n",
    "from sklearn.linear_model import LogisticRegression\n",
    "from sklearn.metrics import confusion_matrix"
   ]
  },
  {
   "cell_type": "markdown",
   "id": "0c69c704",
   "metadata": {},
   "source": [
    "## 2.1 Data Exploration"
   ]
  },
  {
   "cell_type": "code",
   "execution_count": 2,
   "id": "ef4a82f2",
   "metadata": {},
   "outputs": [
    {
     "data": {
      "text/plain": [
       "(27901, 18)"
      ]
     },
     "execution_count": 2,
     "metadata": {},
     "output_type": "execute_result"
    }
   ],
   "source": [
    "df = pd.read_csv('Depression Prediction Dataset.csv') #available here: https://www.kaggle.com/datasets/hopesb/student-depression-dataset\n",
    "df.shape"
   ]
  },
  {
   "cell_type": "markdown",
   "id": "611c50f4",
   "metadata": {},
   "source": [
    "Let us first get a broad overview of the dataset."
   ]
  },
  {
   "cell_type": "code",
   "execution_count": 3,
   "id": "c5c9d57b",
   "metadata": {},
   "outputs": [
    {
     "data": {
      "text/html": [
       "<div>\n",
       "<style scoped>\n",
       "    .dataframe tbody tr th:only-of-type {\n",
       "        vertical-align: middle;\n",
       "    }\n",
       "\n",
       "    .dataframe tbody tr th {\n",
       "        vertical-align: top;\n",
       "    }\n",
       "\n",
       "    .dataframe thead th {\n",
       "        text-align: right;\n",
       "    }\n",
       "</style>\n",
       "<table border=\"1\" class=\"dataframe\">\n",
       "  <thead>\n",
       "    <tr style=\"text-align: right;\">\n",
       "      <th></th>\n",
       "      <th>id</th>\n",
       "      <th>Gender</th>\n",
       "      <th>Age</th>\n",
       "      <th>City</th>\n",
       "      <th>Profession</th>\n",
       "      <th>Academic Pressure</th>\n",
       "      <th>Work Pressure</th>\n",
       "      <th>CGPA</th>\n",
       "      <th>Study Satisfaction</th>\n",
       "      <th>Job Satisfaction</th>\n",
       "      <th>Sleep Duration</th>\n",
       "      <th>Dietary Habits</th>\n",
       "      <th>Degree</th>\n",
       "      <th>Have you ever had suicidal thoughts ?</th>\n",
       "      <th>Work/Study Hours</th>\n",
       "      <th>Financial Stress</th>\n",
       "      <th>Family History of Mental Illness</th>\n",
       "      <th>Depression</th>\n",
       "    </tr>\n",
       "  </thead>\n",
       "  <tbody>\n",
       "    <tr>\n",
       "      <th>0</th>\n",
       "      <td>2</td>\n",
       "      <td>Male</td>\n",
       "      <td>33.0</td>\n",
       "      <td>Visakhapatnam</td>\n",
       "      <td>Student</td>\n",
       "      <td>5.0</td>\n",
       "      <td>0.0</td>\n",
       "      <td>8.97</td>\n",
       "      <td>2.0</td>\n",
       "      <td>0.0</td>\n",
       "      <td>5-6 hours</td>\n",
       "      <td>Healthy</td>\n",
       "      <td>B.Pharm</td>\n",
       "      <td>Yes</td>\n",
       "      <td>3.0</td>\n",
       "      <td>1.0</td>\n",
       "      <td>No</td>\n",
       "      <td>1</td>\n",
       "    </tr>\n",
       "    <tr>\n",
       "      <th>1</th>\n",
       "      <td>8</td>\n",
       "      <td>Female</td>\n",
       "      <td>24.0</td>\n",
       "      <td>Bangalore</td>\n",
       "      <td>Student</td>\n",
       "      <td>2.0</td>\n",
       "      <td>0.0</td>\n",
       "      <td>5.90</td>\n",
       "      <td>5.0</td>\n",
       "      <td>0.0</td>\n",
       "      <td>5-6 hours</td>\n",
       "      <td>Moderate</td>\n",
       "      <td>BSc</td>\n",
       "      <td>No</td>\n",
       "      <td>3.0</td>\n",
       "      <td>2.0</td>\n",
       "      <td>Yes</td>\n",
       "      <td>0</td>\n",
       "    </tr>\n",
       "    <tr>\n",
       "      <th>2</th>\n",
       "      <td>26</td>\n",
       "      <td>Male</td>\n",
       "      <td>31.0</td>\n",
       "      <td>Srinagar</td>\n",
       "      <td>Student</td>\n",
       "      <td>3.0</td>\n",
       "      <td>0.0</td>\n",
       "      <td>7.03</td>\n",
       "      <td>5.0</td>\n",
       "      <td>0.0</td>\n",
       "      <td>Less than 5 hours</td>\n",
       "      <td>Healthy</td>\n",
       "      <td>BA</td>\n",
       "      <td>No</td>\n",
       "      <td>9.0</td>\n",
       "      <td>1.0</td>\n",
       "      <td>Yes</td>\n",
       "      <td>0</td>\n",
       "    </tr>\n",
       "    <tr>\n",
       "      <th>3</th>\n",
       "      <td>30</td>\n",
       "      <td>Female</td>\n",
       "      <td>28.0</td>\n",
       "      <td>Varanasi</td>\n",
       "      <td>Student</td>\n",
       "      <td>3.0</td>\n",
       "      <td>0.0</td>\n",
       "      <td>5.59</td>\n",
       "      <td>2.0</td>\n",
       "      <td>0.0</td>\n",
       "      <td>7-8 hours</td>\n",
       "      <td>Moderate</td>\n",
       "      <td>BCA</td>\n",
       "      <td>Yes</td>\n",
       "      <td>4.0</td>\n",
       "      <td>5.0</td>\n",
       "      <td>Yes</td>\n",
       "      <td>1</td>\n",
       "    </tr>\n",
       "    <tr>\n",
       "      <th>4</th>\n",
       "      <td>32</td>\n",
       "      <td>Female</td>\n",
       "      <td>25.0</td>\n",
       "      <td>Jaipur</td>\n",
       "      <td>Student</td>\n",
       "      <td>4.0</td>\n",
       "      <td>0.0</td>\n",
       "      <td>8.13</td>\n",
       "      <td>3.0</td>\n",
       "      <td>0.0</td>\n",
       "      <td>5-6 hours</td>\n",
       "      <td>Moderate</td>\n",
       "      <td>M.Tech</td>\n",
       "      <td>Yes</td>\n",
       "      <td>1.0</td>\n",
       "      <td>1.0</td>\n",
       "      <td>No</td>\n",
       "      <td>0</td>\n",
       "    </tr>\n",
       "  </tbody>\n",
       "</table>\n",
       "</div>"
      ],
      "text/plain": [
       "   id  Gender   Age           City Profession  Academic Pressure  \\\n",
       "0   2    Male  33.0  Visakhapatnam    Student                5.0   \n",
       "1   8  Female  24.0      Bangalore    Student                2.0   \n",
       "2  26    Male  31.0       Srinagar    Student                3.0   \n",
       "3  30  Female  28.0       Varanasi    Student                3.0   \n",
       "4  32  Female  25.0         Jaipur    Student                4.0   \n",
       "\n",
       "   Work Pressure  CGPA  Study Satisfaction  Job Satisfaction  \\\n",
       "0            0.0  8.97                 2.0               0.0   \n",
       "1            0.0  5.90                 5.0               0.0   \n",
       "2            0.0  7.03                 5.0               0.0   \n",
       "3            0.0  5.59                 2.0               0.0   \n",
       "4            0.0  8.13                 3.0               0.0   \n",
       "\n",
       "      Sleep Duration Dietary Habits   Degree  \\\n",
       "0          5-6 hours        Healthy  B.Pharm   \n",
       "1          5-6 hours       Moderate      BSc   \n",
       "2  Less than 5 hours        Healthy       BA   \n",
       "3          7-8 hours       Moderate      BCA   \n",
       "4          5-6 hours       Moderate   M.Tech   \n",
       "\n",
       "  Have you ever had suicidal thoughts ?  Work/Study Hours  Financial Stress  \\\n",
       "0                                   Yes               3.0               1.0   \n",
       "1                                    No               3.0               2.0   \n",
       "2                                    No               9.0               1.0   \n",
       "3                                   Yes               4.0               5.0   \n",
       "4                                   Yes               1.0               1.0   \n",
       "\n",
       "  Family History of Mental Illness  Depression  \n",
       "0                               No           1  \n",
       "1                              Yes           0  \n",
       "2                              Yes           0  \n",
       "3                              Yes           1  \n",
       "4                               No           0  "
      ]
     },
     "execution_count": 3,
     "metadata": {},
     "output_type": "execute_result"
    }
   ],
   "source": [
    "df.head()"
   ]
  },
  {
   "cell_type": "markdown",
   "id": "dfa8f7a4",
   "metadata": {},
   "source": [
    "For each instance, that is a unique student, we are given 18 features, including a unique ID and the target variable 'Depression'. The feature types are of categorical, ordinal and numerical nature. The following data types are used in the dataframe:"
   ]
  },
  {
   "cell_type": "code",
   "execution_count": 4,
   "id": "59acc151",
   "metadata": {
    "scrolled": false
   },
   "outputs": [
    {
     "name": "stdout",
     "output_type": "stream",
     "text": [
      "<class 'pandas.core.frame.DataFrame'>\n",
      "RangeIndex: 27901 entries, 0 to 27900\n",
      "Data columns (total 18 columns):\n",
      " #   Column                                 Non-Null Count  Dtype  \n",
      "---  ------                                 --------------  -----  \n",
      " 0   id                                     27901 non-null  int64  \n",
      " 1   Gender                                 27901 non-null  object \n",
      " 2   Age                                    27901 non-null  float64\n",
      " 3   City                                   27901 non-null  object \n",
      " 4   Profession                             27901 non-null  object \n",
      " 5   Academic Pressure                      27901 non-null  float64\n",
      " 6   Work Pressure                          27901 non-null  float64\n",
      " 7   CGPA                                   27901 non-null  float64\n",
      " 8   Study Satisfaction                     27901 non-null  float64\n",
      " 9   Job Satisfaction                       27901 non-null  float64\n",
      " 10  Sleep Duration                         27901 non-null  object \n",
      " 11  Dietary Habits                         27901 non-null  object \n",
      " 12  Degree                                 27901 non-null  object \n",
      " 13  Have you ever had suicidal thoughts ?  27901 non-null  object \n",
      " 14  Work/Study Hours                       27901 non-null  float64\n",
      " 15  Financial Stress                       27898 non-null  float64\n",
      " 16  Family History of Mental Illness       27901 non-null  object \n",
      " 17  Depression                             27901 non-null  int64  \n",
      "dtypes: float64(8), int64(2), object(8)\n",
      "memory usage: 3.8+ MB\n"
     ]
    }
   ],
   "source": [
    "df.info()"
   ]
  },
  {
   "cell_type": "markdown",
   "id": "356ea7b0",
   "metadata": {},
   "source": [
    "The dataset contains a list of about 28,000 students, which is fairly small for Machine Learning techniques. As we imported a CSV file, we know the object values are all text attributes. Moreover we can see that a few values are missing in the #15 'Financial Stress' feature. We will deal with this problem later. For now, let us further explore the numerical features."
   ]
  },
  {
   "cell_type": "code",
   "execution_count": 5,
   "id": "bbb92846",
   "metadata": {},
   "outputs": [
    {
     "data": {
      "text/html": [
       "<div>\n",
       "<style scoped>\n",
       "    .dataframe tbody tr th:only-of-type {\n",
       "        vertical-align: middle;\n",
       "    }\n",
       "\n",
       "    .dataframe tbody tr th {\n",
       "        vertical-align: top;\n",
       "    }\n",
       "\n",
       "    .dataframe thead th {\n",
       "        text-align: right;\n",
       "    }\n",
       "</style>\n",
       "<table border=\"1\" class=\"dataframe\">\n",
       "  <thead>\n",
       "    <tr style=\"text-align: right;\">\n",
       "      <th></th>\n",
       "      <th>id</th>\n",
       "      <th>Age</th>\n",
       "      <th>Academic Pressure</th>\n",
       "      <th>Work Pressure</th>\n",
       "      <th>CGPA</th>\n",
       "      <th>Study Satisfaction</th>\n",
       "      <th>Job Satisfaction</th>\n",
       "      <th>Work/Study Hours</th>\n",
       "      <th>Financial Stress</th>\n",
       "      <th>Depression</th>\n",
       "    </tr>\n",
       "  </thead>\n",
       "  <tbody>\n",
       "    <tr>\n",
       "      <th>count</th>\n",
       "      <td>27901.000000</td>\n",
       "      <td>27901.000000</td>\n",
       "      <td>27901.000000</td>\n",
       "      <td>27901.000000</td>\n",
       "      <td>27901.000000</td>\n",
       "      <td>27901.000000</td>\n",
       "      <td>27901.000000</td>\n",
       "      <td>27901.000000</td>\n",
       "      <td>27898.000000</td>\n",
       "      <td>27901.000000</td>\n",
       "    </tr>\n",
       "    <tr>\n",
       "      <th>mean</th>\n",
       "      <td>70442.149421</td>\n",
       "      <td>25.822300</td>\n",
       "      <td>3.141214</td>\n",
       "      <td>0.000430</td>\n",
       "      <td>7.656104</td>\n",
       "      <td>2.943837</td>\n",
       "      <td>0.000681</td>\n",
       "      <td>7.156984</td>\n",
       "      <td>3.139867</td>\n",
       "      <td>0.585499</td>\n",
       "    </tr>\n",
       "    <tr>\n",
       "      <th>std</th>\n",
       "      <td>40641.175216</td>\n",
       "      <td>4.905687</td>\n",
       "      <td>1.381465</td>\n",
       "      <td>0.043992</td>\n",
       "      <td>1.470707</td>\n",
       "      <td>1.361148</td>\n",
       "      <td>0.044394</td>\n",
       "      <td>3.707642</td>\n",
       "      <td>1.437347</td>\n",
       "      <td>0.492645</td>\n",
       "    </tr>\n",
       "    <tr>\n",
       "      <th>min</th>\n",
       "      <td>2.000000</td>\n",
       "      <td>18.000000</td>\n",
       "      <td>0.000000</td>\n",
       "      <td>0.000000</td>\n",
       "      <td>0.000000</td>\n",
       "      <td>0.000000</td>\n",
       "      <td>0.000000</td>\n",
       "      <td>0.000000</td>\n",
       "      <td>1.000000</td>\n",
       "      <td>0.000000</td>\n",
       "    </tr>\n",
       "    <tr>\n",
       "      <th>25%</th>\n",
       "      <td>35039.000000</td>\n",
       "      <td>21.000000</td>\n",
       "      <td>2.000000</td>\n",
       "      <td>0.000000</td>\n",
       "      <td>6.290000</td>\n",
       "      <td>2.000000</td>\n",
       "      <td>0.000000</td>\n",
       "      <td>4.000000</td>\n",
       "      <td>2.000000</td>\n",
       "      <td>0.000000</td>\n",
       "    </tr>\n",
       "    <tr>\n",
       "      <th>50%</th>\n",
       "      <td>70684.000000</td>\n",
       "      <td>25.000000</td>\n",
       "      <td>3.000000</td>\n",
       "      <td>0.000000</td>\n",
       "      <td>7.770000</td>\n",
       "      <td>3.000000</td>\n",
       "      <td>0.000000</td>\n",
       "      <td>8.000000</td>\n",
       "      <td>3.000000</td>\n",
       "      <td>1.000000</td>\n",
       "    </tr>\n",
       "    <tr>\n",
       "      <th>75%</th>\n",
       "      <td>105818.000000</td>\n",
       "      <td>30.000000</td>\n",
       "      <td>4.000000</td>\n",
       "      <td>0.000000</td>\n",
       "      <td>8.920000</td>\n",
       "      <td>4.000000</td>\n",
       "      <td>0.000000</td>\n",
       "      <td>10.000000</td>\n",
       "      <td>4.000000</td>\n",
       "      <td>1.000000</td>\n",
       "    </tr>\n",
       "    <tr>\n",
       "      <th>max</th>\n",
       "      <td>140699.000000</td>\n",
       "      <td>59.000000</td>\n",
       "      <td>5.000000</td>\n",
       "      <td>5.000000</td>\n",
       "      <td>10.000000</td>\n",
       "      <td>5.000000</td>\n",
       "      <td>4.000000</td>\n",
       "      <td>12.000000</td>\n",
       "      <td>5.000000</td>\n",
       "      <td>1.000000</td>\n",
       "    </tr>\n",
       "  </tbody>\n",
       "</table>\n",
       "</div>"
      ],
      "text/plain": [
       "                  id           Age  Academic Pressure  Work Pressure  \\\n",
       "count   27901.000000  27901.000000       27901.000000   27901.000000   \n",
       "mean    70442.149421     25.822300           3.141214       0.000430   \n",
       "std     40641.175216      4.905687           1.381465       0.043992   \n",
       "min         2.000000     18.000000           0.000000       0.000000   \n",
       "25%     35039.000000     21.000000           2.000000       0.000000   \n",
       "50%     70684.000000     25.000000           3.000000       0.000000   \n",
       "75%    105818.000000     30.000000           4.000000       0.000000   \n",
       "max    140699.000000     59.000000           5.000000       5.000000   \n",
       "\n",
       "               CGPA  Study Satisfaction  Job Satisfaction  Work/Study Hours  \\\n",
       "count  27901.000000        27901.000000      27901.000000      27901.000000   \n",
       "mean       7.656104            2.943837          0.000681          7.156984   \n",
       "std        1.470707            1.361148          0.044394          3.707642   \n",
       "min        0.000000            0.000000          0.000000          0.000000   \n",
       "25%        6.290000            2.000000          0.000000          4.000000   \n",
       "50%        7.770000            3.000000          0.000000          8.000000   \n",
       "75%        8.920000            4.000000          0.000000         10.000000   \n",
       "max       10.000000            5.000000          4.000000         12.000000   \n",
       "\n",
       "       Financial Stress    Depression  \n",
       "count      27898.000000  27901.000000  \n",
       "mean           3.139867      0.585499  \n",
       "std            1.437347      0.492645  \n",
       "min            1.000000      0.000000  \n",
       "25%            2.000000      0.000000  \n",
       "50%            3.000000      1.000000  \n",
       "75%            4.000000      1.000000  \n",
       "max            5.000000      1.000000  "
      ]
     },
     "execution_count": 5,
     "metadata": {},
     "output_type": "execute_result"
    }
   ],
   "source": [
    "df.describe()"
   ]
  },
  {
   "cell_type": "markdown",
   "id": "671daed3",
   "metadata": {},
   "source": [
    "For now, the data does not seem too extraordinary. A few points to consider:\n",
    "\n",
    "* As a kind of sanity check, at least 75 per cent of the people are 30 or younger, which is what we would expect from a dataset containing students.\n",
    "<p> <br> </p>\n",
    "* Something is going on with the work pressure and job satisfaction features: there are at least 75 per cent of zero values given in these features.\n",
    "<p> <br> </p>\n",
    "* 58.5 per cent of the surveyed students are suffering from depression. This value seems relatively high compared to the general population, so in a real setting, we would have to inquire where such a high prevalence is coming from."
   ]
  },
  {
   "cell_type": "code",
   "execution_count": 6,
   "id": "9a94e203",
   "metadata": {
    "scrolled": true
   },
   "outputs": [
    {
     "data": {
      "text/html": [
       "<div>\n",
       "<style scoped>\n",
       "    .dataframe tbody tr th:only-of-type {\n",
       "        vertical-align: middle;\n",
       "    }\n",
       "\n",
       "    .dataframe tbody tr th {\n",
       "        vertical-align: top;\n",
       "    }\n",
       "\n",
       "    .dataframe thead th {\n",
       "        text-align: right;\n",
       "    }\n",
       "</style>\n",
       "<table border=\"1\" class=\"dataframe\">\n",
       "  <thead>\n",
       "    <tr style=\"text-align: right;\">\n",
       "      <th></th>\n",
       "      <th>Gender</th>\n",
       "      <th>City</th>\n",
       "      <th>Profession</th>\n",
       "      <th>Sleep Duration</th>\n",
       "      <th>Dietary Habits</th>\n",
       "      <th>Degree</th>\n",
       "      <th>Have you ever had suicidal thoughts ?</th>\n",
       "      <th>Family History of Mental Illness</th>\n",
       "    </tr>\n",
       "  </thead>\n",
       "  <tbody>\n",
       "    <tr>\n",
       "      <th>count</th>\n",
       "      <td>27901</td>\n",
       "      <td>27901</td>\n",
       "      <td>27901</td>\n",
       "      <td>27901</td>\n",
       "      <td>27901</td>\n",
       "      <td>27901</td>\n",
       "      <td>27901</td>\n",
       "      <td>27901</td>\n",
       "    </tr>\n",
       "    <tr>\n",
       "      <th>unique</th>\n",
       "      <td>2</td>\n",
       "      <td>52</td>\n",
       "      <td>14</td>\n",
       "      <td>5</td>\n",
       "      <td>4</td>\n",
       "      <td>28</td>\n",
       "      <td>2</td>\n",
       "      <td>2</td>\n",
       "    </tr>\n",
       "    <tr>\n",
       "      <th>top</th>\n",
       "      <td>Male</td>\n",
       "      <td>Kalyan</td>\n",
       "      <td>Student</td>\n",
       "      <td>Less than 5 hours</td>\n",
       "      <td>Unhealthy</td>\n",
       "      <td>Class 12</td>\n",
       "      <td>Yes</td>\n",
       "      <td>No</td>\n",
       "    </tr>\n",
       "    <tr>\n",
       "      <th>freq</th>\n",
       "      <td>15547</td>\n",
       "      <td>1570</td>\n",
       "      <td>27870</td>\n",
       "      <td>8310</td>\n",
       "      <td>10317</td>\n",
       "      <td>6080</td>\n",
       "      <td>17656</td>\n",
       "      <td>14398</td>\n",
       "    </tr>\n",
       "  </tbody>\n",
       "</table>\n",
       "</div>"
      ],
      "text/plain": [
       "       Gender    City Profession     Sleep Duration Dietary Habits    Degree  \\\n",
       "count   27901   27901      27901              27901          27901     27901   \n",
       "unique      2      52         14                  5              4        28   \n",
       "top      Male  Kalyan    Student  Less than 5 hours      Unhealthy  Class 12   \n",
       "freq    15547    1570      27870               8310          10317      6080   \n",
       "\n",
       "       Have you ever had suicidal thoughts ? Family History of Mental Illness  \n",
       "count                                  27901                            27901  \n",
       "unique                                     2                                2  \n",
       "top                                      Yes                               No  \n",
       "freq                                   17656                            14398  "
      ]
     },
     "execution_count": 6,
     "metadata": {},
     "output_type": "execute_result"
    }
   ],
   "source": [
    "df.describe(include=object)"
   ]
  },
  {
   "cell_type": "markdown",
   "id": "c1b6fee4",
   "metadata": {},
   "source": [
    "Let us list all occuring values of the categorical features, like so:"
   ]
  },
  {
   "cell_type": "code",
   "execution_count": 7,
   "id": "1fb49853",
   "metadata": {
    "scrolled": false
   },
   "outputs": [
    {
     "name": "stdout",
     "output_type": "stream",
     "text": [
      "Gender\n",
      "['Male' 'Female'] \n",
      "\n",
      "City\n",
      "['Visakhapatnam' 'Bangalore' 'Srinagar' 'Varanasi' 'Jaipur' 'Pune' 'Thane'\n",
      " 'Chennai' 'Nagpur' 'Nashik' 'Vadodara' 'Kalyan' 'Rajkot' 'Ahmedabad'\n",
      " 'Kolkata' 'Mumbai' 'Lucknow' 'Indore' 'Surat' 'Ludhiana' 'Bhopal'\n",
      " 'Meerut' 'Agra' 'Ghaziabad' 'Hyderabad' 'Vasai-Virar' 'Kanpur' 'Patna'\n",
      " 'Faridabad' 'Delhi' 'Saanvi' 'M.Tech' 'Bhavna' 'Less Delhi' 'City' '3.0'\n",
      " 'Less than 5 Kalyan' 'Mira' 'Harsha' 'Vaanya' 'Gaurav' 'Harsh' 'Reyansh'\n",
      " 'Kibara' 'Rashi' 'ME' 'M.Com' 'Nalyan' 'Mihir' 'Nalini' 'Nandini'\n",
      " 'Khaziabad'] \n",
      "\n",
      "Profession\n",
      "['Student' 'Civil Engineer' 'Architect' 'UX/UI Designer'\n",
      " 'Digital Marketer' 'Content Writer' 'Educational Consultant' 'Teacher'\n",
      " 'Manager' 'Chef' 'Doctor' 'Lawyer' 'Entrepreneur' 'Pharmacist'] \n",
      "\n",
      "Sleep Duration\n",
      "['5-6 hours' 'Less than 5 hours' '7-8 hours' 'More than 8 hours' 'Others'] \n",
      "\n",
      "Dietary Habits\n",
      "['Healthy' 'Moderate' 'Unhealthy' 'Others'] \n",
      "\n",
      "Degree\n",
      "['B.Pharm' 'BSc' 'BA' 'BCA' 'M.Tech' 'PhD' 'Class 12' 'B.Ed' 'LLB' 'BE'\n",
      " 'M.Ed' 'MSc' 'BHM' 'M.Pharm' 'MCA' 'MA' 'B.Com' 'MD' 'MBA' 'MBBS' 'M.Com'\n",
      " 'B.Arch' 'LLM' 'B.Tech' 'BBA' 'ME' 'MHM' 'Others'] \n",
      "\n",
      "Have you ever had suicidal thoughts ?\n",
      "['Yes' 'No'] \n",
      "\n",
      "Family History of Mental Illness\n",
      "['No' 'Yes'] \n",
      "\n"
     ]
    }
   ],
   "source": [
    "for feature in df.select_dtypes(include=object):\n",
    "    print(feature)\n",
    "    print(df[feature].unique(), '\\n')"
   ]
  },
  {
   "cell_type": "markdown",
   "id": "ba5b5b00",
   "metadata": {},
   "source": [
    "Clearly, there are a few irregularities present, however we will not worry about them right now. \n",
    "\n",
    "In a real scenario, this would be a good moment to create a test set and put it aside for now, lest we recognize patterns that could possibly lead to bias in our model selection. Before evaluating our model, we would only work with the training data. To keep the code simple, we instead clean the whole dataset at once and only split them into training set and test set afterwards."
   ]
  },
  {
   "cell_type": "markdown",
   "id": "547d5831",
   "metadata": {},
   "source": [
    "Let us plot some useful variables in histograms:"
   ]
  },
  {
   "cell_type": "code",
   "execution_count": 8,
   "id": "6cf46940",
   "metadata": {},
   "outputs": [
    {
     "data": {
      "image/png": "[encoded data removed]",
      "text/plain": [
       "<Figure size 1200x700 with 9 Axes>"
      ]
     },
     "metadata": {},
     "output_type": "display_data"
    }
   ],
   "source": [
    "#selecting relevant features\n",
    "hist_columns = [2, 5, 6, 7, 8, 9, 14, 15]\n",
    "\n",
    "#formatting the plots\n",
    "plt.rc('xtick', labelsize=8)\n",
    "plt.rc('ytick', labelsize=8)\n",
    "\n",
    "#plotting\n",
    "df.iloc[:, hist_columns].hist(bins=30, figsize=(12,7))\n",
    "plt.show()"
   ]
  },
  {
   "cell_type": "markdown",
   "id": "db78b1ce",
   "metadata": {},
   "source": [
    "Let us now try to find simple correlations by creating some fancy plots."
   ]
  },
  {
   "cell_type": "code",
   "execution_count": 9,
   "id": "929579f7",
   "metadata": {},
   "outputs": [
    {
     "data": {
      "image/png": "[encoded data removed]",
      "text/plain": [
       "<Figure size 500x300 with 1 Axes>"
      ]
     },
     "metadata": {},
     "output_type": "display_data"
    }
   ],
   "source": [
    "sns.set_style('darkgrid')\n",
    "\n",
    "plt.figure(figsize=(5,3))\n",
    "g = sns.violinplot(data=df, x='Depression', y='Age', hue='Gender', split=True, palette=\"Accent\")\n",
    "g.set(title='Age Distribution by Depression Status', ylim=[16,37])\n",
    "g.legend(title='Gender', loc='upper left', bbox_to_anchor=(1, 1))\n",
    "plt.show()"
   ]
  },
  {
   "cell_type": "markdown",
   "id": "b84f42c4",
   "metadata": {},
   "source": [
    "From this graph we can observe that students with depression are generally younger than people without. This holds across all genders."
   ]
  },
  {
   "cell_type": "code",
   "execution_count": 10,
   "id": "2303f629",
   "metadata": {},
   "outputs": [
    {
     "data": {
      "image/png": "[encoded data removed]",
      "text/plain": [
       "<Figure size 500x300 with 1 Axes>"
      ]
     },
     "metadata": {},
     "output_type": "display_data"
    }
   ],
   "source": [
    "plt.figure(figsize=(5,3))\n",
    "g = sns.violinplot(data=df, x='Depression', y='CGPA', hue='Gender', split=True, palette=\"Accent\")\n",
    "g.set(title='CGPA Distribution by Depression Status', ylim=[4.5,10.5])\n",
    "g.legend(title='Gender', loc='upper left', bbox_to_anchor=(1, 1))\n",
    "plt.show()"
   ]
  },
  {
   "cell_type": "markdown",
   "id": "e3025d97",
   "metadata": {},
   "source": [
    "The *CGPA* feature looks about identically distributed across students with and without depression, likewise across all genders."
   ]
  },
  {
   "cell_type": "code",
   "execution_count": 11,
   "id": "bef1bfe6",
   "metadata": {},
   "outputs": [
    {
     "data": {
      "text/html": [
       "<div>\n",
       "<style scoped>\n",
       "    .dataframe tbody tr th:only-of-type {\n",
       "        vertical-align: middle;\n",
       "    }\n",
       "\n",
       "    .dataframe tbody tr th {\n",
       "        vertical-align: top;\n",
       "    }\n",
       "\n",
       "    .dataframe thead th {\n",
       "        text-align: right;\n",
       "    }\n",
       "</style>\n",
       "<table border=\"1\" class=\"dataframe\">\n",
       "  <thead>\n",
       "    <tr style=\"text-align: right;\">\n",
       "      <th></th>\n",
       "      <th>Study Satisfaction</th>\n",
       "      <th>0.0</th>\n",
       "      <th>1.0</th>\n",
       "      <th>2.0</th>\n",
       "      <th>3.0</th>\n",
       "      <th>4.0</th>\n",
       "      <th>5.0</th>\n",
       "    </tr>\n",
       "    <tr>\n",
       "      <th>Depression</th>\n",
       "      <th>Gender</th>\n",
       "      <th></th>\n",
       "      <th></th>\n",
       "      <th></th>\n",
       "      <th></th>\n",
       "      <th></th>\n",
       "      <th></th>\n",
       "    </tr>\n",
       "  </thead>\n",
       "  <tbody>\n",
       "    <tr>\n",
       "      <th rowspan=\"2\" valign=\"top\">0</th>\n",
       "      <th>Female</th>\n",
       "      <td>2</td>\n",
       "      <td>740</td>\n",
       "      <td>964</td>\n",
       "      <td>986</td>\n",
       "      <td>1376</td>\n",
       "      <td>1065</td>\n",
       "    </tr>\n",
       "    <tr>\n",
       "      <th>Male</th>\n",
       "      <td>2</td>\n",
       "      <td>854</td>\n",
       "      <td>1106</td>\n",
       "      <td>1482</td>\n",
       "      <td>1719</td>\n",
       "      <td>1269</td>\n",
       "    </tr>\n",
       "    <tr>\n",
       "      <th rowspan=\"2\" valign=\"top\">1</th>\n",
       "      <th>Female</th>\n",
       "      <td>3</td>\n",
       "      <td>1611</td>\n",
       "      <td>1674</td>\n",
       "      <td>1484</td>\n",
       "      <td>1445</td>\n",
       "      <td>1004</td>\n",
       "    </tr>\n",
       "    <tr>\n",
       "      <th>Male</th>\n",
       "      <td>3</td>\n",
       "      <td>2246</td>\n",
       "      <td>2094</td>\n",
       "      <td>1869</td>\n",
       "      <td>1819</td>\n",
       "      <td>1084</td>\n",
       "    </tr>\n",
       "  </tbody>\n",
       "</table>\n",
       "</div>"
      ],
      "text/plain": [
       "Study Satisfaction  0.0   1.0   2.0   3.0   4.0   5.0\n",
       "Depression Gender                                    \n",
       "0          Female     2   740   964   986  1376  1065\n",
       "           Male       2   854  1106  1482  1719  1269\n",
       "1          Female     3  1611  1674  1484  1445  1004\n",
       "           Male       3  2246  2094  1869  1819  1084"
      ]
     },
     "execution_count": 11,
     "metadata": {},
     "output_type": "execute_result"
    }
   ],
   "source": [
    "pd.crosstab(index=[df['Depression'], df['Gender']], columns=df['Study Satisfaction'])"
   ]
  },
  {
   "cell_type": "markdown",
   "id": "cc0dc8eb",
   "metadata": {},
   "source": [
    "Maybe unsurprisingly, depressed students are much more unsatisfied with their studies. Again, this is true for all genders."
   ]
  },
  {
   "cell_type": "code",
   "execution_count": 12,
   "id": "236b0f10",
   "metadata": {},
   "outputs": [
    {
     "data": {
      "text/html": [
       "<div>\n",
       "<style scoped>\n",
       "    .dataframe tbody tr th:only-of-type {\n",
       "        vertical-align: middle;\n",
       "    }\n",
       "\n",
       "    .dataframe tbody tr th {\n",
       "        vertical-align: top;\n",
       "    }\n",
       "\n",
       "    .dataframe thead th {\n",
       "        text-align: right;\n",
       "    }\n",
       "</style>\n",
       "<table border=\"1\" class=\"dataframe\">\n",
       "  <thead>\n",
       "    <tr style=\"text-align: right;\">\n",
       "      <th></th>\n",
       "      <th>Financial Stress</th>\n",
       "      <th>1.0</th>\n",
       "      <th>2.0</th>\n",
       "      <th>3.0</th>\n",
       "      <th>4.0</th>\n",
       "      <th>5.0</th>\n",
       "    </tr>\n",
       "    <tr>\n",
       "      <th>Depression</th>\n",
       "      <th>Gender</th>\n",
       "      <th></th>\n",
       "      <th></th>\n",
       "      <th></th>\n",
       "      <th></th>\n",
       "      <th></th>\n",
       "    </tr>\n",
       "  </thead>\n",
       "  <tbody>\n",
       "    <tr>\n",
       "      <th rowspan=\"2\" valign=\"top\">0</th>\n",
       "      <th>Female</th>\n",
       "      <td>1539</td>\n",
       "      <td>1276</td>\n",
       "      <td>930</td>\n",
       "      <td>814</td>\n",
       "      <td>573</td>\n",
       "    </tr>\n",
       "    <tr>\n",
       "      <th>Male</th>\n",
       "      <td>1950</td>\n",
       "      <td>1610</td>\n",
       "      <td>1216</td>\n",
       "      <td>971</td>\n",
       "      <td>684</td>\n",
       "    </tr>\n",
       "    <tr>\n",
       "      <th rowspan=\"2\" valign=\"top\">1</th>\n",
       "      <th>Female</th>\n",
       "      <td>729</td>\n",
       "      <td>949</td>\n",
       "      <td>1362</td>\n",
       "      <td>1722</td>\n",
       "      <td>2458</td>\n",
       "    </tr>\n",
       "    <tr>\n",
       "      <th>Male</th>\n",
       "      <td>903</td>\n",
       "      <td>1226</td>\n",
       "      <td>1718</td>\n",
       "      <td>2268</td>\n",
       "      <td>3000</td>\n",
       "    </tr>\n",
       "  </tbody>\n",
       "</table>\n",
       "</div>"
      ],
      "text/plain": [
       "Financial Stress    1.0   2.0   3.0   4.0   5.0\n",
       "Depression Gender                              \n",
       "0          Female  1539  1276   930   814   573\n",
       "           Male    1950  1610  1216   971   684\n",
       "1          Female   729   949  1362  1722  2458\n",
       "           Male     903  1226  1718  2268  3000"
      ]
     },
     "execution_count": 12,
     "metadata": {},
     "output_type": "execute_result"
    }
   ],
   "source": [
    "pd.crosstab(index=[df['Depression'], df['Gender']], columns=df['Financial Stress'])"
   ]
  },
  {
   "cell_type": "markdown",
   "id": "5d095a6a",
   "metadata": {},
   "source": [
    "What is also not surprising is that higher financial stress seems to correlate positively with depression."
   ]
  },
  {
   "cell_type": "code",
   "execution_count": 13,
   "id": "93bfb375",
   "metadata": {},
   "outputs": [
    {
     "data": {
      "text/html": [
       "<div>\n",
       "<style scoped>\n",
       "    .dataframe tbody tr th:only-of-type {\n",
       "        vertical-align: middle;\n",
       "    }\n",
       "\n",
       "    .dataframe tbody tr th {\n",
       "        vertical-align: top;\n",
       "    }\n",
       "\n",
       "    .dataframe thead th {\n",
       "        text-align: right;\n",
       "    }\n",
       "</style>\n",
       "<table border=\"1\" class=\"dataframe\">\n",
       "  <thead>\n",
       "    <tr style=\"text-align: right;\">\n",
       "      <th>Sleep_Cat</th>\n",
       "      <th>At least 7 hours</th>\n",
       "      <th>At most 6 hours</th>\n",
       "      <th>nan</th>\n",
       "    </tr>\n",
       "    <tr>\n",
       "      <th>Depression</th>\n",
       "      <th></th>\n",
       "      <th></th>\n",
       "      <th></th>\n",
       "    </tr>\n",
       "  </thead>\n",
       "  <tbody>\n",
       "    <tr>\n",
       "      <th>0</th>\n",
       "      <td>5941</td>\n",
       "      <td>5615</td>\n",
       "      <td>9</td>\n",
       "    </tr>\n",
       "    <tr>\n",
       "      <th>1</th>\n",
       "      <td>7449</td>\n",
       "      <td>8878</td>\n",
       "      <td>9</td>\n",
       "    </tr>\n",
       "  </tbody>\n",
       "</table>\n",
       "</div>"
      ],
      "text/plain": [
       "Sleep_Cat   At least 7 hours  At most 6 hours  nan\n",
       "Depression                                        \n",
       "0                       5941             5615    9\n",
       "1                       7449             8878    9"
      ]
     },
     "execution_count": 13,
     "metadata": {},
     "output_type": "execute_result"
    }
   ],
   "source": [
    "df.loc[df['Sleep Duration'].isin(['7-8 hours', 'More than 8 hours']), 'Sleep_Cat'] = 'At least 7 hours'\n",
    "df.loc[df['Sleep Duration'].isin(['5-6 hours', 'Less than 5 hours']), 'Sleep_Cat'] = 'At most 6 hours'\n",
    "df = df.drop('Sleep Duration', axis=1)\n",
    "\n",
    "pd.crosstab(index=[df['Depression']], columns=df['Sleep_Cat'])"
   ]
  },
  {
   "cell_type": "markdown",
   "id": "fa75f73d",
   "metadata": {},
   "source": [
    "While a long sleep duration of more than 8 hours may not correlate strongly with depression status, a short sleep duration of less than 5 hours does lead to higher depression rates."
   ]
  },
  {
   "cell_type": "markdown",
   "id": "1445590c",
   "metadata": {},
   "source": [
    "By plotting the features, we can easily observe some more irregularities in the data:\n",
    "\n",
    "* *Age* and *CGPA* values have some outliers outside a range wherein most values lie. Likewise, there are a few zero values in the *Academic Pressure* and *Study Satisfaction* features which we have to deal with.\n",
    "<p> </p>\n",
    "* As we have suspected, features *Work Pressure* and *Job Satisfaction* are fundamentally flawed, consisting mostly of the same value (= 0). We will verify this once more by listing all non-zero values. (If there would have been more instances of non-zero values, leading to a massively long list, computing percentiles would also have been an option.)"
   ]
  },
  {
   "cell_type": "code",
   "execution_count": 14,
   "id": "a053e128",
   "metadata": {},
   "outputs": [
    {
     "data": {
      "text/plain": [
       "4365     5.0\n",
       "14855    2.0\n",
       "25746    5.0\n",
       "Name: Work Pressure, dtype: float64"
      ]
     },
     "execution_count": 14,
     "metadata": {},
     "output_type": "execute_result"
    }
   ],
   "source": [
    "workpressure = df['Work Pressure']\n",
    "workpressure[workpressure>0]"
   ]
  },
  {
   "cell_type": "code",
   "execution_count": 15,
   "id": "0bedb61f",
   "metadata": {},
   "outputs": [
    {
     "data": {
      "text/plain": [
       "292      3.0\n",
       "4365     4.0\n",
       "13909    2.0\n",
       "14855    1.0\n",
       "20913    1.0\n",
       "23141    2.0\n",
       "25746    4.0\n",
       "26719    2.0\n",
       "Name: Job Satisfaction, dtype: float64"
      ]
     },
     "execution_count": 15,
     "metadata": {},
     "output_type": "execute_result"
    }
   ],
   "source": [
    "jobsatisfaction = df['Job Satisfaction']\n",
    "jobsatisfaction[jobsatisfaction>0]"
   ]
  },
  {
   "cell_type": "markdown",
   "id": "d09d23b6",
   "metadata": {},
   "source": [
    "* Let us do something similar for the CGPA. Putting our strongest magnifying lens to use, we can spot a few zero values in this histogram, though most of the values seem to begin around 5. Our evaluation confirms this this suspicion: although it shows a value of 5.03, students are probably evaluated between 5 and 10 in this particular CGPA system."
   ]
  },
  {
   "cell_type": "code",
   "execution_count": 16,
   "id": "c6d97608",
   "metadata": {},
   "outputs": [
    {
     "data": {
      "text/plain": [
       "5.03"
      ]
     },
     "execution_count": 16,
     "metadata": {},
     "output_type": "execute_result"
    }
   ],
   "source": [
    "cgpa = df['CGPA']\n",
    "min(cgpa[cgpa>0])"
   ]
  },
  {
   "cell_type": "markdown",
   "id": "7939e4f9",
   "metadata": {},
   "source": [
    "* Furthermore, we can easily locate the invisible age line in the boxplot. It must be somewhere between 30 and 40, so by trying a few values, we find the line to be at 35 years. Only 49 students are at least 35 years old."
   ]
  },
  {
   "cell_type": "code",
   "execution_count": 17,
   "id": "161589ad",
   "metadata": {},
   "outputs": [
    {
     "data": {
      "text/plain": [
       "49"
      ]
     },
     "execution_count": 17,
     "metadata": {},
     "output_type": "execute_result"
    }
   ],
   "source": [
    "ages = df['Age']\n",
    "len(ages[ages>=35])"
   ]
  },
  {
   "cell_type": "markdown",
   "id": "ccb819a0",
   "metadata": {},
   "source": [
    "Finally, let us get a glance of the categorical variables. "
   ]
  },
  {
   "cell_type": "code",
   "execution_count": 18,
   "id": "87859b67",
   "metadata": {},
   "outputs": [
    {
     "data": {
      "text/html": [
       "<div>\n",
       "<style scoped>\n",
       "    .dataframe tbody tr th:only-of-type {\n",
       "        vertical-align: middle;\n",
       "    }\n",
       "\n",
       "    .dataframe tbody tr th {\n",
       "        vertical-align: top;\n",
       "    }\n",
       "\n",
       "    .dataframe thead th {\n",
       "        text-align: right;\n",
       "    }\n",
       "</style>\n",
       "<table border=\"1\" class=\"dataframe\">\n",
       "  <thead>\n",
       "    <tr style=\"text-align: right;\">\n",
       "      <th></th>\n",
       "      <th>Gender</th>\n",
       "      <th>City</th>\n",
       "      <th>Profession</th>\n",
       "      <th>Dietary Habits</th>\n",
       "      <th>Degree</th>\n",
       "      <th>Have you ever had suicidal thoughts ?</th>\n",
       "    </tr>\n",
       "  </thead>\n",
       "  <tbody>\n",
       "    <tr>\n",
       "      <th>count</th>\n",
       "      <td>27901</td>\n",
       "      <td>27901</td>\n",
       "      <td>27901</td>\n",
       "      <td>27901</td>\n",
       "      <td>27901</td>\n",
       "      <td>27901</td>\n",
       "    </tr>\n",
       "    <tr>\n",
       "      <th>unique</th>\n",
       "      <td>2</td>\n",
       "      <td>52</td>\n",
       "      <td>14</td>\n",
       "      <td>4</td>\n",
       "      <td>28</td>\n",
       "      <td>2</td>\n",
       "    </tr>\n",
       "    <tr>\n",
       "      <th>top</th>\n",
       "      <td>Male</td>\n",
       "      <td>Kalyan</td>\n",
       "      <td>Student</td>\n",
       "      <td>Unhealthy</td>\n",
       "      <td>Class 12</td>\n",
       "      <td>Yes</td>\n",
       "    </tr>\n",
       "    <tr>\n",
       "      <th>freq</th>\n",
       "      <td>15547</td>\n",
       "      <td>1570</td>\n",
       "      <td>27870</td>\n",
       "      <td>10317</td>\n",
       "      <td>6080</td>\n",
       "      <td>17656</td>\n",
       "    </tr>\n",
       "  </tbody>\n",
       "</table>\n",
       "</div>"
      ],
      "text/plain": [
       "       Gender    City Profession Dietary Habits    Degree  \\\n",
       "count   27901   27901      27901          27901     27901   \n",
       "unique      2      52         14              4        28   \n",
       "top      Male  Kalyan    Student      Unhealthy  Class 12   \n",
       "freq    15547    1570      27870          10317      6080   \n",
       "\n",
       "       Have you ever had suicidal thoughts ?  \n",
       "count                                  27901  \n",
       "unique                                     2  \n",
       "top                                      Yes  \n",
       "freq                                   17656  "
      ]
     },
     "execution_count": 18,
     "metadata": {},
     "output_type": "execute_result"
    }
   ],
   "source": [
    "categorical = [1, 3, 4, 10, 11, 12, 13, 16]\n",
    "df.iloc[:, categorical].describe(include='object')"
   ]
  },
  {
   "cell_type": "markdown",
   "id": "32496c43",
   "metadata": {},
   "source": [
    "We notice that there are no unfilled values, and the features are self-explanatory. Now, let us identify the most frequent values for each feature."
   ]
  },
  {
   "cell_type": "code",
   "execution_count": 19,
   "id": "7d7463ae",
   "metadata": {
    "scrolled": false
   },
   "outputs": [
    {
     "name": "stdout",
     "output_type": "stream",
     "text": [
      "variable: Gender\n",
      "1\n",
      "0.0       3\n",
      "2.0       2\n",
      "8         1\n",
      "Female    1\n",
      "24.0      1\n",
      "Name: count, dtype: int64\n",
      "\n",
      "\n",
      "variable: City\n",
      "3\n",
      "0.0       2\n",
      "Yes       2\n",
      "30        1\n",
      "Female    1\n",
      "28.0      1\n",
      "Name: count, dtype: int64\n",
      "\n",
      "\n",
      "variable: Profession\n",
      "4\n",
      "0.0       3\n",
      "1.0       2\n",
      "32        1\n",
      "Female    1\n",
      "25.0      1\n",
      "Name: count, dtype: int64\n",
      "\n",
      "\n",
      "variable: Dietary Habits\n",
      "10\n",
      "3.0    2\n",
      "0.0    2\n",
      "Yes    2\n",
      "1.0    2\n",
      "83     1\n",
      "Name: count, dtype: int64\n",
      "\n",
      "\n",
      "variable: Degree\n",
      "11\n",
      "0.0     3\n",
      "Yes     2\n",
      "91      1\n",
      "Male    1\n",
      "33.0    1\n",
      "Name: count, dtype: int64\n",
      "\n",
      "\n",
      "variable: Have you ever had suicidal thoughts ?\n",
      "12\n",
      "1.0     3\n",
      "0.0     2\n",
      "94      1\n",
      "Male    1\n",
      "27.0    1\n",
      "Name: count, dtype: int64\n",
      "\n",
      "\n",
      "variable: Work/Study Hours\n",
      "13\n",
      "0.0       3\n",
      "2.0       2\n",
      "100       1\n",
      "Female    1\n",
      "19.0      1\n",
      "Name: count, dtype: int64\n",
      "\n",
      "\n",
      "variable: Depression\n",
      "16\n",
      "5.0    2\n",
      "0.0    2\n",
      "2.0    2\n",
      "Yes    2\n",
      "120    1\n",
      "Name: count, dtype: int64\n",
      "\n",
      "\n"
     ]
    }
   ],
   "source": [
    "for col in categorical:\n",
    "    print('variable:', df.columns[col])\n",
    "    print(df.loc[col].value_counts()[:5])\n",
    "    print(\"\\n\")"
   ]
  },
  {
   "cell_type": "markdown",
   "id": "a0e237f2",
   "metadata": {},
   "source": [
    "The data looks plausible. We notice that the dataset consists mostly of students from Indian cities, of which there are slightly more males than females. Additionally, there are some rare values in the features *Profession*, *Sleep Duration* and *Dietary Habits*."
   ]
  },
  {
   "cell_type": "markdown",
   "id": "ea04ef7c",
   "metadata": {},
   "source": [
    "## 2.2 Dataset Cleaning"
   ]
  },
  {
   "cell_type": "markdown",
   "id": "a8473e1c",
   "metadata": {},
   "source": [
    "Let us summarize the *Degree* feature into more useful categories: High School diploma, Bachelor degree, Master degree, PhD. This will be stored in a new feature called *Degree_Cat*. The old feature column will be dropped."
   ]
  },
  {
   "cell_type": "code",
   "execution_count": 20,
   "id": "0d871591",
   "metadata": {},
   "outputs": [
    {
     "data": {
      "text/plain": [
       "array(['B.Pharm', 'BSc', 'BA', 'BCA', 'M.Tech', 'PhD', 'Class 12', 'B.Ed',\n",
       "       'LLB', 'BE', 'M.Ed', 'MSc', 'BHM', 'M.Pharm', 'MCA', 'MA', 'B.Com',\n",
       "       'MD', 'MBA', 'MBBS', 'M.Com', 'B.Arch', 'LLM', 'B.Tech', 'BBA',\n",
       "       'ME', 'MHM', 'Others'], dtype=object)"
      ]
     },
     "execution_count": 20,
     "metadata": {},
     "output_type": "execute_result"
    }
   ],
   "source": [
    "df['Degree'].unique()"
   ]
  },
  {
   "cell_type": "code",
   "execution_count": 21,
   "id": "0d3e4cc7",
   "metadata": {},
   "outputs": [],
   "source": [
    "bachelor = ['B.Pharm', 'BSc', 'BA', 'BCA', 'B.Ed', 'LLB', 'BE', 'BHM', 'B.Com', 'B.Arch', 'B.Tech', 'BBA']\n",
    "master = ['M.Tech', 'M.Ed', 'MSc', 'M.Pharm', 'MCA', 'MA',  'MD', 'MBA', 'MBBS', 'M.Com', 'LLM', 'ME', 'MHM']\n",
    "\n",
    "df.loc[df['Degree'] == 'PhD', 'Degree_Cat'] = 'PhD'\n",
    "df.loc[df['Degree'].isin(master), 'Degree_Cat'] = 'Master'\n",
    "df.loc[df['Degree'].isin(bachelor), 'Degree_Cat'] = 'Bachelor'\n",
    "df.loc[df['Degree'] == 'Class 12', 'Degree_Cat'] = 'High School'"
   ]
  },
  {
   "cell_type": "code",
   "execution_count": 22,
   "id": "9d9b9679",
   "metadata": {},
   "outputs": [
    {
     "data": {
      "text/plain": [
       "Degree_Cat\n",
       "Bachelor       12639\n",
       "High School     6080\n",
       "Master          8625\n",
       "PhD              522\n",
       "Name: count, dtype: int64"
      ]
     },
     "execution_count": 22,
     "metadata": {},
     "output_type": "execute_result"
    }
   ],
   "source": [
    "df = df[df['Degree_Cat'] != \"nan\"]\n",
    "df = df.drop('Degree', axis=1)\n",
    "df['Degree_Cat'].value_counts().sort_index()"
   ]
  },
  {
   "cell_type": "markdown",
   "id": "1cfe20a6",
   "metadata": {},
   "source": [
    "Let us codify the binary features into classic boolean values."
   ]
  },
  {
   "cell_type": "code",
   "execution_count": 23,
   "id": "364e0a7f",
   "metadata": {},
   "outputs": [
    {
     "data": {
      "text/plain": [
       "Thoughts\n",
       "1    17636\n",
       "0    10230\n",
       "Name: count, dtype: int64"
      ]
     },
     "execution_count": 23,
     "metadata": {},
     "output_type": "execute_result"
    }
   ],
   "source": [
    "df = df.rename(columns={'Have you ever had suicidal thoughts ?': 'Thoughts'})\n",
    "df['Thoughts'] = df['Thoughts'].replace(\"Yes\", 1)\n",
    "df['Thoughts'] = df['Thoughts'].replace(\"No\", 0)\n",
    "df['Thoughts'].value_counts()"
   ]
  },
  {
   "cell_type": "code",
   "execution_count": 24,
   "id": "7ae6cdb0",
   "metadata": {},
   "outputs": [
    {
     "data": {
      "text/plain": [
       "Family History\n",
       "0    14379\n",
       "1    13487\n",
       "Name: count, dtype: int64"
      ]
     },
     "execution_count": 24,
     "metadata": {},
     "output_type": "execute_result"
    }
   ],
   "source": [
    "df = df.rename(columns={'Family History of Mental Illness': 'Family History'})\n",
    "df['Family History'] = df['Family History'].replace(\"Yes\", 1)\n",
    "df['Family History'] = df['Family History'].replace(\"No\", 0)\n",
    "df['Family History'].value_counts()"
   ]
  },
  {
   "cell_type": "code",
   "execution_count": 25,
   "id": "8cf8d2a6",
   "metadata": {},
   "outputs": [
    {
     "data": {
      "text/plain": [
       "Female\n",
       "0    15528\n",
       "1    12338\n",
       "Name: count, dtype: int64"
      ]
     },
     "execution_count": 25,
     "metadata": {},
     "output_type": "execute_result"
    }
   ],
   "source": [
    "df = df.rename(columns={'Gender': 'Female'})\n",
    "df['Female'] = df['Female'].replace(\"Female\", 1)\n",
    "df['Female'] = df['Female'].replace(\"Male\", 0)\n",
    "df['Female'].value_counts()"
   ]
  },
  {
   "cell_type": "code",
   "execution_count": 26,
   "id": "484512d5",
   "metadata": {},
   "outputs": [
    {
     "data": {
      "text/plain": [
       "Sleep_Cat\n",
       "0      14476\n",
       "1      13372\n",
       "nan       18\n",
       "Name: count, dtype: int64"
      ]
     },
     "execution_count": 26,
     "metadata": {},
     "output_type": "execute_result"
    }
   ],
   "source": [
    "df['Sleep_Cat'] = df['Sleep_Cat'].replace(\"At least 7 hours\", 1)\n",
    "df['Sleep_Cat'] = df['Sleep_Cat'].replace(\"At most 6 hours\", 0)\n",
    "df['Sleep_Cat'].value_counts()"
   ]
  },
  {
   "cell_type": "markdown",
   "id": "cf08640a",
   "metadata": {},
   "source": [
    "Now we will deal with instances with at least one rare attribute. For the *Age* feature, since most values lie between 18 and 35 years, we will assign all values above 35 to this new maximum. By doing so, we do not have to delete any additional instances. For features *Academic Pressure* and *Study Satisfaction*, a similar approach is not plausible, hence we drop the outliers."
   ]
  },
  {
   "cell_type": "code",
   "execution_count": 27,
   "id": "b03b5940",
   "metadata": {},
   "outputs": [],
   "source": [
    "df.loc[df['Age'] >= 35.0, 'Age'] = 35.0\n",
    "df = df.drop(df[df['Study Satisfaction'] == 0.0].index)\n",
    "df = df.drop(df[df['Academic Pressure'] == 0.0].index)\n",
    "df = df.drop(df[df['CGPA'] < 5.0].index)\n",
    "df = df.drop(df[df['Dietary Habits'] == \"Others\"].index)"
   ]
  },
  {
   "cell_type": "markdown",
   "id": "008ac916",
   "metadata": {},
   "source": [
    "Let us have a more thorough look at the cities:"
   ]
  },
  {
   "cell_type": "code",
   "execution_count": 28,
   "id": "8401db12",
   "metadata": {
    "scrolled": false
   },
   "outputs": [
    {
     "data": {
      "text/plain": [
       "City\n",
       "Kalyan                1569\n",
       "Srinagar              1369\n",
       "Hyderabad             1339\n",
       "Vasai-Virar           1288\n",
       "Lucknow               1152\n",
       "Thane                 1139\n",
       "Ludhiana              1111\n",
       "Agra                  1093\n",
       "Surat                 1078\n",
       "Kolkata               1059\n",
       "Jaipur                1035\n",
       "Patna                 1003\n",
       "Visakhapatnam          968\n",
       "Pune                   966\n",
       "Ahmedabad              945\n",
       "Bhopal                 931\n",
       "Chennai                884\n",
       "Meerut                 823\n",
       "Rajkot                 813\n",
       "Delhi                  768\n",
       "Bangalore              766\n",
       "Ghaziabad              742\n",
       "Mumbai                 696\n",
       "Vadodara               690\n",
       "Varanasi               683\n",
       "Nagpur                 649\n",
       "Indore                 642\n",
       "Kanpur                 608\n",
       "Nashik                 546\n",
       "Faridabad              459\n",
       "Saanvi                   2\n",
       "Bhavna                   2\n",
       "City                     2\n",
       "Harsha                   2\n",
       "Kibara                   1\n",
       "Nandini                  1\n",
       "Nalini                   1\n",
       "Mihir                    1\n",
       "Nalyan                   1\n",
       "M.Com                    1\n",
       "ME                       1\n",
       "Rashi                    1\n",
       "Gaurav                   1\n",
       "Reyansh                  1\n",
       "Harsh                    1\n",
       "Vaanya                   1\n",
       "Mira                     1\n",
       "Less than 5 Kalyan       1\n",
       "3.0                      1\n",
       "Less Delhi               1\n",
       "M.Tech                   1\n",
       "Khaziabad                1\n",
       "Name: count, dtype: int64"
      ]
     },
     "execution_count": 28,
     "metadata": {},
     "output_type": "execute_result"
    }
   ],
   "source": [
    "cities = df['City'].value_counts()\n",
    "cities"
   ]
  },
  {
   "cell_type": "markdown",
   "id": "5fb1ac78",
   "metadata": {},
   "source": [
    "We can expect cities to have a significant influence to a person's depression status, so in general we would like to keep as much information as possible. Let us ask ChatGPT to produce a Python-like list of all Indian cities with at least 1 million and at least 100,000 inhabitants. This is the result:"
   ]
  },
  {
   "cell_type": "code",
   "execution_count": 29,
   "id": "5e7f3ca1",
   "metadata": {},
   "outputs": [],
   "source": [
    "cities_1M = [\"Mumbai\", \"Delhi\", \"Bangalore\", \"Hyderabad\", \"Ahmedabad\", \"Chennai\", \"Kolkata\", \"Surat\", \"Pune\", \"Jaipur\", \"Lucknow\", \"Kanpur\", \"Nagpur\", \"Visakhapatnam\", \"Indore\", \"Vadodara\", \"Coimbatore\", \"Madurai\", \"Rajkot\", \"Bhopal\", \"Thane\", \"Chandigarh\"]\n",
    "cities_100k = [\"Agra\", \"Ajmer\", \"Akola\", \"Aligarh\", \"Ambala\", \"Amritsar\", \"Asansol\", \"Aurangabad\", \"Bhilai\", \"Bhiwandi\", \"Bilaspur\", \"Bokaro\", \"Chandrapur\", \"Dhanbad\", \"Dewas\", \"Gaya\", \"Ghaziabad\", \"Gorakhpur\", \"Gulbarga\", \"Guwahati\", \"Haldia\", \"Haridwar\", \"Hassan\", \"Howrah\", \"Hubli-Dharwad\", \"Jabalpur\", \"Jaunpur\", \"Jhansi\", \"Jodhpur\", \"Kochi\", \"Kolkata\", \"Korba\", \"Kottayam\", \"Kurnool\", \"Mangalore\", \"Meerut\",\n",
    "               \"Moradabad\", \"Nagapattinam\", \"Nanded\", \"Nashik\", \"Navi Mumbai\", \"Nellore\", \"Patiala\", \"Ranchi\", \"Rohtak\", \"Shivpuri\", \"Solapur\", \"Tirunelveli\", \"Udaipur\", \"Ujjain\", \"Vijayawada\", \"Warangal\"]"
   ]
  },
  {
   "cell_type": "markdown",
   "id": "fcbee972",
   "metadata": {},
   "source": [
    "In order to limit the number of values, let us only keep this information for the *City* feature:"
   ]
  },
  {
   "cell_type": "code",
   "execution_count": 30,
   "id": "3f151d13",
   "metadata": {
    "scrolled": false
   },
   "outputs": [
    {
     "data": {
      "text/plain": [
       "City_Cat\n",
       "1M      16069\n",
       "Rest     7508\n",
       "100k     4263\n",
       "Name: count, dtype: int64"
      ]
     },
     "execution_count": 30,
     "metadata": {},
     "output_type": "execute_result"
    }
   ],
   "source": [
    "df.loc[df['City'].isin(cities_1M), 'City_Cat'] = '1M'\n",
    "df.loc[df['City'].isin(cities_100k), 'City_Cat'] = '100k'\n",
    "df.loc[~(df['City'].isin(cities_1M) | df['City'].isin(cities_100k)), 'City_Cat'] = 'Rest'\n",
    "df['City_Cat'].value_counts()"
   ]
  },
  {
   "cell_type": "markdown",
   "id": "662fb7df",
   "metadata": {},
   "source": [
    "Let us delete the non-values at *Sleep_Cat*."
   ]
  },
  {
   "cell_type": "code",
   "execution_count": 31,
   "id": "ee2d8973",
   "metadata": {},
   "outputs": [],
   "source": [
    "df['Sleep_Cat'] = df['Sleep_Cat'].replace(\"nan\", np.nan)\n",
    "df = df.dropna(subset='Sleep_Cat')"
   ]
  },
  {
   "cell_type": "markdown",
   "id": "ac6353e5",
   "metadata": {},
   "source": [
    "Afterwards, all columns with only one attribute will be dropped. We do not need them anymore."
   ]
  },
  {
   "cell_type": "code",
   "execution_count": 32,
   "id": "c6ce25ff",
   "metadata": {},
   "outputs": [
    {
     "data": {
      "text/html": [
       "<div>\n",
       "<style scoped>\n",
       "    .dataframe tbody tr th:only-of-type {\n",
       "        vertical-align: middle;\n",
       "    }\n",
       "\n",
       "    .dataframe tbody tr th {\n",
       "        vertical-align: top;\n",
       "    }\n",
       "\n",
       "    .dataframe thead th {\n",
       "        text-align: right;\n",
       "    }\n",
       "</style>\n",
       "<table border=\"1\" class=\"dataframe\">\n",
       "  <thead>\n",
       "    <tr style=\"text-align: right;\">\n",
       "      <th></th>\n",
       "      <th>id</th>\n",
       "      <th>Female</th>\n",
       "      <th>Age</th>\n",
       "      <th>Academic Pressure</th>\n",
       "      <th>CGPA</th>\n",
       "      <th>Study Satisfaction</th>\n",
       "      <th>Thoughts</th>\n",
       "      <th>Work/Study Hours</th>\n",
       "      <th>Financial Stress</th>\n",
       "      <th>Family History</th>\n",
       "      <th>Depression</th>\n",
       "      <th>Sleep_Cat</th>\n",
       "    </tr>\n",
       "  </thead>\n",
       "  <tbody>\n",
       "    <tr>\n",
       "      <th>count</th>\n",
       "      <td>27822.000000</td>\n",
       "      <td>27822.000000</td>\n",
       "      <td>27822.000000</td>\n",
       "      <td>27822.000000</td>\n",
       "      <td>27822.000000</td>\n",
       "      <td>27822.000000</td>\n",
       "      <td>27822.000000</td>\n",
       "      <td>27822.000000</td>\n",
       "      <td>27819.000000</td>\n",
       "      <td>27822.000000</td>\n",
       "      <td>27822.000000</td>\n",
       "      <td>27822.000000</td>\n",
       "    </tr>\n",
       "    <tr>\n",
       "      <th>mean</th>\n",
       "      <td>70455.628172</td>\n",
       "      <td>0.442779</td>\n",
       "      <td>25.809719</td>\n",
       "      <td>3.142405</td>\n",
       "      <td>7.659012</td>\n",
       "      <td>2.944540</td>\n",
       "      <td>0.632773</td>\n",
       "      <td>7.160485</td>\n",
       "      <td>3.139797</td>\n",
       "      <td>0.484149</td>\n",
       "      <td>0.585544</td>\n",
       "      <td>0.480339</td>\n",
       "    </tr>\n",
       "    <tr>\n",
       "      <th>std</th>\n",
       "      <td>40644.411018</td>\n",
       "      <td>0.496724</td>\n",
       "      <td>4.872652</td>\n",
       "      <td>1.380748</td>\n",
       "      <td>1.464334</td>\n",
       "      <td>1.360208</td>\n",
       "      <td>0.482058</td>\n",
       "      <td>3.706285</td>\n",
       "      <td>1.437225</td>\n",
       "      <td>0.499758</td>\n",
       "      <td>0.492637</td>\n",
       "      <td>0.499622</td>\n",
       "    </tr>\n",
       "    <tr>\n",
       "      <th>min</th>\n",
       "      <td>2.000000</td>\n",
       "      <td>0.000000</td>\n",
       "      <td>18.000000</td>\n",
       "      <td>1.000000</td>\n",
       "      <td>5.030000</td>\n",
       "      <td>1.000000</td>\n",
       "      <td>0.000000</td>\n",
       "      <td>0.000000</td>\n",
       "      <td>1.000000</td>\n",
       "      <td>0.000000</td>\n",
       "      <td>0.000000</td>\n",
       "      <td>0.000000</td>\n",
       "    </tr>\n",
       "    <tr>\n",
       "      <th>25%</th>\n",
       "      <td>35055.000000</td>\n",
       "      <td>0.000000</td>\n",
       "      <td>21.000000</td>\n",
       "      <td>2.000000</td>\n",
       "      <td>6.290000</td>\n",
       "      <td>2.000000</td>\n",
       "      <td>0.000000</td>\n",
       "      <td>4.000000</td>\n",
       "      <td>2.000000</td>\n",
       "      <td>0.000000</td>\n",
       "      <td>0.000000</td>\n",
       "      <td>0.000000</td>\n",
       "    </tr>\n",
       "    <tr>\n",
       "      <th>50%</th>\n",
       "      <td>70720.500000</td>\n",
       "      <td>0.000000</td>\n",
       "      <td>25.000000</td>\n",
       "      <td>3.000000</td>\n",
       "      <td>7.770000</td>\n",
       "      <td>3.000000</td>\n",
       "      <td>1.000000</td>\n",
       "      <td>8.000000</td>\n",
       "      <td>3.000000</td>\n",
       "      <td>0.000000</td>\n",
       "      <td>1.000000</td>\n",
       "      <td>0.000000</td>\n",
       "    </tr>\n",
       "    <tr>\n",
       "      <th>75%</th>\n",
       "      <td>105829.500000</td>\n",
       "      <td>1.000000</td>\n",
       "      <td>30.000000</td>\n",
       "      <td>4.000000</td>\n",
       "      <td>8.920000</td>\n",
       "      <td>4.000000</td>\n",
       "      <td>1.000000</td>\n",
       "      <td>10.000000</td>\n",
       "      <td>4.000000</td>\n",
       "      <td>1.000000</td>\n",
       "      <td>1.000000</td>\n",
       "      <td>1.000000</td>\n",
       "    </tr>\n",
       "    <tr>\n",
       "      <th>max</th>\n",
       "      <td>140699.000000</td>\n",
       "      <td>1.000000</td>\n",
       "      <td>35.000000</td>\n",
       "      <td>5.000000</td>\n",
       "      <td>10.000000</td>\n",
       "      <td>5.000000</td>\n",
       "      <td>1.000000</td>\n",
       "      <td>12.000000</td>\n",
       "      <td>5.000000</td>\n",
       "      <td>1.000000</td>\n",
       "      <td>1.000000</td>\n",
       "      <td>1.000000</td>\n",
       "    </tr>\n",
       "  </tbody>\n",
       "</table>\n",
       "</div>"
      ],
      "text/plain": [
       "                  id        Female           Age  Academic Pressure  \\\n",
       "count   27822.000000  27822.000000  27822.000000       27822.000000   \n",
       "mean    70455.628172      0.442779     25.809719           3.142405   \n",
       "std     40644.411018      0.496724      4.872652           1.380748   \n",
       "min         2.000000      0.000000     18.000000           1.000000   \n",
       "25%     35055.000000      0.000000     21.000000           2.000000   \n",
       "50%     70720.500000      0.000000     25.000000           3.000000   \n",
       "75%    105829.500000      1.000000     30.000000           4.000000   \n",
       "max    140699.000000      1.000000     35.000000           5.000000   \n",
       "\n",
       "               CGPA  Study Satisfaction      Thoughts  Work/Study Hours  \\\n",
       "count  27822.000000        27822.000000  27822.000000      27822.000000   \n",
       "mean       7.659012            2.944540      0.632773          7.160485   \n",
       "std        1.464334            1.360208      0.482058          3.706285   \n",
       "min        5.030000            1.000000      0.000000          0.000000   \n",
       "25%        6.290000            2.000000      0.000000          4.000000   \n",
       "50%        7.770000            3.000000      1.000000          8.000000   \n",
       "75%        8.920000            4.000000      1.000000         10.000000   \n",
       "max       10.000000            5.000000      1.000000         12.000000   \n",
       "\n",
       "       Financial Stress  Family History    Depression     Sleep_Cat  \n",
       "count      27819.000000    27822.000000  27822.000000  27822.000000  \n",
       "mean           3.139797        0.484149      0.585544      0.480339  \n",
       "std            1.437225        0.499758      0.492637      0.499622  \n",
       "min            1.000000        0.000000      0.000000      0.000000  \n",
       "25%            2.000000        0.000000      0.000000      0.000000  \n",
       "50%            3.000000        0.000000      1.000000      0.000000  \n",
       "75%            4.000000        1.000000      1.000000      1.000000  \n",
       "max            5.000000        1.000000      1.000000      1.000000  "
      ]
     },
     "execution_count": 32,
     "metadata": {},
     "output_type": "execute_result"
    }
   ],
   "source": [
    "cols_to_drop = ['Profession', 'Work Pressure', 'City', 'Job Satisfaction']\n",
    "df = df.drop(cols_to_drop, axis=1)\n",
    "df.describe()"
   ]
  },
  {
   "cell_type": "markdown",
   "id": "edfc5e80",
   "metadata": {},
   "source": [
    "## 2.3 Data Scaling, One-Hot Encoding and Data Imputation"
   ]
  },
  {
   "cell_type": "markdown",
   "id": "47dd213e",
   "metadata": {},
   "source": [
    "We will rescale the remaining features into the unit interval *[0, 1]* so that all features are in the same range. This can be achieved by the MinMaxScaler provided by Scikit-Learn."
   ]
  },
  {
   "cell_type": "code",
   "execution_count": 33,
   "id": "541bbb99",
   "metadata": {},
   "outputs": [
    {
     "data": {
      "text/html": [
       "<div>\n",
       "<style scoped>\n",
       "    .dataframe tbody tr th:only-of-type {\n",
       "        vertical-align: middle;\n",
       "    }\n",
       "\n",
       "    .dataframe tbody tr th {\n",
       "        vertical-align: top;\n",
       "    }\n",
       "\n",
       "    .dataframe thead th {\n",
       "        text-align: right;\n",
       "    }\n",
       "</style>\n",
       "<table border=\"1\" class=\"dataframe\">\n",
       "  <thead>\n",
       "    <tr style=\"text-align: right;\">\n",
       "      <th></th>\n",
       "      <th>id</th>\n",
       "      <th>Female</th>\n",
       "      <th>Age</th>\n",
       "      <th>Academic Pressure</th>\n",
       "      <th>CGPA</th>\n",
       "      <th>Study Satisfaction</th>\n",
       "      <th>Thoughts</th>\n",
       "      <th>Work/Study Hours</th>\n",
       "      <th>Financial Stress</th>\n",
       "      <th>Family History</th>\n",
       "      <th>Depression</th>\n",
       "      <th>Sleep_Cat</th>\n",
       "    </tr>\n",
       "  </thead>\n",
       "  <tbody>\n",
       "    <tr>\n",
       "      <th>count</th>\n",
       "      <td>27822.000000</td>\n",
       "      <td>27822.000000</td>\n",
       "      <td>27822.000000</td>\n",
       "      <td>27822.000000</td>\n",
       "      <td>27822.000000</td>\n",
       "      <td>27822.000000</td>\n",
       "      <td>27822.000000</td>\n",
       "      <td>27822.000000</td>\n",
       "      <td>27819.000000</td>\n",
       "      <td>27822.000000</td>\n",
       "      <td>27822.000000</td>\n",
       "      <td>27822.000000</td>\n",
       "    </tr>\n",
       "    <tr>\n",
       "      <th>mean</th>\n",
       "      <td>70455.628172</td>\n",
       "      <td>0.442779</td>\n",
       "      <td>0.459395</td>\n",
       "      <td>0.535601</td>\n",
       "      <td>0.528976</td>\n",
       "      <td>0.486135</td>\n",
       "      <td>0.632773</td>\n",
       "      <td>0.596707</td>\n",
       "      <td>0.534949</td>\n",
       "      <td>0.484149</td>\n",
       "      <td>0.585544</td>\n",
       "      <td>0.480339</td>\n",
       "    </tr>\n",
       "    <tr>\n",
       "      <th>std</th>\n",
       "      <td>40644.411018</td>\n",
       "      <td>0.496724</td>\n",
       "      <td>0.286627</td>\n",
       "      <td>0.345187</td>\n",
       "      <td>0.294635</td>\n",
       "      <td>0.340052</td>\n",
       "      <td>0.482058</td>\n",
       "      <td>0.308857</td>\n",
       "      <td>0.359306</td>\n",
       "      <td>0.499758</td>\n",
       "      <td>0.492637</td>\n",
       "      <td>0.499622</td>\n",
       "    </tr>\n",
       "    <tr>\n",
       "      <th>min</th>\n",
       "      <td>2.000000</td>\n",
       "      <td>0.000000</td>\n",
       "      <td>0.000000</td>\n",
       "      <td>0.000000</td>\n",
       "      <td>0.000000</td>\n",
       "      <td>0.000000</td>\n",
       "      <td>0.000000</td>\n",
       "      <td>0.000000</td>\n",
       "      <td>0.000000</td>\n",
       "      <td>0.000000</td>\n",
       "      <td>0.000000</td>\n",
       "      <td>0.000000</td>\n",
       "    </tr>\n",
       "    <tr>\n",
       "      <th>25%</th>\n",
       "      <td>35055.000000</td>\n",
       "      <td>0.000000</td>\n",
       "      <td>0.176471</td>\n",
       "      <td>0.250000</td>\n",
       "      <td>0.253521</td>\n",
       "      <td>0.250000</td>\n",
       "      <td>0.000000</td>\n",
       "      <td>0.333333</td>\n",
       "      <td>0.250000</td>\n",
       "      <td>0.000000</td>\n",
       "      <td>0.000000</td>\n",
       "      <td>0.000000</td>\n",
       "    </tr>\n",
       "    <tr>\n",
       "      <th>50%</th>\n",
       "      <td>70720.500000</td>\n",
       "      <td>0.000000</td>\n",
       "      <td>0.411765</td>\n",
       "      <td>0.500000</td>\n",
       "      <td>0.551308</td>\n",
       "      <td>0.500000</td>\n",
       "      <td>1.000000</td>\n",
       "      <td>0.666667</td>\n",
       "      <td>0.500000</td>\n",
       "      <td>0.000000</td>\n",
       "      <td>1.000000</td>\n",
       "      <td>0.000000</td>\n",
       "    </tr>\n",
       "    <tr>\n",
       "      <th>75%</th>\n",
       "      <td>105829.500000</td>\n",
       "      <td>1.000000</td>\n",
       "      <td>0.705882</td>\n",
       "      <td>0.750000</td>\n",
       "      <td>0.782696</td>\n",
       "      <td>0.750000</td>\n",
       "      <td>1.000000</td>\n",
       "      <td>0.833333</td>\n",
       "      <td>0.750000</td>\n",
       "      <td>1.000000</td>\n",
       "      <td>1.000000</td>\n",
       "      <td>1.000000</td>\n",
       "    </tr>\n",
       "    <tr>\n",
       "      <th>max</th>\n",
       "      <td>140699.000000</td>\n",
       "      <td>1.000000</td>\n",
       "      <td>1.000000</td>\n",
       "      <td>1.000000</td>\n",
       "      <td>1.000000</td>\n",
       "      <td>1.000000</td>\n",
       "      <td>1.000000</td>\n",
       "      <td>1.000000</td>\n",
       "      <td>1.000000</td>\n",
       "      <td>1.000000</td>\n",
       "      <td>1.000000</td>\n",
       "      <td>1.000000</td>\n",
       "    </tr>\n",
       "  </tbody>\n",
       "</table>\n",
       "</div>"
      ],
      "text/plain": [
       "                  id        Female           Age  Academic Pressure  \\\n",
       "count   27822.000000  27822.000000  27822.000000       27822.000000   \n",
       "mean    70455.628172      0.442779      0.459395           0.535601   \n",
       "std     40644.411018      0.496724      0.286627           0.345187   \n",
       "min         2.000000      0.000000      0.000000           0.000000   \n",
       "25%     35055.000000      0.000000      0.176471           0.250000   \n",
       "50%     70720.500000      0.000000      0.411765           0.500000   \n",
       "75%    105829.500000      1.000000      0.705882           0.750000   \n",
       "max    140699.000000      1.000000      1.000000           1.000000   \n",
       "\n",
       "               CGPA  Study Satisfaction      Thoughts  Work/Study Hours  \\\n",
       "count  27822.000000        27822.000000  27822.000000      27822.000000   \n",
       "mean       0.528976            0.486135      0.632773          0.596707   \n",
       "std        0.294635            0.340052      0.482058          0.308857   \n",
       "min        0.000000            0.000000      0.000000          0.000000   \n",
       "25%        0.253521            0.250000      0.000000          0.333333   \n",
       "50%        0.551308            0.500000      1.000000          0.666667   \n",
       "75%        0.782696            0.750000      1.000000          0.833333   \n",
       "max        1.000000            1.000000      1.000000          1.000000   \n",
       "\n",
       "       Financial Stress  Family History    Depression     Sleep_Cat  \n",
       "count      27819.000000    27822.000000  27822.000000  27822.000000  \n",
       "mean           0.534949        0.484149      0.585544      0.480339  \n",
       "std            0.359306        0.499758      0.492637      0.499622  \n",
       "min            0.000000        0.000000      0.000000      0.000000  \n",
       "25%            0.250000        0.000000      0.000000      0.000000  \n",
       "50%            0.500000        0.000000      1.000000      0.000000  \n",
       "75%            0.750000        1.000000      1.000000      1.000000  \n",
       "max            1.000000        1.000000      1.000000      1.000000  "
      ]
     },
     "execution_count": 33,
     "metadata": {},
     "output_type": "execute_result"
    }
   ],
   "source": [
    "scaler = MinMaxScaler()\n",
    "cols_to_scale = ['Age', 'Academic Pressure', 'CGPA', 'Study Satisfaction', 'Work/Study Hours', 'Financial Stress']\n",
    "\n",
    "for col in cols_to_scale:\n",
    "    data = df.loc[:, col:col]\n",
    "    df[col] = scaler.fit_transform(data)\n",
    "\n",
    "df.describe()"
   ]
  },
  {
   "cell_type": "markdown",
   "id": "07084ff2",
   "metadata": {},
   "source": [
    "What about the remaining features?"
   ]
  },
  {
   "cell_type": "code",
   "execution_count": 34,
   "id": "04c0f9ce",
   "metadata": {},
   "outputs": [
    {
     "data": {
      "text/html": [
       "<div>\n",
       "<style scoped>\n",
       "    .dataframe tbody tr th:only-of-type {\n",
       "        vertical-align: middle;\n",
       "    }\n",
       "\n",
       "    .dataframe tbody tr th {\n",
       "        vertical-align: top;\n",
       "    }\n",
       "\n",
       "    .dataframe thead th {\n",
       "        text-align: right;\n",
       "    }\n",
       "</style>\n",
       "<table border=\"1\" class=\"dataframe\">\n",
       "  <thead>\n",
       "    <tr style=\"text-align: right;\">\n",
       "      <th></th>\n",
       "      <th>Dietary Habits</th>\n",
       "      <th>Degree_Cat</th>\n",
       "      <th>City_Cat</th>\n",
       "    </tr>\n",
       "  </thead>\n",
       "  <tbody>\n",
       "    <tr>\n",
       "      <th>count</th>\n",
       "      <td>27822</td>\n",
       "      <td>27822</td>\n",
       "      <td>27822</td>\n",
       "    </tr>\n",
       "    <tr>\n",
       "      <th>unique</th>\n",
       "      <td>3</td>\n",
       "      <td>4</td>\n",
       "      <td>3</td>\n",
       "    </tr>\n",
       "    <tr>\n",
       "      <th>top</th>\n",
       "      <td>Unhealthy</td>\n",
       "      <td>Bachelor</td>\n",
       "      <td>1M</td>\n",
       "    </tr>\n",
       "    <tr>\n",
       "      <th>freq</th>\n",
       "      <td>10287</td>\n",
       "      <td>12620</td>\n",
       "      <td>16060</td>\n",
       "    </tr>\n",
       "  </tbody>\n",
       "</table>\n",
       "</div>"
      ],
      "text/plain": [
       "       Dietary Habits Degree_Cat City_Cat\n",
       "count           27822      27822    27822\n",
       "unique              3          4        3\n",
       "top         Unhealthy   Bachelor       1M\n",
       "freq            10287      12620    16060"
      ]
     },
     "execution_count": 34,
     "metadata": {},
     "output_type": "execute_result"
    }
   ],
   "source": [
    "df.describe(include=object)"
   ]
  },
  {
   "cell_type": "markdown",
   "id": "4ae59d22",
   "metadata": {},
   "source": [
    "The latter three features are of ordinal nature. We could convert them into numbers and rescale them into the unit interval. However by doing so, we are implicitly assuming that the spacings between two values are equidistant (i.e., the leap between a high school diploma and a Bachelor's degree is equal to the leap between a Master's degree and a PhD degree, or improving one's Financial Stress by one point is always equally important). These assumptions have been much more reasonable in the cases above. Though we are losing a bit of information (the ordering), we will leave these features as is and treat them like the other categorical variable *Cities* without any inherent ordering."
   ]
  },
  {
   "cell_type": "code",
   "execution_count": 35,
   "id": "76ed6e8d",
   "metadata": {
    "scrolled": true
   },
   "outputs": [
    {
     "data": {
      "text/html": [
       "<div>\n",
       "<style scoped>\n",
       "    .dataframe tbody tr th:only-of-type {\n",
       "        vertical-align: middle;\n",
       "    }\n",
       "\n",
       "    .dataframe tbody tr th {\n",
       "        vertical-align: top;\n",
       "    }\n",
       "\n",
       "    .dataframe thead th {\n",
       "        text-align: right;\n",
       "    }\n",
       "</style>\n",
       "<table border=\"1\" class=\"dataframe\">\n",
       "  <thead>\n",
       "    <tr style=\"text-align: right;\">\n",
       "      <th></th>\n",
       "      <th>id</th>\n",
       "      <th>Female</th>\n",
       "      <th>Age</th>\n",
       "      <th>Academic Pressure</th>\n",
       "      <th>CGPA</th>\n",
       "      <th>Study Satisfaction</th>\n",
       "      <th>Dietary Habits</th>\n",
       "      <th>Thoughts</th>\n",
       "      <th>Work/Study Hours</th>\n",
       "      <th>Financial Stress</th>\n",
       "      <th>Family History</th>\n",
       "      <th>Depression</th>\n",
       "      <th>Sleep_Cat</th>\n",
       "      <th>Degree_Cat</th>\n",
       "      <th>City_Cat</th>\n",
       "    </tr>\n",
       "  </thead>\n",
       "  <tbody>\n",
       "    <tr>\n",
       "      <th>0</th>\n",
       "      <td>2</td>\n",
       "      <td>0</td>\n",
       "      <td>0.882353</td>\n",
       "      <td>1.00</td>\n",
       "      <td>0.792757</td>\n",
       "      <td>0.25</td>\n",
       "      <td>Healthy</td>\n",
       "      <td>1</td>\n",
       "      <td>0.250000</td>\n",
       "      <td>0.00</td>\n",
       "      <td>0</td>\n",
       "      <td>1</td>\n",
       "      <td>0.0</td>\n",
       "      <td>Bachelor</td>\n",
       "      <td>1M</td>\n",
       "    </tr>\n",
       "    <tr>\n",
       "      <th>1</th>\n",
       "      <td>8</td>\n",
       "      <td>1</td>\n",
       "      <td>0.352941</td>\n",
       "      <td>0.25</td>\n",
       "      <td>0.175050</td>\n",
       "      <td>1.00</td>\n",
       "      <td>Moderate</td>\n",
       "      <td>0</td>\n",
       "      <td>0.250000</td>\n",
       "      <td>0.25</td>\n",
       "      <td>1</td>\n",
       "      <td>0</td>\n",
       "      <td>0.0</td>\n",
       "      <td>Bachelor</td>\n",
       "      <td>1M</td>\n",
       "    </tr>\n",
       "    <tr>\n",
       "      <th>2</th>\n",
       "      <td>26</td>\n",
       "      <td>0</td>\n",
       "      <td>0.764706</td>\n",
       "      <td>0.50</td>\n",
       "      <td>0.402414</td>\n",
       "      <td>1.00</td>\n",
       "      <td>Healthy</td>\n",
       "      <td>0</td>\n",
       "      <td>0.750000</td>\n",
       "      <td>0.00</td>\n",
       "      <td>1</td>\n",
       "      <td>0</td>\n",
       "      <td>0.0</td>\n",
       "      <td>Bachelor</td>\n",
       "      <td>Rest</td>\n",
       "    </tr>\n",
       "    <tr>\n",
       "      <th>3</th>\n",
       "      <td>30</td>\n",
       "      <td>1</td>\n",
       "      <td>0.588235</td>\n",
       "      <td>0.50</td>\n",
       "      <td>0.112676</td>\n",
       "      <td>0.25</td>\n",
       "      <td>Moderate</td>\n",
       "      <td>1</td>\n",
       "      <td>0.333333</td>\n",
       "      <td>1.00</td>\n",
       "      <td>1</td>\n",
       "      <td>1</td>\n",
       "      <td>1.0</td>\n",
       "      <td>Bachelor</td>\n",
       "      <td>Rest</td>\n",
       "    </tr>\n",
       "    <tr>\n",
       "      <th>4</th>\n",
       "      <td>32</td>\n",
       "      <td>1</td>\n",
       "      <td>0.411765</td>\n",
       "      <td>0.75</td>\n",
       "      <td>0.623742</td>\n",
       "      <td>0.50</td>\n",
       "      <td>Moderate</td>\n",
       "      <td>1</td>\n",
       "      <td>0.083333</td>\n",
       "      <td>0.00</td>\n",
       "      <td>0</td>\n",
       "      <td>0</td>\n",
       "      <td>0.0</td>\n",
       "      <td>Master</td>\n",
       "      <td>1M</td>\n",
       "    </tr>\n",
       "  </tbody>\n",
       "</table>\n",
       "</div>"
      ],
      "text/plain": [
       "   id  Female       Age  Academic Pressure      CGPA  Study Satisfaction  \\\n",
       "0   2       0  0.882353               1.00  0.792757                0.25   \n",
       "1   8       1  0.352941               0.25  0.175050                1.00   \n",
       "2  26       0  0.764706               0.50  0.402414                1.00   \n",
       "3  30       1  0.588235               0.50  0.112676                0.25   \n",
       "4  32       1  0.411765               0.75  0.623742                0.50   \n",
       "\n",
       "  Dietary Habits  Thoughts  Work/Study Hours  Financial Stress  \\\n",
       "0        Healthy         1          0.250000              0.00   \n",
       "1       Moderate         0          0.250000              0.25   \n",
       "2        Healthy         0          0.750000              0.00   \n",
       "3       Moderate         1          0.333333              1.00   \n",
       "4       Moderate         1          0.083333              0.00   \n",
       "\n",
       "   Family History  Depression  Sleep_Cat Degree_Cat City_Cat  \n",
       "0               0           1        0.0   Bachelor       1M  \n",
       "1               1           0        0.0   Bachelor       1M  \n",
       "2               1           0        0.0   Bachelor     Rest  \n",
       "3               1           1        1.0   Bachelor     Rest  \n",
       "4               0           0        0.0     Master       1M  "
      ]
     },
     "execution_count": 35,
     "metadata": {},
     "output_type": "execute_result"
    }
   ],
   "source": [
    "df.head()"
   ]
  },
  {
   "cell_type": "markdown",
   "id": "03308c15",
   "metadata": {},
   "source": [
    "Since there aren't many, we could also delete the remaining three NaN cases in the *Financial Stress* feature. Instead, we will impute them using Scikit-Learn. The *NaN* values will be replaced by the mean value (= 0.535018) of the *Financial Stress* feature."
   ]
  },
  {
   "cell_type": "code",
   "execution_count": 36,
   "id": "2c2dc74c",
   "metadata": {},
   "outputs": [
    {
     "data": {
      "text/plain": [
       "id                    0\n",
       "Female                0\n",
       "Age                   0\n",
       "Academic Pressure     0\n",
       "CGPA                  0\n",
       "Study Satisfaction    0\n",
       "Dietary Habits        0\n",
       "Thoughts              0\n",
       "Work/Study Hours      0\n",
       "Financial Stress      3\n",
       "Family History        0\n",
       "Depression            0\n",
       "Sleep_Cat             0\n",
       "Degree_Cat            0\n",
       "City_Cat              0\n",
       "dtype: int64"
      ]
     },
     "execution_count": 36,
     "metadata": {},
     "output_type": "execute_result"
    }
   ],
   "source": [
    "nan_indices = df[df['Financial Stress'].isna()]['id']\n",
    "df.isna().sum()"
   ]
  },
  {
   "cell_type": "code",
   "execution_count": 37,
   "id": "04ff21a7",
   "metadata": {},
   "outputs": [
    {
     "data": {
      "text/plain": [
       "0"
      ]
     },
     "execution_count": 37,
     "metadata": {},
     "output_type": "execute_result"
    }
   ],
   "source": [
    "imputer = SimpleImputer(missing_values=np.nan, strategy='mean')\n",
    "\n",
    "data = df.iloc[:, 11:12] #exclusive notation, only left column is selected\n",
    "df['Financial Stress'] = imputer.fit_transform(data)\n",
    "df['Financial Stress'].isna().sum()"
   ]
  },
  {
   "cell_type": "markdown",
   "id": "f2f96973",
   "metadata": {},
   "source": [
    "Once more, checking that everything worked as planned in the corresponding rows:"
   ]
  },
  {
   "cell_type": "code",
   "execution_count": 38,
   "id": "414e6b89",
   "metadata": {},
   "outputs": [
    {
     "data": {
      "text/html": [
       "<div>\n",
       "<style scoped>\n",
       "    .dataframe tbody tr th:only-of-type {\n",
       "        vertical-align: middle;\n",
       "    }\n",
       "\n",
       "    .dataframe tbody tr th {\n",
       "        vertical-align: top;\n",
       "    }\n",
       "\n",
       "    .dataframe thead th {\n",
       "        text-align: right;\n",
       "    }\n",
       "</style>\n",
       "<table border=\"1\" class=\"dataframe\">\n",
       "  <thead>\n",
       "    <tr style=\"text-align: right;\">\n",
       "      <th></th>\n",
       "      <th>id</th>\n",
       "      <th>Female</th>\n",
       "      <th>Age</th>\n",
       "      <th>Academic Pressure</th>\n",
       "      <th>CGPA</th>\n",
       "      <th>Study Satisfaction</th>\n",
       "      <th>Dietary Habits</th>\n",
       "      <th>Thoughts</th>\n",
       "      <th>Work/Study Hours</th>\n",
       "      <th>Financial Stress</th>\n",
       "      <th>Family History</th>\n",
       "      <th>Depression</th>\n",
       "      <th>Sleep_Cat</th>\n",
       "      <th>Degree_Cat</th>\n",
       "      <th>City_Cat</th>\n",
       "    </tr>\n",
       "  </thead>\n",
       "  <tbody>\n",
       "    <tr>\n",
       "      <th>4458</th>\n",
       "      <td>22377</td>\n",
       "      <td>1</td>\n",
       "      <td>0.823529</td>\n",
       "      <td>0.50</td>\n",
       "      <td>0.122736</td>\n",
       "      <td>0.0</td>\n",
       "      <td>Healthy</td>\n",
       "      <td>0</td>\n",
       "      <td>1.00</td>\n",
       "      <td>1.0</td>\n",
       "      <td>0</td>\n",
       "      <td>1</td>\n",
       "      <td>0.0</td>\n",
       "      <td>Bachelor</td>\n",
       "      <td>Rest</td>\n",
       "    </tr>\n",
       "    <tr>\n",
       "      <th>13596</th>\n",
       "      <td>68910</td>\n",
       "      <td>0</td>\n",
       "      <td>0.647059</td>\n",
       "      <td>0.25</td>\n",
       "      <td>0.786720</td>\n",
       "      <td>0.5</td>\n",
       "      <td>Unhealthy</td>\n",
       "      <td>0</td>\n",
       "      <td>1.00</td>\n",
       "      <td>0.0</td>\n",
       "      <td>1</td>\n",
       "      <td>0</td>\n",
       "      <td>0.0</td>\n",
       "      <td>Bachelor</td>\n",
       "      <td>1M</td>\n",
       "    </tr>\n",
       "    <tr>\n",
       "      <th>19266</th>\n",
       "      <td>97610</td>\n",
       "      <td>1</td>\n",
       "      <td>0.117647</td>\n",
       "      <td>0.00</td>\n",
       "      <td>0.362173</td>\n",
       "      <td>0.0</td>\n",
       "      <td>Healthy</td>\n",
       "      <td>0</td>\n",
       "      <td>0.75</td>\n",
       "      <td>0.0</td>\n",
       "      <td>1</td>\n",
       "      <td>0</td>\n",
       "      <td>0.0</td>\n",
       "      <td>Master</td>\n",
       "      <td>100k</td>\n",
       "    </tr>\n",
       "  </tbody>\n",
       "</table>\n",
       "</div>"
      ],
      "text/plain": [
       "          id  Female       Age  Academic Pressure      CGPA  \\\n",
       "4458   22377       1  0.823529               0.50  0.122736   \n",
       "13596  68910       0  0.647059               0.25  0.786720   \n",
       "19266  97610       1  0.117647               0.00  0.362173   \n",
       "\n",
       "       Study Satisfaction Dietary Habits  Thoughts  Work/Study Hours  \\\n",
       "4458                  0.0        Healthy         0              1.00   \n",
       "13596                 0.5      Unhealthy         0              1.00   \n",
       "19266                 0.0        Healthy         0              0.75   \n",
       "\n",
       "       Financial Stress  Family History  Depression  Sleep_Cat Degree_Cat  \\\n",
       "4458                1.0               0           1        0.0   Bachelor   \n",
       "13596               0.0               1           0        0.0   Bachelor   \n",
       "19266               0.0               1           0        0.0     Master   \n",
       "\n",
       "      City_Cat  \n",
       "4458      Rest  \n",
       "13596       1M  \n",
       "19266     100k  "
      ]
     },
     "execution_count": 38,
     "metadata": {},
     "output_type": "execute_result"
    }
   ],
   "source": [
    "df[df['id'].isin(nan_indices)]"
   ]
  },
  {
   "cell_type": "markdown",
   "id": "83e6dd6a",
   "metadata": {},
   "source": [
    "We are almost done. Lastly, we use one-hot encoding to create dummy variables for our categorical features. We expect to create 3 + 3 + 4 = 10 new dummy features, which is the sum of all unique categorical values (*City*, *Dietary Habits*, *Degree_Cat*)."
   ]
  },
  {
   "cell_type": "code",
   "execution_count": 39,
   "id": "1af22b9d",
   "metadata": {},
   "outputs": [
    {
     "data": {
      "text/html": [
       "<div>\n",
       "<style scoped>\n",
       "    .dataframe tbody tr th:only-of-type {\n",
       "        vertical-align: middle;\n",
       "    }\n",
       "\n",
       "    .dataframe tbody tr th {\n",
       "        vertical-align: top;\n",
       "    }\n",
       "\n",
       "    .dataframe thead th {\n",
       "        text-align: right;\n",
       "    }\n",
       "</style>\n",
       "<table border=\"1\" class=\"dataframe\">\n",
       "  <thead>\n",
       "    <tr style=\"text-align: right;\">\n",
       "      <th></th>\n",
       "      <th>Dietary Habits</th>\n",
       "      <th>Degree_Cat</th>\n",
       "      <th>City_Cat</th>\n",
       "    </tr>\n",
       "  </thead>\n",
       "  <tbody>\n",
       "    <tr>\n",
       "      <th>0</th>\n",
       "      <td>Healthy</td>\n",
       "      <td>Bachelor</td>\n",
       "      <td>1M</td>\n",
       "    </tr>\n",
       "    <tr>\n",
       "      <th>1</th>\n",
       "      <td>Moderate</td>\n",
       "      <td>Bachelor</td>\n",
       "      <td>1M</td>\n",
       "    </tr>\n",
       "    <tr>\n",
       "      <th>2</th>\n",
       "      <td>Healthy</td>\n",
       "      <td>Bachelor</td>\n",
       "      <td>Rest</td>\n",
       "    </tr>\n",
       "    <tr>\n",
       "      <th>3</th>\n",
       "      <td>Moderate</td>\n",
       "      <td>Bachelor</td>\n",
       "      <td>Rest</td>\n",
       "    </tr>\n",
       "    <tr>\n",
       "      <th>4</th>\n",
       "      <td>Moderate</td>\n",
       "      <td>Master</td>\n",
       "      <td>1M</td>\n",
       "    </tr>\n",
       "  </tbody>\n",
       "</table>\n",
       "</div>"
      ],
      "text/plain": [
       "  Dietary Habits Degree_Cat City_Cat\n",
       "0        Healthy   Bachelor       1M\n",
       "1       Moderate   Bachelor       1M\n",
       "2        Healthy   Bachelor     Rest\n",
       "3       Moderate   Bachelor     Rest\n",
       "4       Moderate     Master       1M"
      ]
     },
     "execution_count": 39,
     "metadata": {},
     "output_type": "execute_result"
    }
   ],
   "source": [
    "categorical = [6, 13, 14]\n",
    "data = df.iloc[:, categorical]\n",
    "data.head()"
   ]
  },
  {
   "cell_type": "code",
   "execution_count": 40,
   "id": "3d99cf8b",
   "metadata": {},
   "outputs": [
    {
     "data": {
      "text/html": [
       "<div>\n",
       "<style scoped>\n",
       "    .dataframe tbody tr th:only-of-type {\n",
       "        vertical-align: middle;\n",
       "    }\n",
       "\n",
       "    .dataframe tbody tr th {\n",
       "        vertical-align: top;\n",
       "    }\n",
       "\n",
       "    .dataframe thead th {\n",
       "        text-align: right;\n",
       "    }\n",
       "</style>\n",
       "<table border=\"1\" class=\"dataframe\">\n",
       "  <thead>\n",
       "    <tr style=\"text-align: right;\">\n",
       "      <th></th>\n",
       "      <th>Female</th>\n",
       "      <th>Age</th>\n",
       "      <th>Academic Pressure</th>\n",
       "      <th>CGPA</th>\n",
       "      <th>Study Satisfaction</th>\n",
       "      <th>Thoughts</th>\n",
       "      <th>Work/Study Hours</th>\n",
       "      <th>Financial Stress</th>\n",
       "      <th>Family History</th>\n",
       "      <th>Sleep_Cat</th>\n",
       "      <th>...</th>\n",
       "      <th>Dietary Habits_Moderate</th>\n",
       "      <th>Dietary Habits_Unhealthy</th>\n",
       "      <th>Degree_Cat_Bachelor</th>\n",
       "      <th>Degree_Cat_High School</th>\n",
       "      <th>Degree_Cat_Master</th>\n",
       "      <th>Degree_Cat_PhD</th>\n",
       "      <th>City_Cat_100k</th>\n",
       "      <th>City_Cat_1M</th>\n",
       "      <th>City_Cat_Rest</th>\n",
       "      <th>Depression_Index</th>\n",
       "    </tr>\n",
       "    <tr>\n",
       "      <th>id</th>\n",
       "      <th></th>\n",
       "      <th></th>\n",
       "      <th></th>\n",
       "      <th></th>\n",
       "      <th></th>\n",
       "      <th></th>\n",
       "      <th></th>\n",
       "      <th></th>\n",
       "      <th></th>\n",
       "      <th></th>\n",
       "      <th></th>\n",
       "      <th></th>\n",
       "      <th></th>\n",
       "      <th></th>\n",
       "      <th></th>\n",
       "      <th></th>\n",
       "      <th></th>\n",
       "      <th></th>\n",
       "      <th></th>\n",
       "      <th></th>\n",
       "      <th></th>\n",
       "    </tr>\n",
       "  </thead>\n",
       "  <tbody>\n",
       "    <tr>\n",
       "      <th>2</th>\n",
       "      <td>0</td>\n",
       "      <td>0.882353</td>\n",
       "      <td>1.00</td>\n",
       "      <td>0.792757</td>\n",
       "      <td>0.25</td>\n",
       "      <td>1</td>\n",
       "      <td>0.250000</td>\n",
       "      <td>1.0</td>\n",
       "      <td>0</td>\n",
       "      <td>0.0</td>\n",
       "      <td>...</td>\n",
       "      <td>0.0</td>\n",
       "      <td>0.0</td>\n",
       "      <td>1.0</td>\n",
       "      <td>0.0</td>\n",
       "      <td>0.0</td>\n",
       "      <td>0.0</td>\n",
       "      <td>0.0</td>\n",
       "      <td>1.0</td>\n",
       "      <td>0.0</td>\n",
       "      <td>1.0</td>\n",
       "    </tr>\n",
       "    <tr>\n",
       "      <th>8</th>\n",
       "      <td>1</td>\n",
       "      <td>0.352941</td>\n",
       "      <td>0.25</td>\n",
       "      <td>0.175050</td>\n",
       "      <td>1.00</td>\n",
       "      <td>0</td>\n",
       "      <td>0.250000</td>\n",
       "      <td>0.0</td>\n",
       "      <td>1</td>\n",
       "      <td>0.0</td>\n",
       "      <td>...</td>\n",
       "      <td>1.0</td>\n",
       "      <td>0.0</td>\n",
       "      <td>1.0</td>\n",
       "      <td>0.0</td>\n",
       "      <td>0.0</td>\n",
       "      <td>0.0</td>\n",
       "      <td>0.0</td>\n",
       "      <td>1.0</td>\n",
       "      <td>0.0</td>\n",
       "      <td>0.0</td>\n",
       "    </tr>\n",
       "    <tr>\n",
       "      <th>26</th>\n",
       "      <td>0</td>\n",
       "      <td>0.764706</td>\n",
       "      <td>0.50</td>\n",
       "      <td>0.402414</td>\n",
       "      <td>1.00</td>\n",
       "      <td>0</td>\n",
       "      <td>0.750000</td>\n",
       "      <td>0.0</td>\n",
       "      <td>1</td>\n",
       "      <td>0.0</td>\n",
       "      <td>...</td>\n",
       "      <td>0.0</td>\n",
       "      <td>0.0</td>\n",
       "      <td>1.0</td>\n",
       "      <td>0.0</td>\n",
       "      <td>0.0</td>\n",
       "      <td>0.0</td>\n",
       "      <td>0.0</td>\n",
       "      <td>0.0</td>\n",
       "      <td>1.0</td>\n",
       "      <td>0.0</td>\n",
       "    </tr>\n",
       "    <tr>\n",
       "      <th>30</th>\n",
       "      <td>1</td>\n",
       "      <td>0.588235</td>\n",
       "      <td>0.50</td>\n",
       "      <td>0.112676</td>\n",
       "      <td>0.25</td>\n",
       "      <td>1</td>\n",
       "      <td>0.333333</td>\n",
       "      <td>1.0</td>\n",
       "      <td>1</td>\n",
       "      <td>1.0</td>\n",
       "      <td>...</td>\n",
       "      <td>1.0</td>\n",
       "      <td>0.0</td>\n",
       "      <td>1.0</td>\n",
       "      <td>0.0</td>\n",
       "      <td>0.0</td>\n",
       "      <td>0.0</td>\n",
       "      <td>0.0</td>\n",
       "      <td>0.0</td>\n",
       "      <td>1.0</td>\n",
       "      <td>1.0</td>\n",
       "    </tr>\n",
       "    <tr>\n",
       "      <th>32</th>\n",
       "      <td>1</td>\n",
       "      <td>0.411765</td>\n",
       "      <td>0.75</td>\n",
       "      <td>0.623742</td>\n",
       "      <td>0.50</td>\n",
       "      <td>1</td>\n",
       "      <td>0.083333</td>\n",
       "      <td>0.0</td>\n",
       "      <td>0</td>\n",
       "      <td>0.0</td>\n",
       "      <td>...</td>\n",
       "      <td>1.0</td>\n",
       "      <td>0.0</td>\n",
       "      <td>0.0</td>\n",
       "      <td>0.0</td>\n",
       "      <td>1.0</td>\n",
       "      <td>0.0</td>\n",
       "      <td>0.0</td>\n",
       "      <td>1.0</td>\n",
       "      <td>0.0</td>\n",
       "      <td>0.0</td>\n",
       "    </tr>\n",
       "    <tr>\n",
       "      <th>...</th>\n",
       "      <td>...</td>\n",
       "      <td>...</td>\n",
       "      <td>...</td>\n",
       "      <td>...</td>\n",
       "      <td>...</td>\n",
       "      <td>...</td>\n",
       "      <td>...</td>\n",
       "      <td>...</td>\n",
       "      <td>...</td>\n",
       "      <td>...</td>\n",
       "      <td>...</td>\n",
       "      <td>...</td>\n",
       "      <td>...</td>\n",
       "      <td>...</td>\n",
       "      <td>...</td>\n",
       "      <td>...</td>\n",
       "      <td>...</td>\n",
       "      <td>...</td>\n",
       "      <td>...</td>\n",
       "      <td>...</td>\n",
       "      <td>...</td>\n",
       "    </tr>\n",
       "    <tr>\n",
       "      <th>140685</th>\n",
       "      <td>1</td>\n",
       "      <td>0.529412</td>\n",
       "      <td>1.00</td>\n",
       "      <td>0.144869</td>\n",
       "      <td>1.00</td>\n",
       "      <td>1</td>\n",
       "      <td>0.583333</td>\n",
       "      <td>0.0</td>\n",
       "      <td>1</td>\n",
       "      <td>0.0</td>\n",
       "      <td>...</td>\n",
       "      <td>0.0</td>\n",
       "      <td>1.0</td>\n",
       "      <td>0.0</td>\n",
       "      <td>1.0</td>\n",
       "      <td>0.0</td>\n",
       "      <td>0.0</td>\n",
       "      <td>0.0</td>\n",
       "      <td>1.0</td>\n",
       "      <td>0.0</td>\n",
       "      <td>0.0</td>\n",
       "    </tr>\n",
       "    <tr>\n",
       "      <th>140686</th>\n",
       "      <td>0</td>\n",
       "      <td>0.529412</td>\n",
       "      <td>0.25</td>\n",
       "      <td>0.879276</td>\n",
       "      <td>0.50</td>\n",
       "      <td>0</td>\n",
       "      <td>0.000000</td>\n",
       "      <td>0.0</td>\n",
       "      <td>1</td>\n",
       "      <td>0.0</td>\n",
       "      <td>...</td>\n",
       "      <td>0.0</td>\n",
       "      <td>0.0</td>\n",
       "      <td>0.0</td>\n",
       "      <td>0.0</td>\n",
       "      <td>1.0</td>\n",
       "      <td>0.0</td>\n",
       "      <td>0.0</td>\n",
       "      <td>0.0</td>\n",
       "      <td>1.0</td>\n",
       "      <td>0.0</td>\n",
       "    </tr>\n",
       "    <tr>\n",
       "      <th>140689</th>\n",
       "      <td>0</td>\n",
       "      <td>0.764706</td>\n",
       "      <td>0.50</td>\n",
       "      <td>0.317907</td>\n",
       "      <td>0.75</td>\n",
       "      <td>0</td>\n",
       "      <td>1.000000</td>\n",
       "      <td>0.0</td>\n",
       "      <td>0</td>\n",
       "      <td>0.0</td>\n",
       "      <td>...</td>\n",
       "      <td>0.0</td>\n",
       "      <td>1.0</td>\n",
       "      <td>0.0</td>\n",
       "      <td>0.0</td>\n",
       "      <td>1.0</td>\n",
       "      <td>0.0</td>\n",
       "      <td>0.0</td>\n",
       "      <td>0.0</td>\n",
       "      <td>1.0</td>\n",
       "      <td>0.0</td>\n",
       "    </tr>\n",
       "    <tr>\n",
       "      <th>140690</th>\n",
       "      <td>1</td>\n",
       "      <td>0.000000</td>\n",
       "      <td>1.00</td>\n",
       "      <td>0.372233</td>\n",
       "      <td>0.25</td>\n",
       "      <td>1</td>\n",
       "      <td>0.833333</td>\n",
       "      <td>1.0</td>\n",
       "      <td>0</td>\n",
       "      <td>0.0</td>\n",
       "      <td>...</td>\n",
       "      <td>0.0</td>\n",
       "      <td>0.0</td>\n",
       "      <td>0.0</td>\n",
       "      <td>1.0</td>\n",
       "      <td>0.0</td>\n",
       "      <td>0.0</td>\n",
       "      <td>0.0</td>\n",
       "      <td>0.0</td>\n",
       "      <td>1.0</td>\n",
       "      <td>1.0</td>\n",
       "    </tr>\n",
       "    <tr>\n",
       "      <th>140699</th>\n",
       "      <td>0</td>\n",
       "      <td>0.529412</td>\n",
       "      <td>0.75</td>\n",
       "      <td>0.847082</td>\n",
       "      <td>0.00</td>\n",
       "      <td>1</td>\n",
       "      <td>0.166667</td>\n",
       "      <td>1.0</td>\n",
       "      <td>1</td>\n",
       "      <td>0.0</td>\n",
       "      <td>...</td>\n",
       "      <td>0.0</td>\n",
       "      <td>0.0</td>\n",
       "      <td>1.0</td>\n",
       "      <td>0.0</td>\n",
       "      <td>0.0</td>\n",
       "      <td>0.0</td>\n",
       "      <td>0.0</td>\n",
       "      <td>0.0</td>\n",
       "      <td>1.0</td>\n",
       "      <td>1.0</td>\n",
       "    </tr>\n",
       "  </tbody>\n",
       "</table>\n",
       "<p>27822 rows × 21 columns</p>\n",
       "</div>"
      ],
      "text/plain": [
       "        Female       Age  Academic Pressure      CGPA  Study Satisfaction  \\\n",
       "id                                                                          \n",
       "2            0  0.882353               1.00  0.792757                0.25   \n",
       "8            1  0.352941               0.25  0.175050                1.00   \n",
       "26           0  0.764706               0.50  0.402414                1.00   \n",
       "30           1  0.588235               0.50  0.112676                0.25   \n",
       "32           1  0.411765               0.75  0.623742                0.50   \n",
       "...        ...       ...                ...       ...                 ...   \n",
       "140685       1  0.529412               1.00  0.144869                1.00   \n",
       "140686       0  0.529412               0.25  0.879276                0.50   \n",
       "140689       0  0.764706               0.50  0.317907                0.75   \n",
       "140690       1  0.000000               1.00  0.372233                0.25   \n",
       "140699       0  0.529412               0.75  0.847082                0.00   \n",
       "\n",
       "        Thoughts  Work/Study Hours  Financial Stress  Family History  \\\n",
       "id                                                                     \n",
       "2              1          0.250000               1.0               0   \n",
       "8              0          0.250000               0.0               1   \n",
       "26             0          0.750000               0.0               1   \n",
       "30             1          0.333333               1.0               1   \n",
       "32             1          0.083333               0.0               0   \n",
       "...          ...               ...               ...             ...   \n",
       "140685         1          0.583333               0.0               1   \n",
       "140686         0          0.000000               0.0               1   \n",
       "140689         0          1.000000               0.0               0   \n",
       "140690         1          0.833333               1.0               0   \n",
       "140699         1          0.166667               1.0               1   \n",
       "\n",
       "        Sleep_Cat  ...  Dietary Habits_Moderate  Dietary Habits_Unhealthy  \\\n",
       "id                 ...                                                      \n",
       "2             0.0  ...                      0.0                       0.0   \n",
       "8             0.0  ...                      1.0                       0.0   \n",
       "26            0.0  ...                      0.0                       0.0   \n",
       "30            1.0  ...                      1.0                       0.0   \n",
       "32            0.0  ...                      1.0                       0.0   \n",
       "...           ...  ...                      ...                       ...   \n",
       "140685        0.0  ...                      0.0                       1.0   \n",
       "140686        0.0  ...                      0.0                       0.0   \n",
       "140689        0.0  ...                      0.0                       1.0   \n",
       "140690        0.0  ...                      0.0                       0.0   \n",
       "140699        0.0  ...                      0.0                       0.0   \n",
       "\n",
       "        Degree_Cat_Bachelor  Degree_Cat_High School  Degree_Cat_Master  \\\n",
       "id                                                                       \n",
       "2                       1.0                     0.0                0.0   \n",
       "8                       1.0                     0.0                0.0   \n",
       "26                      1.0                     0.0                0.0   \n",
       "30                      1.0                     0.0                0.0   \n",
       "32                      0.0                     0.0                1.0   \n",
       "...                     ...                     ...                ...   \n",
       "140685                  0.0                     1.0                0.0   \n",
       "140686                  0.0                     0.0                1.0   \n",
       "140689                  0.0                     0.0                1.0   \n",
       "140690                  0.0                     1.0                0.0   \n",
       "140699                  1.0                     0.0                0.0   \n",
       "\n",
       "        Degree_Cat_PhD  City_Cat_100k  City_Cat_1M  City_Cat_Rest  \\\n",
       "id                                                                  \n",
       "2                  0.0            0.0          1.0            0.0   \n",
       "8                  0.0            0.0          1.0            0.0   \n",
       "26                 0.0            0.0          0.0            1.0   \n",
       "30                 0.0            0.0          0.0            1.0   \n",
       "32                 0.0            0.0          1.0            0.0   \n",
       "...                ...            ...          ...            ...   \n",
       "140685             0.0            0.0          1.0            0.0   \n",
       "140686             0.0            0.0          0.0            1.0   \n",
       "140689             0.0            0.0          0.0            1.0   \n",
       "140690             0.0            0.0          0.0            1.0   \n",
       "140699             0.0            0.0          0.0            1.0   \n",
       "\n",
       "        Depression_Index  \n",
       "id                        \n",
       "2                    1.0  \n",
       "8                    0.0  \n",
       "26                   0.0  \n",
       "30                   1.0  \n",
       "32                   0.0  \n",
       "...                  ...  \n",
       "140685               0.0  \n",
       "140686               0.0  \n",
       "140689               0.0  \n",
       "140690               1.0  \n",
       "140699               1.0  \n",
       "\n",
       "[27822 rows x 21 columns]"
      ]
     },
     "execution_count": 40,
     "metadata": {},
     "output_type": "execute_result"
    }
   ],
   "source": [
    "encoder = OneHotEncoder(sparse_output=False)\n",
    "one_hot_encoded = encoder.fit_transform(data)\n",
    "df_onehot = pd.DataFrame(one_hot_encoded, columns=encoder.get_feature_names_out(), index=data.index)\n",
    "\n",
    "df = df.drop(df.columns[categorical], axis=1).join(df_onehot)\n",
    "\n",
    "#Reorder features and set index\n",
    "df.loc[df['Depression'] == 1, 'Depression_Index'] = 1\n",
    "df.loc[df['Depression'] == 0, 'Depression_Index'] = 0\n",
    "df = df.drop('Depression', axis=1)\n",
    "df.set_index('id')"
   ]
  },
  {
   "cell_type": "markdown",
   "id": "1ce255b7",
   "metadata": {},
   "source": [
    "Done! This is what the first row of our data frame now looks like:"
   ]
  },
  {
   "cell_type": "code",
   "execution_count": 41,
   "id": "301a5ddd",
   "metadata": {
    "scrolled": false
   },
   "outputs": [
    {
     "data": {
      "text/plain": [
       "id                          2.000000\n",
       "Female                      0.000000\n",
       "Age                         0.882353\n",
       "Academic Pressure           1.000000\n",
       "CGPA                        0.792757\n",
       "Study Satisfaction          0.250000\n",
       "Thoughts                    1.000000\n",
       "Work/Study Hours            0.250000\n",
       "Financial Stress            1.000000\n",
       "Family History              0.000000\n",
       "Sleep_Cat                   0.000000\n",
       "Dietary Habits_Healthy      1.000000\n",
       "Dietary Habits_Moderate     0.000000\n",
       "Dietary Habits_Unhealthy    0.000000\n",
       "Degree_Cat_Bachelor         1.000000\n",
       "Degree_Cat_High School      0.000000\n",
       "Degree_Cat_Master           0.000000\n",
       "Degree_Cat_PhD              0.000000\n",
       "City_Cat_100k               0.000000\n",
       "City_Cat_1M                 1.000000\n",
       "City_Cat_Rest               0.000000\n",
       "Depression_Index            1.000000\n",
       "Name: 0, dtype: float64"
      ]
     },
     "execution_count": 41,
     "metadata": {},
     "output_type": "execute_result"
    }
   ],
   "source": [
    "df.iloc[0,:]"
   ]
  },
  {
   "cell_type": "markdown",
   "id": "e8564a54",
   "metadata": {},
   "source": [
    "<p> <br> </p>\n",
    "<p> <br> </p>\n",
    "<p> <br> </p>\n",
    "<p> <br> </p>\n",
    "<p> <br> </p>"
   ]
  },
  {
   "cell_type": "markdown",
   "id": "49e50902",
   "metadata": {},
   "source": [
    "__________________________\n",
    "# 3. Selecting and building models"
   ]
  },
  {
   "cell_type": "markdown",
   "id": "e3dc182e",
   "metadata": {},
   "source": [
    " "
   ]
  },
  {
   "cell_type": "code",
   "execution_count": 42,
   "id": "87608f35",
   "metadata": {},
   "outputs": [],
   "source": [
    "#Splitting data into training features and target feature\n",
    "X = df.iloc[:, 0:-1]\n",
    "y = df.iloc[:, -1]\n",
    "\n",
    "#Creating training, validation and test set\n",
    "X_new, X_test, y_new, y_test = train_test_split(X, y, random_state=42, test_size=0.1, stratify=X[['Female', 'Age']])\n",
    "X_train, X_val, y_train, y_val = train_test_split(X_new, y_new, random_state=42, test_size=0.2, stratify=X_new[['Female', 'Age']])"
   ]
  },
  {
   "cell_type": "markdown",
   "id": "3fb17d19",
   "metadata": {},
   "source": [
    "Building a Logistic Regression model and printing its confusion matrix:"
   ]
  },
  {
   "cell_type": "code",
   "execution_count": 43,
   "id": "da345ff5",
   "metadata": {
    "scrolled": false
   },
   "outputs": [
    {
     "data": {
      "text/plain": [
       "array([[2112,    0],\n",
       "       [   0, 2896]])"
      ]
     },
     "execution_count": 43,
     "metadata": {},
     "output_type": "execute_result"
    }
   ],
   "source": [
    "logreg = LogisticRegression(random_state=42, max_iter=1100)\n",
    "logreg.fit(X_train, y_train)\n",
    "y_predict = cross_val_predict(logreg, X_val, y_val, cv=3)\n",
    "cm_logreg = confusion_matrix(y_val, y_predict)\n",
    "cm_logreg"
   ]
  },
  {
   "cell_type": "code",
   "execution_count": 44,
   "id": "9c69b1ec",
   "metadata": {
    "scrolled": true
   },
   "outputs": [
    {
     "data": {
      "image/png": "[encoded data removed]",
      "text/plain": [
       "<Figure size 500x300 with 2 Axes>"
      ]
     },
     "metadata": {},
     "output_type": "display_data"
    }
   ],
   "source": [
    "plt.figure(figsize=(5, 3))\n",
    "sns.heatmap(cm_logreg, annot=True, fmt='d', cmap='crest', xticklabels=['Predicted: 0', 'Predicted: 1'], yticklabels=['Real: 0', 'Real: 1'])\n",
    "plt.title('LogReg Confusion Matrix \\n on Training and Validation Set')\n",
    "plt.xlabel('Predicted Values')\n",
    "plt.ylabel('Actual Values')\n",
    "plt.show()"
   ]
  },
  {
   "cell_type": "markdown",
   "id": "9c80bec1",
   "metadata": {},
   "source": [
    "Building a Decision Tree Classifier model and printing its confusion matrix:"
   ]
  },
  {
   "cell_type": "code",
   "execution_count": 45,
   "id": "bda9cee7",
   "metadata": {},
   "outputs": [
    {
     "data": {
      "text/plain": [
       "array([[2112,    0],\n",
       "       [   0, 2896]])"
      ]
     },
     "execution_count": 45,
     "metadata": {},
     "output_type": "execute_result"
    }
   ],
   "source": [
    "treeclf = DecisionTreeClassifier(random_state=42)\n",
    "treeclf.fit(X_train, y_train)\n",
    "y_predict = cross_val_predict(treeclf, X_val, y_val, cv=3)\n",
    "cm_treeclf = confusion_matrix(y_val, y_predict)\n",
    "cm_treeclf"
   ]
  },
  {
   "cell_type": "code",
   "execution_count": 46,
   "id": "9f3d48f3",
   "metadata": {},
   "outputs": [
    {
     "data": {
      "image/png": "[encoded data removed]",
      "text/plain": [
       "<Figure size 500x300 with 2 Axes>"
      ]
     },
     "metadata": {},
     "output_type": "display_data"
    }
   ],
   "source": [
    "plt.figure(figsize=(5, 3))\n",
    "sns.heatmap(cm_treeclf, annot=True, fmt='d', cmap='crest', xticklabels=['Predicted: 0', 'Predicted: 1'], yticklabels=['Real: 0', 'Real: 1'])\n",
    "plt.title('Tree Confusion Matrix \\n on Training and Validation Set')\n",
    "plt.xlabel('Predicted Values')\n",
    "plt.ylabel('Actual Values')\n",
    "plt.show()"
   ]
  },
  {
   "cell_type": "markdown",
   "id": "3f07dd3f",
   "metadata": {},
   "source": [
    "<p> <br> </p>\n",
    "<p> <br> </p>\n",
    "<p> <br> </p>\n",
    "<p> <br> </p>\n",
    "<p> <br> </p>"
   ]
  },
  {
   "cell_type": "markdown",
   "id": "712f7df9",
   "metadata": {},
   "source": [
    "__________________________\n",
    "# 4. Evaluating the models"
   ]
  },
  {
   "cell_type": "markdown",
   "id": "44e1926c",
   "metadata": {},
   "source": [
    "We repeat the procedure using the test set."
   ]
  },
  {
   "cell_type": "code",
   "execution_count": 47,
   "id": "1079cce2",
   "metadata": {},
   "outputs": [
    {
     "data": {
      "image/png": "[encoded data removed]",
      "text/plain": [
       "<Figure size 500x300 with 2 Axes>"
      ]
     },
     "metadata": {},
     "output_type": "display_data"
    }
   ],
   "source": [
    "logreg = LogisticRegression(random_state=42, max_iter=1100)\n",
    "logreg.fit(X_new, y_new)\n",
    "y_predict = cross_val_predict(logreg, X_test, y_test, cv=3)\n",
    "cm_logreg = confusion_matrix(y_test, y_predict)\n",
    "\n",
    "plt.figure(figsize=(5, 3))\n",
    "sns.heatmap(cm_logreg, annot=True, fmt='d', cmap='crest', xticklabels=['Predicted: 0', 'Predicted: 1'], yticklabels=['Real: 0', 'Real: 1'])\n",
    "plt.title('LogReg Confusion Matrix \\n on Test Set')\n",
    "plt.xlabel('Predicted Values')\n",
    "plt.ylabel('Actual Values')\n",
    "plt.show()"
   ]
  },
  {
   "cell_type": "code",
   "execution_count": 48,
   "id": "e6162ab1",
   "metadata": {
    "scrolled": true
   },
   "outputs": [
    {
     "data": {
      "image/png": "[encoded data removed]",
      "text/plain": [
       "<Figure size 500x300 with 2 Axes>"
      ]
     },
     "metadata": {},
     "output_type": "display_data"
    }
   ],
   "source": [
    "treeclf = DecisionTreeClassifier(random_state=42)\n",
    "treeclf.fit(X_new, y_new)\n",
    "y_predict = cross_val_predict(treeclf, X_test, y_test, cv=3)\n",
    "cm_treeclf = confusion_matrix(y_test, y_predict)\n",
    "\n",
    "plt.figure(figsize=(5, 3))\n",
    "sns.heatmap(cm_treeclf, annot=True, fmt='d', cmap='crest', xticklabels=['Predicted: 0', 'Predicted: 1'], yticklabels=['Real: 0', 'Real: 1'])\n",
    "plt.title('Tree Confusion Matrix \\n on Test Set')\n",
    "plt.xlabel('Predicted Values')\n",
    "plt.ylabel('Actual Values')\n",
    "plt.show()"
   ]
  },
  {
   "cell_type": "markdown",
   "id": "1f04dcb8",
   "metadata": {},
   "source": [
    "Both our models predict our target feature with perfect accuracy! What just happened?"
   ]
  },
  {
   "cell_type": "markdown",
   "id": "bfc05e41",
   "metadata": {},
   "source": [
    "Clearly, this would not have happened with a real dataset. The reason both models can predict the values with perfect accuracy is that the dataset has been artificially created. The instances have been created by specifying certain rules, and both models can detect them easily, even without cross validation."
   ]
  },
  {
   "cell_type": "markdown",
   "id": "64bb277b",
   "metadata": {},
   "source": [
    "With a real dataset, we would have already spotted differences when predicting values in the validation set. What would we have done in this case? First, we would have tuned both model parameters, then we would have selected the best-performing models according to our performance measure, trained it on both the training and validation set, and measured its performance on the test set."
   ]
  }
 ],
 "metadata": {
  "kernelspec": {
   "display_name": "Python 3 (ipykernel)",
   "language": "python",
   "name": "python3"
  },
  "language_info": {
   "codemirror_mode": {
    "name": "ipython",
    "version": 3
   },
   "file_extension": ".py",
   "mimetype": "text/x-python",
   "name": "python",
   "nbconvert_exporter": "python",
   "pygments_lexer": "ipython3",
   "version": "3.12.3"
  }
 },
 "nbformat": 4,
 "nbformat_minor": 5
}
